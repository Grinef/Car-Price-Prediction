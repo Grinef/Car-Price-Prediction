{
 "cells": [
  {
   "cell_type": "markdown",
   "metadata": {},
   "source": [
    "# Определение стоимости автомобилей"
   ]
  },
  {
   "cell_type": "markdown",
   "metadata": {},
   "source": [
    "Сервис по продаже автомобилей с пробегом «Не бит, не крашен» разрабатывает приложение для привлечения новых клиентов. В нём можно быстро узнать рыночную стоимость своего автомобиля. В вашем распоряжении исторические данные: технические характеристики, комплектации и цены автомобилей. Вам нужно построить модель для определения стоимости. \n",
    "\n",
    "Заказчику важны:\n",
    "\n",
    "- качество предсказания;\n",
    "- скорость предсказания;\n",
    "- время обучения."
   ]
  },
  {
   "cell_type": "code",
   "execution_count": 3,
   "metadata": {},
   "outputs": [],
   "source": [
    "%%capture\n",
    "\n",
    "! pip install lightgbm"
   ]
  },
  {
   "cell_type": "code",
   "execution_count": 4,
   "metadata": {},
   "outputs": [],
   "source": [
    "# загрузка библиотеки\n",
    "import pandas as pd\n",
    "import numpy as np\n",
    "import matplotlib.pyplot as plt\n",
    "\n",
    "\n",
    "from sklearn.pipeline import Pipeline\n",
    "from sklearn.compose import ColumnTransformer\n",
    "\n",
    "from sklearn.preprocessing import StandardScaler\n",
    "from sklearn.preprocessing import OrdinalEncoder\n",
    "\n",
    "from sklearn.model_selection import cross_val_score\n",
    "from sklearn.model_selection import RandomizedSearchCV\n",
    "from sklearn.model_selection import train_test_split\n",
    "\n",
    "from sklearn.linear_model import LinearRegression\n",
    "from lightgbm import LGBMRegressor\n",
    "\n",
    "from sklearn.metrics import mean_squared_error\n",
    "from sklearn.metrics import make_scorer"
   ]
  },
  {
   "cell_type": "code",
   "execution_count": 5,
   "metadata": {},
   "outputs": [],
   "source": [
    "# настройки ноутбука\n",
    "import warnings\n",
    "warnings.filterwarnings(\"ignore\")\n",
    "\n",
    "pd.set_option('display.max_columns', None)"
   ]
  },
  {
   "cell_type": "markdown",
   "metadata": {},
   "source": [
    "## Подготовка данных"
   ]
  },
  {
   "cell_type": "code",
   "execution_count": 6,
   "metadata": {},
   "outputs": [],
   "source": [
    "df = pd.read_csv('/datasets/autos.csv') # загрузим данные"
   ]
  },
  {
   "cell_type": "code",
   "execution_count": 7,
   "metadata": {},
   "outputs": [
    {
     "data": {
      "text/html": [
       "<div>\n",
       "<style scoped>\n",
       "    .dataframe tbody tr th:only-of-type {\n",
       "        vertical-align: middle;\n",
       "    }\n",
       "\n",
       "    .dataframe tbody tr th {\n",
       "        vertical-align: top;\n",
       "    }\n",
       "\n",
       "    .dataframe thead th {\n",
       "        text-align: right;\n",
       "    }\n",
       "</style>\n",
       "<table border=\"1\" class=\"dataframe\">\n",
       "  <thead>\n",
       "    <tr style=\"text-align: right;\">\n",
       "      <th></th>\n",
       "      <th>DateCrawled</th>\n",
       "      <th>Price</th>\n",
       "      <th>VehicleType</th>\n",
       "      <th>RegistrationYear</th>\n",
       "      <th>Gearbox</th>\n",
       "      <th>Power</th>\n",
       "      <th>Model</th>\n",
       "      <th>Kilometer</th>\n",
       "      <th>RegistrationMonth</th>\n",
       "      <th>FuelType</th>\n",
       "      <th>Brand</th>\n",
       "      <th>Repaired</th>\n",
       "      <th>DateCreated</th>\n",
       "      <th>NumberOfPictures</th>\n",
       "      <th>PostalCode</th>\n",
       "      <th>LastSeen</th>\n",
       "    </tr>\n",
       "  </thead>\n",
       "  <tbody>\n",
       "    <tr>\n",
       "      <th>0</th>\n",
       "      <td>2016-03-24 11:52:17</td>\n",
       "      <td>480</td>\n",
       "      <td>NaN</td>\n",
       "      <td>1993</td>\n",
       "      <td>manual</td>\n",
       "      <td>0</td>\n",
       "      <td>golf</td>\n",
       "      <td>150000</td>\n",
       "      <td>0</td>\n",
       "      <td>petrol</td>\n",
       "      <td>volkswagen</td>\n",
       "      <td>NaN</td>\n",
       "      <td>2016-03-24 00:00:00</td>\n",
       "      <td>0</td>\n",
       "      <td>70435</td>\n",
       "      <td>2016-04-07 03:16:57</td>\n",
       "    </tr>\n",
       "    <tr>\n",
       "      <th>1</th>\n",
       "      <td>2016-03-24 10:58:45</td>\n",
       "      <td>18300</td>\n",
       "      <td>coupe</td>\n",
       "      <td>2011</td>\n",
       "      <td>manual</td>\n",
       "      <td>190</td>\n",
       "      <td>NaN</td>\n",
       "      <td>125000</td>\n",
       "      <td>5</td>\n",
       "      <td>gasoline</td>\n",
       "      <td>audi</td>\n",
       "      <td>yes</td>\n",
       "      <td>2016-03-24 00:00:00</td>\n",
       "      <td>0</td>\n",
       "      <td>66954</td>\n",
       "      <td>2016-04-07 01:46:50</td>\n",
       "    </tr>\n",
       "    <tr>\n",
       "      <th>2</th>\n",
       "      <td>2016-03-14 12:52:21</td>\n",
       "      <td>9800</td>\n",
       "      <td>suv</td>\n",
       "      <td>2004</td>\n",
       "      <td>auto</td>\n",
       "      <td>163</td>\n",
       "      <td>grand</td>\n",
       "      <td>125000</td>\n",
       "      <td>8</td>\n",
       "      <td>gasoline</td>\n",
       "      <td>jeep</td>\n",
       "      <td>NaN</td>\n",
       "      <td>2016-03-14 00:00:00</td>\n",
       "      <td>0</td>\n",
       "      <td>90480</td>\n",
       "      <td>2016-04-05 12:47:46</td>\n",
       "    </tr>\n",
       "    <tr>\n",
       "      <th>3</th>\n",
       "      <td>2016-03-17 16:54:04</td>\n",
       "      <td>1500</td>\n",
       "      <td>small</td>\n",
       "      <td>2001</td>\n",
       "      <td>manual</td>\n",
       "      <td>75</td>\n",
       "      <td>golf</td>\n",
       "      <td>150000</td>\n",
       "      <td>6</td>\n",
       "      <td>petrol</td>\n",
       "      <td>volkswagen</td>\n",
       "      <td>no</td>\n",
       "      <td>2016-03-17 00:00:00</td>\n",
       "      <td>0</td>\n",
       "      <td>91074</td>\n",
       "      <td>2016-03-17 17:40:17</td>\n",
       "    </tr>\n",
       "    <tr>\n",
       "      <th>4</th>\n",
       "      <td>2016-03-31 17:25:20</td>\n",
       "      <td>3600</td>\n",
       "      <td>small</td>\n",
       "      <td>2008</td>\n",
       "      <td>manual</td>\n",
       "      <td>69</td>\n",
       "      <td>fabia</td>\n",
       "      <td>90000</td>\n",
       "      <td>7</td>\n",
       "      <td>gasoline</td>\n",
       "      <td>skoda</td>\n",
       "      <td>no</td>\n",
       "      <td>2016-03-31 00:00:00</td>\n",
       "      <td>0</td>\n",
       "      <td>60437</td>\n",
       "      <td>2016-04-06 10:17:21</td>\n",
       "    </tr>\n",
       "  </tbody>\n",
       "</table>\n",
       "</div>"
      ],
      "text/plain": [
       "           DateCrawled  Price VehicleType  RegistrationYear Gearbox  Power  \\\n",
       "0  2016-03-24 11:52:17    480         NaN              1993  manual      0   \n",
       "1  2016-03-24 10:58:45  18300       coupe              2011  manual    190   \n",
       "2  2016-03-14 12:52:21   9800         suv              2004    auto    163   \n",
       "3  2016-03-17 16:54:04   1500       small              2001  manual     75   \n",
       "4  2016-03-31 17:25:20   3600       small              2008  manual     69   \n",
       "\n",
       "   Model  Kilometer  RegistrationMonth  FuelType       Brand Repaired  \\\n",
       "0   golf     150000                  0    petrol  volkswagen      NaN   \n",
       "1    NaN     125000                  5  gasoline        audi      yes   \n",
       "2  grand     125000                  8  gasoline        jeep      NaN   \n",
       "3   golf     150000                  6    petrol  volkswagen       no   \n",
       "4  fabia      90000                  7  gasoline       skoda       no   \n",
       "\n",
       "           DateCreated  NumberOfPictures  PostalCode             LastSeen  \n",
       "0  2016-03-24 00:00:00                 0       70435  2016-04-07 03:16:57  \n",
       "1  2016-03-24 00:00:00                 0       66954  2016-04-07 01:46:50  \n",
       "2  2016-03-14 00:00:00                 0       90480  2016-04-05 12:47:46  \n",
       "3  2016-03-17 00:00:00                 0       91074  2016-03-17 17:40:17  \n",
       "4  2016-03-31 00:00:00                 0       60437  2016-04-06 10:17:21  "
      ]
     },
     "execution_count": 7,
     "metadata": {},
     "output_type": "execute_result"
    }
   ],
   "source": [
    "df.head(5) "
   ]
  },
  {
   "cell_type": "code",
   "execution_count": 8,
   "metadata": {
    "scrolled": false
   },
   "outputs": [
    {
     "name": "stdout",
     "output_type": "stream",
     "text": [
      "<class 'pandas.core.frame.DataFrame'>\n",
      "RangeIndex: 354369 entries, 0 to 354368\n",
      "Data columns (total 16 columns):\n",
      " #   Column             Non-Null Count   Dtype \n",
      "---  ------             --------------   ----- \n",
      " 0   DateCrawled        354369 non-null  object\n",
      " 1   Price              354369 non-null  int64 \n",
      " 2   VehicleType        316879 non-null  object\n",
      " 3   RegistrationYear   354369 non-null  int64 \n",
      " 4   Gearbox            334536 non-null  object\n",
      " 5   Power              354369 non-null  int64 \n",
      " 6   Model              334664 non-null  object\n",
      " 7   Kilometer          354369 non-null  int64 \n",
      " 8   RegistrationMonth  354369 non-null  int64 \n",
      " 9   FuelType           321474 non-null  object\n",
      " 10  Brand              354369 non-null  object\n",
      " 11  Repaired           283215 non-null  object\n",
      " 12  DateCreated        354369 non-null  object\n",
      " 13  NumberOfPictures   354369 non-null  int64 \n",
      " 14  PostalCode         354369 non-null  int64 \n",
      " 15  LastSeen           354369 non-null  object\n",
      "dtypes: int64(7), object(9)\n",
      "memory usage: 43.3+ MB\n"
     ]
    },
    {
     "data": {
      "text/plain": [
       "(None,\n",
       " DateCrawled              0\n",
       " Price                    0\n",
       " VehicleType          37490\n",
       " RegistrationYear         0\n",
       " Gearbox              19833\n",
       " Power                    0\n",
       " Model                19705\n",
       " Kilometer                0\n",
       " RegistrationMonth        0\n",
       " FuelType             32895\n",
       " Brand                    0\n",
       " Repaired             71154\n",
       " DateCreated              0\n",
       " NumberOfPictures         0\n",
       " PostalCode               0\n",
       " LastSeen                 0\n",
       " dtype: int64)"
      ]
     },
     "execution_count": 8,
     "metadata": {},
     "output_type": "execute_result"
    }
   ],
   "source": [
    "df.info(), df.isna().sum() #157139"
   ]
  },
  {
   "cell_type": "markdown",
   "metadata": {},
   "source": [
    "В данных есть пропуски и нарушены типы данных. \n",
    "План очистки:\n",
    "    \n",
    "    1) преобразовать типы данных; \n",
    "    2) удалить дубликаты (явные и неявные);\n",
    "    3) заполнить пропуски;\n",
    "    4) изучить аномалии, выбросы, очистить данные;\n",
    "    5) изучить информативность и важность признаков."
   ]
  },
  {
   "cell_type": "markdown",
   "metadata": {},
   "source": [
    "### Преобразование типов данных; "
   ]
  },
  {
   "cell_type": "code",
   "execution_count": 9,
   "metadata": {},
   "outputs": [],
   "source": [
    "# дата создания объявления очень важный признак, его стоит не только преобразовать, но и распарсить.\n",
    "df['DateCreated'] = pd.to_datetime(df['DateCreated'], format='%Y-%m-%d') # запишем дату создания, как дату\n",
    "df['day_created'] = df['DateCreated'].dt.day\n",
    "df['weekday_created'] = df['DateCreated'].dt.day_name()       # создадим также название дня недели\n",
    "df['month_created'] = df['DateCreated'].dt.month              # поскольку может наблюдаться сезонность, например, на кабиролеты, то можно добавить признак - месяц.\n",
    "df['year_created'] = df['DateCreated'].dt.year                # год создания анкеты может также влиять на цену."
   ]
  },
  {
   "cell_type": "code",
   "execution_count": 10,
   "metadata": {},
   "outputs": [],
   "source": [
    "# А вот дата скачивания объявления кажется не очень важный признак. Тем не менее, можно достать год и месяц.\n",
    "df['DateCrawled'] = pd.to_datetime(df['DateCrawled'], format='%Y-%m-%d')\n",
    "df['month_crewled'] = df['DateCrawled'].dt.month\n",
    "df['month_crewled'] = df['DateCrawled'].dt.year"
   ]
  },
  {
   "cell_type": "code",
   "execution_count": 11,
   "metadata": {},
   "outputs": [
    {
     "data": {
      "text/plain": [
       "0    2016-04-07 03:16:57\n",
       "1    2016-04-07 01:46:50\n",
       "Name: LastSeen, dtype: object"
      ]
     },
     "execution_count": 11,
     "metadata": {},
     "output_type": "execute_result"
    }
   ],
   "source": [
    "df['LastSeen'].head(2)"
   ]
  },
  {
   "cell_type": "code",
   "execution_count": 12,
   "metadata": {},
   "outputs": [],
   "source": [
    "# дата последней активности пользователя может быть очень полезным признаком. Поскольку если пользователь давно не активен, \n",
    "# то возможно, и его объявление уже давно не активно\n",
    "df['LastSeen'] = pd.to_datetime(df['LastSeen'], format='%Y-%m-%d %H:%M:%S')\n",
    "df['last_seen_hour'] = df['LastSeen'].dt.hour\n",
    "df['last_seen_day'] = df['LastSeen'].dt.day\n",
    "df['last_seen_weekday'] = df['LastSeen'].dt.day_name()\n",
    "df['last_seen_month'] = df['LastSeen'].dt.month\n",
    "df['last_seen_year'] = df['LastSeen'].dt.year"
   ]
  },
  {
   "cell_type": "code",
   "execution_count": 13,
   "metadata": {},
   "outputs": [],
   "source": [
    "# далее удалим распаршенные признаки, чтобы избежать мультиколенниарности\n",
    "df = df.drop(columns=['DateCreated', 'LastSeen', 'DateCrawled'], axis=1)"
   ]
  },
  {
   "cell_type": "code",
   "execution_count": 14,
   "metadata": {},
   "outputs": [],
   "source": [
    "# снизим кодировку, с целью сокращения ресурсов памяти\n",
    "num_columns = df.select_dtypes('int64').columns   # отберём числовые колонки\n",
    "df[num_columns] = df[num_columns].astype('int32')"
   ]
  },
  {
   "cell_type": "markdown",
   "metadata": {},
   "source": [
    "### Избавление от дубликатов"
   ]
  },
  {
   "cell_type": "code",
   "execution_count": 15,
   "metadata": {},
   "outputs": [
    {
     "name": "stdout",
     "output_type": "stream",
     "text": [
      "(354369, 23)\n",
      "(352023, 23)\n"
     ]
    }
   ],
   "source": [
    "print(df.shape)\n",
    "df = df.drop_duplicates() # на всякий случай :)\n",
    "print(df.shape)\n",
    "cat_columns = df.select_dtypes('object').columns  # отберём нечисловые колонки"
   ]
  },
  {
   "cell_type": "code",
   "execution_count": 16,
   "metadata": {},
   "outputs": [
    {
     "name": "stdout",
     "output_type": "stream",
     "text": [
      "Уникальные значения в признаке VehicleType: ['bus', 'convertible', 'coupe', 'nan', 'other', 'sedan', 'small', 'suv', 'wagon'] \n",
      "\n",
      "Уникальные значения в признаке Gearbox: ['auto', 'manual', 'nan'] \n",
      "\n",
      "Уникальные значения в признаке Model: ['100', '145', '147', '156', '159', '1_reihe', '1er', '200', '2_reihe', '300c', '3_reihe', '3er', '4_reihe', '500', '5_reihe', '5er', '601', '6_reihe', '6er', '7er', '80', '850', '90', '900', '9000', '911', 'a1', 'a2', 'a3', 'a4', 'a5', 'a6', 'a8', 'a_klasse', 'accord', 'agila', 'alhambra', 'almera', 'altea', 'amarok', 'antara', 'arosa', 'astra', 'auris', 'avensis', 'aveo', 'aygo', 'b_klasse', 'b_max', 'beetle', 'berlingo', 'bora', 'boxster', 'bravo', 'c1', 'c2', 'c3', 'c4', 'c5', 'c_klasse', 'c_max', 'c_reihe', 'caddy', 'calibra', 'captiva', 'carisma', 'carnival', 'cayenne', 'cc', 'ceed', 'charade', 'cherokee', 'citigo', 'civic', 'cl', 'clio', 'clk', 'clubman', 'colt', 'combo', 'cooper', 'cordoba', 'corolla', 'corsa', 'cr_reihe', 'croma', 'crossfire', 'cuore', 'cx_reihe', 'defender', 'delta', 'discovery', 'doblo', 'ducato', 'duster', 'e_klasse', 'elefantino', 'eos', 'escort', 'espace', 'exeo', 'fabia', 'fiesta', 'focus', 'forester', 'forfour', 'fortwo', 'fox', 'freelander', 'fusion', 'g_klasse', 'galant', 'galaxy', 'getz', 'gl', 'glk', 'golf', 'grand', 'i3', 'i_reihe', 'ibiza', 'impreza', 'insignia', 'jazz', 'jetta', 'jimny', 'juke', 'justy', 'ka', 'kadett', 'kaefer', 'kalina', 'kalos', 'kangoo', 'kappa', 'kuga', 'laguna', 'lancer', 'lanos', 'legacy', 'leon', 'lodgy', 'logan', 'lupo', 'lybra', 'm_klasse', 'm_reihe', 'materia', 'matiz', 'megane', 'meriva', 'micra', 'mii', 'modus', 'mondeo', 'move', 'musa', 'mustang', 'mx_reihe', 'nan', 'navara', 'niva', 'note', 'nubira', 'octavia', 'omega', 'one', 'other', 'outlander', 'pajero', 'panda', 'passat', 'phaeton', 'picanto', 'polo', 'primera', 'ptcruiser', 'punto', 'q3', 'q5', 'q7', 'qashqai', 'r19', 'range_rover', 'range_rover_evoque', 'range_rover_sport', 'rangerover', 'rav', 'rio', 'roadster', 'roomster', 'rx_reihe', 's60', 's_klasse', 's_max', 's_type', 'samara', 'sandero', 'santa', 'scenic', 'scirocco', 'seicento', 'serie_1', 'serie_2', 'serie_3', 'sharan', 'signum', 'sirion', 'sl', 'slk', 'sorento', 'spark', 'spider', 'sportage', 'sprinter', 'stilo', 'superb', 'swift', 'terios', 'tigra', 'tiguan', 'toledo', 'touareg', 'touran', 'transit', 'transporter', 'tt', 'tucson', 'twingo', 'up', 'v40', 'v50', 'v60', 'v70', 'v_klasse', 'vectra', 'verso', 'viano', 'vito', 'vivaro', 'voyager', 'wrangler', 'x_reihe', 'x_trail', 'x_type', 'xc_reihe', 'yaris', 'yeti', 'ypsilon', 'z_reihe', 'zafira'] \n",
      "\n",
      "Уникальные значения в признаке FuelType: ['cng', 'electric', 'gasoline', 'hybrid', 'lpg', 'nan', 'other', 'petrol'] \n",
      "\n",
      "Уникальные значения в признаке Brand: ['alfa_romeo', 'audi', 'bmw', 'chevrolet', 'chrysler', 'citroen', 'dacia', 'daewoo', 'daihatsu', 'fiat', 'ford', 'honda', 'hyundai', 'jaguar', 'jeep', 'kia', 'lada', 'lancia', 'land_rover', 'mazda', 'mercedes_benz', 'mini', 'mitsubishi', 'nissan', 'opel', 'peugeot', 'porsche', 'renault', 'rover', 'saab', 'seat', 'skoda', 'smart', 'sonstige_autos', 'subaru', 'suzuki', 'toyota', 'trabant', 'volkswagen', 'volvo'] \n",
      "\n",
      "Уникальные значения в признаке Repaired: ['nan', 'no', 'yes'] \n",
      "\n",
      "Уникальные значения в признаке weekday_created: ['Friday', 'Monday', 'Saturday', 'Sunday', 'Thursday', 'Tuesday', 'Wednesday'] \n",
      "\n",
      "Уникальные значения в признаке last_seen_weekday: ['Friday', 'Monday', 'Saturday', 'Sunday', 'Thursday', 'Tuesday', 'Wednesday'] \n",
      "\n"
     ]
    }
   ],
   "source": [
    "for c_n in cat_columns:\n",
    "    # отсортируем для удобства отслеживания дубликатов\n",
    "    print(f'Уникальные значения в признаке {c_n}:', sorted([str(v) for v in df[c_n].unique()]), '\\n') "
   ]
  },
  {
   "cell_type": "markdown",
   "metadata": {},
   "source": [
    "**Дубликаты отсутсвуют.**"
   ]
  },
  {
   "cell_type": "markdown",
   "metadata": {},
   "source": [
    "### Избавление от пропусков"
   ]
  },
  {
   "cell_type": "code",
   "execution_count": 17,
   "metadata": {},
   "outputs": [],
   "source": [
    "# создадим объект, по которому должна осуществляться проверка пропусков\n",
    "\n",
    "test = df.query('Brand == \"audi\" & VehicleType == \"coupe\" & Power == 190 & FuelType == \"gasoline\" & RegistrationYear == 2011')"
   ]
  },
  {
   "cell_type": "code",
   "execution_count": 18,
   "metadata": {},
   "outputs": [
    {
     "data": {
      "text/html": [
       "<div>\n",
       "<style scoped>\n",
       "    .dataframe tbody tr th:only-of-type {\n",
       "        vertical-align: middle;\n",
       "    }\n",
       "\n",
       "    .dataframe tbody tr th {\n",
       "        vertical-align: top;\n",
       "    }\n",
       "\n",
       "    .dataframe thead th {\n",
       "        text-align: right;\n",
       "    }\n",
       "</style>\n",
       "<table border=\"1\" class=\"dataframe\">\n",
       "  <thead>\n",
       "    <tr style=\"text-align: right;\">\n",
       "      <th></th>\n",
       "      <th>Price</th>\n",
       "      <th>VehicleType</th>\n",
       "      <th>RegistrationYear</th>\n",
       "      <th>Gearbox</th>\n",
       "      <th>Power</th>\n",
       "      <th>Model</th>\n",
       "      <th>Kilometer</th>\n",
       "      <th>RegistrationMonth</th>\n",
       "      <th>FuelType</th>\n",
       "      <th>Brand</th>\n",
       "      <th>Repaired</th>\n",
       "      <th>NumberOfPictures</th>\n",
       "      <th>PostalCode</th>\n",
       "      <th>day_created</th>\n",
       "      <th>weekday_created</th>\n",
       "      <th>month_created</th>\n",
       "      <th>year_created</th>\n",
       "      <th>month_crewled</th>\n",
       "      <th>last_seen_hour</th>\n",
       "      <th>last_seen_day</th>\n",
       "      <th>last_seen_weekday</th>\n",
       "      <th>last_seen_month</th>\n",
       "      <th>last_seen_year</th>\n",
       "    </tr>\n",
       "  </thead>\n",
       "  <tbody>\n",
       "    <tr>\n",
       "      <th>1</th>\n",
       "      <td>18300</td>\n",
       "      <td>coupe</td>\n",
       "      <td>2011</td>\n",
       "      <td>manual</td>\n",
       "      <td>190</td>\n",
       "      <td>NaN</td>\n",
       "      <td>125000</td>\n",
       "      <td>5</td>\n",
       "      <td>gasoline</td>\n",
       "      <td>audi</td>\n",
       "      <td>yes</td>\n",
       "      <td>0</td>\n",
       "      <td>66954</td>\n",
       "      <td>24</td>\n",
       "      <td>Thursday</td>\n",
       "      <td>3</td>\n",
       "      <td>2016</td>\n",
       "      <td>2016</td>\n",
       "      <td>1</td>\n",
       "      <td>7</td>\n",
       "      <td>Thursday</td>\n",
       "      <td>4</td>\n",
       "      <td>2016</td>\n",
       "    </tr>\n",
       "    <tr>\n",
       "      <th>132908</th>\n",
       "      <td>12900</td>\n",
       "      <td>coupe</td>\n",
       "      <td>2011</td>\n",
       "      <td>manual</td>\n",
       "      <td>190</td>\n",
       "      <td>a5</td>\n",
       "      <td>150000</td>\n",
       "      <td>2</td>\n",
       "      <td>gasoline</td>\n",
       "      <td>audi</td>\n",
       "      <td>no</td>\n",
       "      <td>0</td>\n",
       "      <td>87600</td>\n",
       "      <td>1</td>\n",
       "      <td>Friday</td>\n",
       "      <td>4</td>\n",
       "      <td>2016</td>\n",
       "      <td>2016</td>\n",
       "      <td>11</td>\n",
       "      <td>3</td>\n",
       "      <td>Sunday</td>\n",
       "      <td>4</td>\n",
       "      <td>2016</td>\n",
       "    </tr>\n",
       "    <tr>\n",
       "      <th>208791</th>\n",
       "      <td>16900</td>\n",
       "      <td>coupe</td>\n",
       "      <td>2011</td>\n",
       "      <td>manual</td>\n",
       "      <td>190</td>\n",
       "      <td>a5</td>\n",
       "      <td>150000</td>\n",
       "      <td>1</td>\n",
       "      <td>gasoline</td>\n",
       "      <td>audi</td>\n",
       "      <td>no</td>\n",
       "      <td>0</td>\n",
       "      <td>76646</td>\n",
       "      <td>11</td>\n",
       "      <td>Friday</td>\n",
       "      <td>3</td>\n",
       "      <td>2016</td>\n",
       "      <td>2016</td>\n",
       "      <td>6</td>\n",
       "      <td>22</td>\n",
       "      <td>Tuesday</td>\n",
       "      <td>3</td>\n",
       "      <td>2016</td>\n",
       "    </tr>\n",
       "  </tbody>\n",
       "</table>\n",
       "</div>"
      ],
      "text/plain": [
       "        Price VehicleType  RegistrationYear Gearbox  Power Model  Kilometer  \\\n",
       "1       18300       coupe              2011  manual    190   NaN     125000   \n",
       "132908  12900       coupe              2011  manual    190    a5     150000   \n",
       "208791  16900       coupe              2011  manual    190    a5     150000   \n",
       "\n",
       "        RegistrationMonth  FuelType Brand Repaired  NumberOfPictures  \\\n",
       "1                       5  gasoline  audi      yes                 0   \n",
       "132908                  2  gasoline  audi       no                 0   \n",
       "208791                  1  gasoline  audi       no                 0   \n",
       "\n",
       "        PostalCode  day_created weekday_created  month_created  year_created  \\\n",
       "1            66954           24        Thursday              3          2016   \n",
       "132908       87600            1          Friday              4          2016   \n",
       "208791       76646           11          Friday              3          2016   \n",
       "\n",
       "        month_crewled  last_seen_hour  last_seen_day last_seen_weekday  \\\n",
       "1                2016               1              7          Thursday   \n",
       "132908           2016              11              3            Sunday   \n",
       "208791           2016               6             22           Tuesday   \n",
       "\n",
       "        last_seen_month  last_seen_year  \n",
       "1                     4            2016  \n",
       "132908                4            2016  \n",
       "208791                3            2016  "
      ]
     },
     "metadata": {},
     "output_type": "display_data"
    }
   ],
   "source": [
    "display(test)"
   ]
  },
  {
   "cell_type": "code",
   "execution_count": 19,
   "metadata": {},
   "outputs": [],
   "source": [
    "# для заполнения категориальных пропусков, будем использовать колонки, которые идентифицируют потенциальный модельный ряд автомобиля\n",
    "target_columns = ['VehicleType', 'RegistrationYear', 'Power', 'Model', 'FuelType', 'Brand', 'Kilometer']\n",
    "\n",
    "\n",
    "# отберём реально существующие авто\n",
    "car_df = (df[target_columns]\n",
    "         .pivot_table(index=['VehicleType', 'RegistrationYear', 'Power', 'Model', 'FuelType', 'Brand'])\n",
    "         .reset_index()\n",
    "         .drop('Kilometer', axis=1))\n",
    "\n",
    "car_df = car_df[car_df['Power'] > 0].drop_duplicates() # как мощность может быть равна 0? исправим это."
   ]
  },
  {
   "cell_type": "code",
   "execution_count": 20,
   "metadata": {},
   "outputs": [],
   "source": [
    "# Также преобразуем и в основном фрейме\n",
    "df['Power'] = df['Power'].replace(0, np.nan)"
   ]
  },
  {
   "cell_type": "code",
   "execution_count": 21,
   "metadata": {},
   "outputs": [
    {
     "name": "stdout",
     "output_type": "stream",
     "text": [
      "CPU times: user 30.2 ms, sys: 7.56 ms, total: 37.7 ms\n",
      "Wall time: 45.7 ms\n"
     ]
    }
   ],
   "source": [
    "%%time\n",
    "\n",
    "# создадим словарь для быстрого доступа к наборам данных\n",
    "car_data_dict = {}\n",
    "\n",
    "# заполним словарь данными из car_df\n",
    "for car_arr in car_df.values:\n",
    "    brand = car_arr[-1]\n",
    "    year = car_arr[1]\n",
    "    if brand not in car_data_dict:\n",
    "        car_data_dict[brand] = {}\n",
    "    if year not in car_data_dict[brand]:\n",
    "        car_data_dict[brand][year] = []\n",
    "    car_data_dict[brand][year].append(car_arr)"
   ]
  },
  {
   "cell_type": "code",
   "execution_count": 22,
   "metadata": {},
   "outputs": [
    {
     "name": "stdout",
     "output_type": "stream",
     "text": [
      "CPU times: user 43.1 s, sys: 74.5 ms, total: 43.2 s\n",
      "Wall time: 43.3 s\n"
     ]
    }
   ],
   "source": [
    "%%time\n",
    "\n",
    "df_clean = []  # создадим пустой список, в который будем добавлять результаты\n",
    "\n",
    "# для каждого значения в исходных данных\n",
    "for arr in df[target_columns[:-1]].values:\n",
    "    nan_indices = [i for i, x in enumerate(arr) if isinstance(x, float) and np.isnan(x)]  # отберем индексы нулевых значений\n",
    "    \n",
    "    if np.any(nan_indices):\n",
    "        \n",
    "        brand = arr[-1]  # бренд авто\n",
    "        year = arr[1]    # год регистрации\n",
    "        target_values = np.delete(arr, nan_indices)  # отбираем целевые значения, которые не являются NaN\n",
    "        \n",
    "        if brand in car_data_dict.keys() and year in car_data_dict[brand]: # если бренд и год для бренда есть в словаре\n",
    "            car_data = car_data_dict[brand][year]                          # тогда обратимся к этой ячейке\n",
    "            for car_arr in car_data:                                    # пройдёмся циклом по данным, которые там представлены\n",
    "                car_arr_cleaned = np.delete(car_arr, nan_indices)   # удалим индексы, с пропущенными данными \n",
    "                if (target_values==car_arr_cleaned).all():          # если объект без учётов пропусков идентичен\n",
    "                    df_clean.append(car_arr)                        # добавляем полный объект в цикл\n",
    "                    break\n",
    "            else:\n",
    "                df_clean.append(arr)\n",
    "        else:\n",
    "            df_clean.append(arr)\n",
    "    else:\n",
    "        df_clean.append(arr)\n",
    "\n",
    "df_clean = pd.DataFrame(df_clean, columns=target_columns[:-1])  # преобразуем список в DataFrame"
   ]
  },
  {
   "cell_type": "code",
   "execution_count": 23,
   "metadata": {},
   "outputs": [
    {
     "data": {
      "text/plain": [
       "Price                    0\n",
       "last_seen_weekday        0\n",
       "last_seen_day            0\n",
       "last_seen_hour           0\n",
       "month_crewled            0\n",
       "year_created             0\n",
       "month_created            0\n",
       "weekday_created          0\n",
       "day_created              0\n",
       "PostalCode               0\n",
       "last_seen_month          0\n",
       "NumberOfPictures         0\n",
       "RegistrationMonth        0\n",
       "Kilometer                0\n",
       "last_seen_year           0\n",
       "Brand                 2311\n",
       "RegistrationYear      2311\n",
       "Power                 9766\n",
       "Model                 9822\n",
       "FuelType             14225\n",
       "Gearbox              19794\n",
       "VehicleType          27910\n",
       "Repaired             71000\n",
       "dtype: int64"
      ]
     },
     "execution_count": 23,
     "metadata": {},
     "output_type": "execute_result"
    }
   ],
   "source": [
    "# теперь заменим пропуски\n",
    "df[target_columns[:-1]] = df_clean\n",
    "df.isna().sum().sort_values()"
   ]
  },
  {
   "cell_type": "code",
   "execution_count": 24,
   "metadata": {},
   "outputs": [],
   "source": [
    "# пропусков стало меньше, однако, есть столбец Repaired, который содержит очень много пропусков.\n",
    "# Исправить это можно использовав данные о годе авто и о его мощности. Подразумевая, что более быстрые авто чаще требуют\n",
    "# починки\n",
    "def speed(x):\n",
    "    if x >= 300:\n",
    "        return 'монщое авто'\n",
    "    elif x >= 150 and x < 300:\n",
    "        return 'авто средней мощности'\n",
    "    elif x < 150:\n",
    "        return 'мало-мощное авто'\n",
    "    else:\n",
    "        return 'не определенно'"
   ]
  },
  {
   "cell_type": "code",
   "execution_count": 25,
   "metadata": {},
   "outputs": [],
   "source": [
    "# категории скорости\n",
    "df['speed_auto'] = df.Power.apply(lambda x: speed(x))\n",
    "\n",
    "# сводная\n",
    "df_speed = df.pivot_table(index=['Brand', 'RegistrationYear', 'speed_auto'],\n",
    "                          columns='Repaired',\n",
    "                          values='last_seen_year',\n",
    "                          aggfunc='count').reset_index()\n",
    "# заменим np.nan на 0\n",
    "df_speed[['no', 'yes']] = df_speed[['no', 'yes']].fillna(0)\n",
    "\n",
    "# определим, что с большей вероятностью характерно для автобиля\n",
    "df_speed['target'] = ['yes' if y > n else 'no' for n, y in zip(df_speed['no'], df_speed['yes'])]\n",
    "\n",
    "# удалим лишние столбцы\n",
    "df_speed.drop(columns=['no', 'yes'], inplace=True)"
   ]
  },
  {
   "cell_type": "code",
   "execution_count": 26,
   "metadata": {},
   "outputs": [],
   "source": [
    "# теперь добавим таргет к нашим данным\n",
    "df = df.merge(df_speed)\n",
    "\n",
    "# заменим пропуски и дронем лишнее\n",
    "df['Repaired'] = df['Repaired'].fillna(df['target'])\n",
    "df.drop(columns='target', inplace=True)"
   ]
  },
  {
   "cell_type": "code",
   "execution_count": 27,
   "metadata": {},
   "outputs": [
    {
     "data": {
      "text/html": [
       "<div>\n",
       "<style scoped>\n",
       "    .dataframe tbody tr th:only-of-type {\n",
       "        vertical-align: middle;\n",
       "    }\n",
       "\n",
       "    .dataframe tbody tr th {\n",
       "        vertical-align: top;\n",
       "    }\n",
       "\n",
       "    .dataframe thead th {\n",
       "        text-align: right;\n",
       "    }\n",
       "</style>\n",
       "<table border=\"1\" class=\"dataframe\">\n",
       "  <thead>\n",
       "    <tr style=\"text-align: right;\">\n",
       "      <th></th>\n",
       "      <th>Price</th>\n",
       "      <th>VehicleType</th>\n",
       "      <th>RegistrationYear</th>\n",
       "      <th>Gearbox</th>\n",
       "      <th>Power</th>\n",
       "      <th>Model</th>\n",
       "      <th>Kilometer</th>\n",
       "      <th>RegistrationMonth</th>\n",
       "      <th>FuelType</th>\n",
       "      <th>Brand</th>\n",
       "      <th>Repaired</th>\n",
       "      <th>NumberOfPictures</th>\n",
       "      <th>PostalCode</th>\n",
       "      <th>day_created</th>\n",
       "      <th>weekday_created</th>\n",
       "      <th>month_created</th>\n",
       "      <th>year_created</th>\n",
       "      <th>month_crewled</th>\n",
       "      <th>last_seen_hour</th>\n",
       "      <th>last_seen_day</th>\n",
       "      <th>last_seen_weekday</th>\n",
       "      <th>last_seen_month</th>\n",
       "      <th>last_seen_year</th>\n",
       "      <th>speed_auto</th>\n",
       "    </tr>\n",
       "  </thead>\n",
       "  <tbody>\n",
       "    <tr>\n",
       "      <th>15</th>\n",
       "      <td>820</td>\n",
       "      <td>wagon</td>\n",
       "      <td>1993.0</td>\n",
       "      <td>NaN</td>\n",
       "      <td>90.0</td>\n",
       "      <td>passat</td>\n",
       "      <td>150000</td>\n",
       "      <td>4</td>\n",
       "      <td>gasoline</td>\n",
       "      <td>volkswagen</td>\n",
       "      <td>no</td>\n",
       "      <td>0</td>\n",
       "      <td>28329</td>\n",
       "      <td>1</td>\n",
       "      <td>Friday</td>\n",
       "      <td>4</td>\n",
       "      <td>2016</td>\n",
       "      <td>2016</td>\n",
       "      <td>9</td>\n",
       "      <td>7</td>\n",
       "      <td>Thursday</td>\n",
       "      <td>4</td>\n",
       "      <td>2016</td>\n",
       "      <td>мало-мощное авто</td>\n",
       "    </tr>\n",
       "    <tr>\n",
       "      <th>18</th>\n",
       "      <td>699</td>\n",
       "      <td>small</td>\n",
       "      <td>1993.0</td>\n",
       "      <td>NaN</td>\n",
       "      <td>40.0</td>\n",
       "      <td>polo</td>\n",
       "      <td>150000</td>\n",
       "      <td>0</td>\n",
       "      <td>petrol</td>\n",
       "      <td>volkswagen</td>\n",
       "      <td>no</td>\n",
       "      <td>0</td>\n",
       "      <td>51147</td>\n",
       "      <td>31</td>\n",
       "      <td>Thursday</td>\n",
       "      <td>3</td>\n",
       "      <td>2016</td>\n",
       "      <td>2016</td>\n",
       "      <td>19</td>\n",
       "      <td>31</td>\n",
       "      <td>Thursday</td>\n",
       "      <td>3</td>\n",
       "      <td>2016</td>\n",
       "      <td>мало-мощное авто</td>\n",
       "    </tr>\n",
       "    <tr>\n",
       "      <th>38</th>\n",
       "      <td>1990</td>\n",
       "      <td>wagon</td>\n",
       "      <td>1993.0</td>\n",
       "      <td>manual</td>\n",
       "      <td>74.0</td>\n",
       "      <td>golf</td>\n",
       "      <td>125000</td>\n",
       "      <td>9</td>\n",
       "      <td>NaN</td>\n",
       "      <td>volkswagen</td>\n",
       "      <td>yes</td>\n",
       "      <td>0</td>\n",
       "      <td>15236</td>\n",
       "      <td>18</td>\n",
       "      <td>Friday</td>\n",
       "      <td>3</td>\n",
       "      <td>2016</td>\n",
       "      <td>2016</td>\n",
       "      <td>22</td>\n",
       "      <td>5</td>\n",
       "      <td>Tuesday</td>\n",
       "      <td>4</td>\n",
       "      <td>2016</td>\n",
       "      <td>мало-мощное авто</td>\n",
       "    </tr>\n",
       "    <tr>\n",
       "      <th>49</th>\n",
       "      <td>15750</td>\n",
       "      <td>small</td>\n",
       "      <td>1993.0</td>\n",
       "      <td>NaN</td>\n",
       "      <td>115.0</td>\n",
       "      <td>golf</td>\n",
       "      <td>40000</td>\n",
       "      <td>0</td>\n",
       "      <td>petrol</td>\n",
       "      <td>volkswagen</td>\n",
       "      <td>no</td>\n",
       "      <td>0</td>\n",
       "      <td>79713</td>\n",
       "      <td>22</td>\n",
       "      <td>Tuesday</td>\n",
       "      <td>3</td>\n",
       "      <td>2016</td>\n",
       "      <td>2016</td>\n",
       "      <td>10</td>\n",
       "      <td>7</td>\n",
       "      <td>Thursday</td>\n",
       "      <td>4</td>\n",
       "      <td>2016</td>\n",
       "      <td>мало-мощное авто</td>\n",
       "    </tr>\n",
       "    <tr>\n",
       "      <th>77</th>\n",
       "      <td>0</td>\n",
       "      <td>sedan</td>\n",
       "      <td>1993.0</td>\n",
       "      <td>NaN</td>\n",
       "      <td>75.0</td>\n",
       "      <td>golf</td>\n",
       "      <td>150000</td>\n",
       "      <td>0</td>\n",
       "      <td>petrol</td>\n",
       "      <td>volkswagen</td>\n",
       "      <td>no</td>\n",
       "      <td>0</td>\n",
       "      <td>41379</td>\n",
       "      <td>18</td>\n",
       "      <td>Friday</td>\n",
       "      <td>3</td>\n",
       "      <td>2016</td>\n",
       "      <td>2016</td>\n",
       "      <td>6</td>\n",
       "      <td>19</td>\n",
       "      <td>Saturday</td>\n",
       "      <td>3</td>\n",
       "      <td>2016</td>\n",
       "      <td>мало-мощное авто</td>\n",
       "    </tr>\n",
       "    <tr>\n",
       "      <th>...</th>\n",
       "      <td>...</td>\n",
       "      <td>...</td>\n",
       "      <td>...</td>\n",
       "      <td>...</td>\n",
       "      <td>...</td>\n",
       "      <td>...</td>\n",
       "      <td>...</td>\n",
       "      <td>...</td>\n",
       "      <td>...</td>\n",
       "      <td>...</td>\n",
       "      <td>...</td>\n",
       "      <td>...</td>\n",
       "      <td>...</td>\n",
       "      <td>...</td>\n",
       "      <td>...</td>\n",
       "      <td>...</td>\n",
       "      <td>...</td>\n",
       "      <td>...</td>\n",
       "      <td>...</td>\n",
       "      <td>...</td>\n",
       "      <td>...</td>\n",
       "      <td>...</td>\n",
       "      <td>...</td>\n",
       "      <td>...</td>\n",
       "    </tr>\n",
       "    <tr>\n",
       "      <th>349426</th>\n",
       "      <td>1550</td>\n",
       "      <td>NaN</td>\n",
       "      <td>2017.0</td>\n",
       "      <td>NaN</td>\n",
       "      <td>307.0</td>\n",
       "      <td>NaN</td>\n",
       "      <td>150000</td>\n",
       "      <td>6</td>\n",
       "      <td>NaN</td>\n",
       "      <td>honda</td>\n",
       "      <td>no</td>\n",
       "      <td>0</td>\n",
       "      <td>1159</td>\n",
       "      <td>21</td>\n",
       "      <td>Monday</td>\n",
       "      <td>3</td>\n",
       "      <td>2016</td>\n",
       "      <td>2016</td>\n",
       "      <td>6</td>\n",
       "      <td>6</td>\n",
       "      <td>Wednesday</td>\n",
       "      <td>4</td>\n",
       "      <td>2016</td>\n",
       "      <td>монщое авто</td>\n",
       "    </tr>\n",
       "    <tr>\n",
       "      <th>349428</th>\n",
       "      <td>4500</td>\n",
       "      <td>coupe</td>\n",
       "      <td>1995.0</td>\n",
       "      <td>manual</td>\n",
       "      <td>305.0</td>\n",
       "      <td>NaN</td>\n",
       "      <td>150000</td>\n",
       "      <td>9</td>\n",
       "      <td>petrol</td>\n",
       "      <td>sonstige_autos</td>\n",
       "      <td>no</td>\n",
       "      <td>0</td>\n",
       "      <td>47137</td>\n",
       "      <td>12</td>\n",
       "      <td>Saturday</td>\n",
       "      <td>3</td>\n",
       "      <td>2016</td>\n",
       "      <td>2016</td>\n",
       "      <td>21</td>\n",
       "      <td>19</td>\n",
       "      <td>Saturday</td>\n",
       "      <td>3</td>\n",
       "      <td>2016</td>\n",
       "      <td>монщое авто</td>\n",
       "    </tr>\n",
       "    <tr>\n",
       "      <th>349429</th>\n",
       "      <td>2800</td>\n",
       "      <td>bus</td>\n",
       "      <td>1982.0</td>\n",
       "      <td>manual</td>\n",
       "      <td>NaN</td>\n",
       "      <td>other</td>\n",
       "      <td>80000</td>\n",
       "      <td>6</td>\n",
       "      <td>petrol</td>\n",
       "      <td>renault</td>\n",
       "      <td>no</td>\n",
       "      <td>0</td>\n",
       "      <td>96103</td>\n",
       "      <td>2</td>\n",
       "      <td>Saturday</td>\n",
       "      <td>4</td>\n",
       "      <td>2016</td>\n",
       "      <td>2016</td>\n",
       "      <td>12</td>\n",
       "      <td>6</td>\n",
       "      <td>Wednesday</td>\n",
       "      <td>4</td>\n",
       "      <td>2016</td>\n",
       "      <td>не определенно</td>\n",
       "    </tr>\n",
       "    <tr>\n",
       "      <th>349430</th>\n",
       "      <td>1595</td>\n",
       "      <td>NaN</td>\n",
       "      <td>1800.0</td>\n",
       "      <td>auto</td>\n",
       "      <td>16.0</td>\n",
       "      <td>other</td>\n",
       "      <td>150000</td>\n",
       "      <td>3</td>\n",
       "      <td>petrol</td>\n",
       "      <td>fiat</td>\n",
       "      <td>no</td>\n",
       "      <td>0</td>\n",
       "      <td>50969</td>\n",
       "      <td>11</td>\n",
       "      <td>Friday</td>\n",
       "      <td>3</td>\n",
       "      <td>2016</td>\n",
       "      <td>2016</td>\n",
       "      <td>0</td>\n",
       "      <td>28</td>\n",
       "      <td>Monday</td>\n",
       "      <td>3</td>\n",
       "      <td>2016</td>\n",
       "      <td>мало-мощное авто</td>\n",
       "    </tr>\n",
       "    <tr>\n",
       "      <th>349431</th>\n",
       "      <td>1850</td>\n",
       "      <td>NaN</td>\n",
       "      <td>2017.0</td>\n",
       "      <td>auto</td>\n",
       "      <td>2000.0</td>\n",
       "      <td>other</td>\n",
       "      <td>150000</td>\n",
       "      <td>6</td>\n",
       "      <td>gasoline</td>\n",
       "      <td>chrysler</td>\n",
       "      <td>no</td>\n",
       "      <td>0</td>\n",
       "      <td>70184</td>\n",
       "      <td>14</td>\n",
       "      <td>Monday</td>\n",
       "      <td>3</td>\n",
       "      <td>2016</td>\n",
       "      <td>2016</td>\n",
       "      <td>2</td>\n",
       "      <td>23</td>\n",
       "      <td>Wednesday</td>\n",
       "      <td>3</td>\n",
       "      <td>2016</td>\n",
       "      <td>монщое авто</td>\n",
       "    </tr>\n",
       "  </tbody>\n",
       "</table>\n",
       "<p>50009 rows × 24 columns</p>\n",
       "</div>"
      ],
      "text/plain": [
       "        Price VehicleType  RegistrationYear Gearbox   Power   Model  \\\n",
       "15        820       wagon            1993.0     NaN    90.0  passat   \n",
       "18        699       small            1993.0     NaN    40.0    polo   \n",
       "38       1990       wagon            1993.0  manual    74.0    golf   \n",
       "49      15750       small            1993.0     NaN   115.0    golf   \n",
       "77          0       sedan            1993.0     NaN    75.0    golf   \n",
       "...       ...         ...               ...     ...     ...     ...   \n",
       "349426   1550         NaN            2017.0     NaN   307.0     NaN   \n",
       "349428   4500       coupe            1995.0  manual   305.0     NaN   \n",
       "349429   2800         bus            1982.0  manual     NaN   other   \n",
       "349430   1595         NaN            1800.0    auto    16.0   other   \n",
       "349431   1850         NaN            2017.0    auto  2000.0   other   \n",
       "\n",
       "        Kilometer  RegistrationMonth  FuelType           Brand Repaired  \\\n",
       "15         150000                  4  gasoline      volkswagen       no   \n",
       "18         150000                  0    petrol      volkswagen       no   \n",
       "38         125000                  9       NaN      volkswagen      yes   \n",
       "49          40000                  0    petrol      volkswagen       no   \n",
       "77         150000                  0    petrol      volkswagen       no   \n",
       "...           ...                ...       ...             ...      ...   \n",
       "349426     150000                  6       NaN           honda       no   \n",
       "349428     150000                  9    petrol  sonstige_autos       no   \n",
       "349429      80000                  6    petrol         renault       no   \n",
       "349430     150000                  3    petrol            fiat       no   \n",
       "349431     150000                  6  gasoline        chrysler       no   \n",
       "\n",
       "        NumberOfPictures  PostalCode  day_created weekday_created  \\\n",
       "15                     0       28329            1          Friday   \n",
       "18                     0       51147           31        Thursday   \n",
       "38                     0       15236           18          Friday   \n",
       "49                     0       79713           22         Tuesday   \n",
       "77                     0       41379           18          Friday   \n",
       "...                  ...         ...          ...             ...   \n",
       "349426                 0        1159           21          Monday   \n",
       "349428                 0       47137           12        Saturday   \n",
       "349429                 0       96103            2        Saturday   \n",
       "349430                 0       50969           11          Friday   \n",
       "349431                 0       70184           14          Monday   \n",
       "\n",
       "        month_created  year_created  month_crewled  last_seen_hour  \\\n",
       "15                  4          2016           2016               9   \n",
       "18                  3          2016           2016              19   \n",
       "38                  3          2016           2016              22   \n",
       "49                  3          2016           2016              10   \n",
       "77                  3          2016           2016               6   \n",
       "...               ...           ...            ...             ...   \n",
       "349426              3          2016           2016               6   \n",
       "349428              3          2016           2016              21   \n",
       "349429              4          2016           2016              12   \n",
       "349430              3          2016           2016               0   \n",
       "349431              3          2016           2016               2   \n",
       "\n",
       "        last_seen_day last_seen_weekday  last_seen_month  last_seen_year  \\\n",
       "15                  7          Thursday                4            2016   \n",
       "18                 31          Thursday                3            2016   \n",
       "38                  5           Tuesday                4            2016   \n",
       "49                  7          Thursday                4            2016   \n",
       "77                 19          Saturday                3            2016   \n",
       "...               ...               ...              ...             ...   \n",
       "349426              6         Wednesday                4            2016   \n",
       "349428             19          Saturday                3            2016   \n",
       "349429              6         Wednesday                4            2016   \n",
       "349430             28            Monday                3            2016   \n",
       "349431             23         Wednesday                3            2016   \n",
       "\n",
       "              speed_auto  \n",
       "15      мало-мощное авто  \n",
       "18      мало-мощное авто  \n",
       "38      мало-мощное авто  \n",
       "49      мало-мощное авто  \n",
       "77      мало-мощное авто  \n",
       "...                  ...  \n",
       "349426       монщое авто  \n",
       "349428       монщое авто  \n",
       "349429    не определенно  \n",
       "349430  мало-мощное авто  \n",
       "349431       монщое авто  \n",
       "\n",
       "[50009 rows x 24 columns]"
      ]
     },
     "execution_count": 27,
     "metadata": {},
     "output_type": "execute_result"
    }
   ],
   "source": [
    "df[df.isna().any(axis=1)]"
   ]
  },
  {
   "cell_type": "code",
   "execution_count": 28,
   "metadata": {},
   "outputs": [],
   "source": [
    "# отсортируем датафрейм по категориям бренда, модели и года регистрации\n",
    "df.sort_values(by=['Brand', 'Model', 'RegistrationYear'], inplace=True)"
   ]
  },
  {
   "cell_type": "code",
   "execution_count": 29,
   "metadata": {},
   "outputs": [],
   "source": [
    "# после такой сортировки, можно предположить, что стоящие рядом объекты в наибольшей степени похожи друг на друга.\n",
    "# поэтому пропуски в таких признаках, как \"VehicleType\", \"Gearbox\" и \"FuelType\", можно заполнить опираясь на инф-цию ниже. \n",
    "df['VehicleType'].fillna(method='bfill', inplace=True)\n",
    "df['VehicleType'].fillna(method='ffill', inplace=True)\n",
    "\n",
    "df['FuelType'].fillna(method='bfill', inplace=True)\n",
    "df['FuelType'].fillna(method='ffill', inplace=True)\n",
    "\n",
    "df['Gearbox'].fillna(method='bfill', inplace=True)\n",
    "df['Gearbox'].fillna(method='ffill', inplace=True)"
   ]
  },
  {
   "cell_type": "code",
   "execution_count": 30,
   "metadata": {},
   "outputs": [],
   "source": [
    "# мощность можно заменить, использовав среднее значение по группам категорий  \n",
    "df_power_swod = (df[df['Power'].notna()].pivot_table(index=['Brand', 'Model', 'RegistrationYear', 'VehicleType', 'FuelType'],\n",
    "                                    values='Power',\n",
    "                                    aggfunc='mean')\n",
    "                 .reset_index()) # создадим таблицу для отбора средней мощности\n",
    "\n",
    "df_power_swod.rename(columns={'Power': 'power_mean'}, inplace=True) # переименуем столбец\n",
    "\n",
    "\n",
    "df = df.merge(df_power_swod, how='left')                  # соединим созданные фреймы \n",
    "df['Power'] = df['Power'].fillna(df['power_mean'])        # заменим пропуски на среднее значение для группы\n",
    "df['Power'] = df['Power'].fillna(df['Power'].mean())      # для остальных просто возьмём среднее значение\n",
    "df.drop(columns='power_mean', axis=1, inplace=True)       # удалим лишний столббец\n",
    "\n",
    "# для модели просто заменим неизвестные на unknown.\n",
    "\n",
    "df.Model.fillna('unknown', inplace=True)"
   ]
  },
  {
   "cell_type": "code",
   "execution_count": 29,
   "metadata": {},
   "outputs": [
    {
     "data": {
      "text/plain": [
       "Price                0\n",
       "VehicleType          0\n",
       "RegistrationYear     0\n",
       "Gearbox              0\n",
       "Power                0\n",
       "Model                0\n",
       "Kilometer            0\n",
       "RegistrationMonth    0\n",
       "FuelType             0\n",
       "Brand                0\n",
       "Repaired             0\n",
       "NumberOfPictures     0\n",
       "PostalCode           0\n",
       "day_created          0\n",
       "weekday_created      0\n",
       "month_created        0\n",
       "year_created         0\n",
       "month_crewled        0\n",
       "last_seen_hour       0\n",
       "last_seen_day        0\n",
       "last_seen_weekday    0\n",
       "last_seen_month      0\n",
       "last_seen_year       0\n",
       "speed_auto           0\n",
       "dtype: int64"
      ]
     },
     "execution_count": 29,
     "metadata": {},
     "output_type": "execute_result"
    }
   ],
   "source": [
    "df.isna().sum()"
   ]
  },
  {
   "cell_type": "markdown",
   "metadata": {},
   "source": [
    "**Теперь пропуски отсутствуют**"
   ]
  },
  {
   "cell_type": "markdown",
   "metadata": {},
   "source": [
    "### Избавление от статистических выбросов"
   ]
  },
  {
   "cell_type": "code",
   "execution_count": 30,
   "metadata": {},
   "outputs": [
    {
     "data": {
      "image/png": "[encoded data removed]",
      "text/plain": [
       "<Figure size 1080x360 with 1 Axes>"
      ]
     },
     "metadata": {
      "needs_background": "light"
     },
     "output_type": "display_data"
    }
   ],
   "source": [
    "# последним этапом предобработки станет очиска от статичтиеских выбросов. \n",
    "plt.figure(figsize=(15, 5))\n",
    "plt.title('Боксполты распределения признаков')\n",
    "df.boxplot()\n",
    "plt.xticks(rotation=45)\n",
    "plt.show()"
   ]
  },
  {
   "cell_type": "code",
   "execution_count": 32,
   "metadata": {},
   "outputs": [],
   "source": [
    "# удалим выбросы в столбцах \n",
    "max_price = df['Price'].quantile(0.75) * 1.5\n",
    "max_power= df['Power'].quantile(0.75) * 1.5\n",
    "\n",
    "df = df.query('Price < @max_price')\n",
    "df = df.query('Power < @max_power')\n",
    "df = df.query('RegistrationYear < 2023 & RegistrationYear > 1985')"
   ]
  },
  {
   "cell_type": "code",
   "execution_count": 33,
   "metadata": {
    "scrolled": true
   },
   "outputs": [
    {
     "data": {
      "image/png": "[encoded data removed]",
      "text/plain": [
       "<Figure size 1080x360 with 1 Axes>"
      ]
     },
     "metadata": {
      "needs_background": "light"
     },
     "output_type": "display_data"
    },
    {
     "data": {
      "image/png": "[encoded data removed]",
      "text/plain": [
       "<Figure size 1080x360 with 1 Axes>"
      ]
     },
     "metadata": {
      "needs_background": "light"
     },
     "output_type": "display_data"
    },
    {
     "data": {
      "image/png": "[encoded data removed]",
      "text/plain": [
       "<Figure size 1080x360 with 1 Axes>"
      ]
     },
     "metadata": {
      "needs_background": "light"
     },
     "output_type": "display_data"
    },
    {
     "data": {
      "image/png": "[encoded data removed]",
      "text/plain": [
       "<Figure size 1080x360 with 1 Axes>"
      ]
     },
     "metadata": {
      "needs_background": "light"
     },
     "output_type": "display_data"
    },
    {
     "data": {
      "image/png": "[encoded data removed]",
      "text/plain": [
       "<Figure size 1080x360 with 1 Axes>"
      ]
     },
     "metadata": {
      "needs_background": "light"
     },
     "output_type": "display_data"
    },
    {
     "data": {
      "image/png": "[encoded data removed]",
      "text/plain": [
       "<Figure size 1080x360 with 1 Axes>"
      ]
     },
     "metadata": {
      "needs_background": "light"
     },
     "output_type": "display_data"
    },
    {
     "data": {
      "image/png": "[encoded data removed]",
      "text/plain": [
       "<Figure size 1080x360 with 1 Axes>"
      ]
     },
     "metadata": {
      "needs_background": "light"
     },
     "output_type": "display_data"
    },
    {
     "data": {
      "image/png": "[encoded data removed]",
      "text/plain": [
       "<Figure size 1080x360 with 1 Axes>"
      ]
     },
     "metadata": {
      "needs_background": "light"
     },
     "output_type": "display_data"
    },
    {
     "data": {
      "image/png": "[encoded data removed]",
      "text/plain": [
       "<Figure size 1080x360 with 1 Axes>"
      ]
     },
     "metadata": {
      "needs_background": "light"
     },
     "output_type": "display_data"
    },
    {
     "data": {
      "image/png": "[encoded data removed]",
      "text/plain": [
       "<Figure size 1080x360 with 1 Axes>"
      ]
     },
     "metadata": {
      "needs_background": "light"
     },
     "output_type": "display_data"
    },
    {
     "data": {
      "image/png": "[encoded data removed]",
      "text/plain": [
       "<Figure size 1080x360 with 1 Axes>"
      ]
     },
     "metadata": {
      "needs_background": "light"
     },
     "output_type": "display_data"
    },
    {
     "data": {
      "image/png": "[encoded data removed]",
      "text/plain": [
       "<Figure size 1080x360 with 1 Axes>"
      ]
     },
     "metadata": {
      "needs_background": "light"
     },
     "output_type": "display_data"
    },
    {
     "data": {
      "image/png": "[encoded data removed]",
      "text/plain": [
       "<Figure size 1080x360 with 1 Axes>"
      ]
     },
     "metadata": {
      "needs_background": "light"
     },
     "output_type": "display_data"
    },
    {
     "data": {
      "image/png": "[encoded data removed]",
      "text/plain": [
       "<Figure size 1080x360 with 1 Axes>"
      ]
     },
     "metadata": {
      "needs_background": "light"
     },
     "output_type": "display_data"
    },
    {
     "data": {
      "image/png": "[encoded data removed]",
      "text/plain": [
       "<Figure size 1080x360 with 1 Axes>"
      ]
     },
     "metadata": {
      "needs_background": "light"
     },
     "output_type": "display_data"
    }
   ],
   "source": [
    "# последним этапом предобработки станет очиска от статичтиеских выбросов. \n",
    "for i in df.select_dtypes(exclude='object').columns:\n",
    "    plt.figure(figsize=(15, 5))\n",
    "    plt.title(f'Боксполты распределения по признаку : \"{i}\"')\n",
    "    df.boxplot(column=i)\n",
    "    plt.xticks(rotation=45)\n",
    "    plt.show()"
   ]
  },
  {
   "cell_type": "code",
   "execution_count": 41,
   "metadata": {},
   "outputs": [],
   "source": [
    "q_low = df.Price.quantile(0.25)/1.5\n",
    "df = df.query('Price > @q_low')\n",
    "df = df.query('Power > 40')"
   ]
  },
  {
   "cell_type": "markdown",
   "metadata": {},
   "source": [
    "**Теперь данные предобработаны**"
   ]
  },
  {
   "cell_type": "code",
   "execution_count": 42,
   "metadata": {},
   "outputs": [
    {
     "data": {
      "text/html": [
       "<div>\n",
       "<style scoped>\n",
       "    .dataframe tbody tr th:only-of-type {\n",
       "        vertical-align: middle;\n",
       "    }\n",
       "\n",
       "    .dataframe tbody tr th {\n",
       "        vertical-align: top;\n",
       "    }\n",
       "\n",
       "    .dataframe thead th {\n",
       "        text-align: right;\n",
       "    }\n",
       "</style>\n",
       "<table border=\"1\" class=\"dataframe\">\n",
       "  <thead>\n",
       "    <tr style=\"text-align: right;\">\n",
       "      <th></th>\n",
       "      <th>Price</th>\n",
       "      <th>RegistrationYear</th>\n",
       "      <th>Power</th>\n",
       "      <th>Kilometer</th>\n",
       "      <th>RegistrationMonth</th>\n",
       "      <th>NumberOfPictures</th>\n",
       "      <th>PostalCode</th>\n",
       "      <th>day_created</th>\n",
       "      <th>month_created</th>\n",
       "      <th>year_created</th>\n",
       "      <th>month_crewled</th>\n",
       "      <th>last_seen_hour</th>\n",
       "      <th>last_seen_day</th>\n",
       "      <th>last_seen_month</th>\n",
       "      <th>last_seen_year</th>\n",
       "    </tr>\n",
       "  </thead>\n",
       "  <tbody>\n",
       "    <tr>\n",
       "      <th>count</th>\n",
       "      <td>204348.000000</td>\n",
       "      <td>204348.000000</td>\n",
       "      <td>204348.000000</td>\n",
       "      <td>204348.000000</td>\n",
       "      <td>204348.000000</td>\n",
       "      <td>204348.0</td>\n",
       "      <td>204348.000000</td>\n",
       "      <td>204348.000000</td>\n",
       "      <td>204348.000000</td>\n",
       "      <td>204348.000000</td>\n",
       "      <td>204348.0</td>\n",
       "      <td>204348.000000</td>\n",
       "      <td>204348.000000</td>\n",
       "      <td>204348.000000</td>\n",
       "      <td>204348.0</td>\n",
       "    </tr>\n",
       "    <tr>\n",
       "      <th>mean</th>\n",
       "      <td>3774.089617</td>\n",
       "      <td>2003.643623</td>\n",
       "      <td>109.831398</td>\n",
       "      <td>131451.592382</td>\n",
       "      <td>5.955639</td>\n",
       "      <td>0.0</td>\n",
       "      <td>50659.429326</td>\n",
       "      <td>15.837468</td>\n",
       "      <td>3.161015</td>\n",
       "      <td>2015.999936</td>\n",
       "      <td>2016.0</td>\n",
       "      <td>11.829467</td>\n",
       "      <td>11.961707</td>\n",
       "      <td>3.565075</td>\n",
       "      <td>2016.0</td>\n",
       "    </tr>\n",
       "    <tr>\n",
       "      <th>std</th>\n",
       "      <td>2343.682079</td>\n",
       "      <td>6.408342</td>\n",
       "      <td>39.719314</td>\n",
       "      <td>34001.189720</td>\n",
       "      <td>3.639299</td>\n",
       "      <td>0.0</td>\n",
       "      <td>25584.075027</td>\n",
       "      <td>9.131160</td>\n",
       "      <td>0.375879</td>\n",
       "      <td>0.008567</td>\n",
       "      <td>0.0</td>\n",
       "      <td>6.518435</td>\n",
       "      <td>8.892403</td>\n",
       "      <td>0.495748</td>\n",
       "      <td>0.0</td>\n",
       "    </tr>\n",
       "    <tr>\n",
       "      <th>min</th>\n",
       "      <td>968.000000</td>\n",
       "      <td>1986.000000</td>\n",
       "      <td>41.000000</td>\n",
       "      <td>5000.000000</td>\n",
       "      <td>0.000000</td>\n",
       "      <td>0.0</td>\n",
       "      <td>1067.000000</td>\n",
       "      <td>1.000000</td>\n",
       "      <td>1.000000</td>\n",
       "      <td>2014.000000</td>\n",
       "      <td>2016.0</td>\n",
       "      <td>0.000000</td>\n",
       "      <td>1.000000</td>\n",
       "      <td>3.000000</td>\n",
       "      <td>2016.0</td>\n",
       "    </tr>\n",
       "    <tr>\n",
       "      <th>25%</th>\n",
       "      <td>1800.000000</td>\n",
       "      <td>1999.000000</td>\n",
       "      <td>75.000000</td>\n",
       "      <td>125000.000000</td>\n",
       "      <td>3.000000</td>\n",
       "      <td>0.0</td>\n",
       "      <td>30459.000000</td>\n",
       "      <td>8.000000</td>\n",
       "      <td>3.000000</td>\n",
       "      <td>2016.000000</td>\n",
       "      <td>2016.0</td>\n",
       "      <td>7.000000</td>\n",
       "      <td>6.000000</td>\n",
       "      <td>3.000000</td>\n",
       "      <td>2016.0</td>\n",
       "    </tr>\n",
       "    <tr>\n",
       "      <th>50%</th>\n",
       "      <td>3099.000000</td>\n",
       "      <td>2003.000000</td>\n",
       "      <td>105.000000</td>\n",
       "      <td>150000.000000</td>\n",
       "      <td>6.000000</td>\n",
       "      <td>0.0</td>\n",
       "      <td>49509.000000</td>\n",
       "      <td>16.000000</td>\n",
       "      <td>3.000000</td>\n",
       "      <td>2016.000000</td>\n",
       "      <td>2016.0</td>\n",
       "      <td>12.000000</td>\n",
       "      <td>7.000000</td>\n",
       "      <td>4.000000</td>\n",
       "      <td>2016.0</td>\n",
       "    </tr>\n",
       "    <tr>\n",
       "      <th>75%</th>\n",
       "      <td>5400.000000</td>\n",
       "      <td>2008.000000</td>\n",
       "      <td>140.000000</td>\n",
       "      <td>150000.000000</td>\n",
       "      <td>9.000000</td>\n",
       "      <td>0.0</td>\n",
       "      <td>71063.000000</td>\n",
       "      <td>24.000000</td>\n",
       "      <td>3.000000</td>\n",
       "      <td>2016.000000</td>\n",
       "      <td>2016.0</td>\n",
       "      <td>17.000000</td>\n",
       "      <td>19.000000</td>\n",
       "      <td>4.000000</td>\n",
       "      <td>2016.0</td>\n",
       "    </tr>\n",
       "    <tr>\n",
       "      <th>max</th>\n",
       "      <td>9599.000000</td>\n",
       "      <td>2019.000000</td>\n",
       "      <td>214.000000</td>\n",
       "      <td>150000.000000</td>\n",
       "      <td>12.000000</td>\n",
       "      <td>0.0</td>\n",
       "      <td>99998.000000</td>\n",
       "      <td>31.000000</td>\n",
       "      <td>12.000000</td>\n",
       "      <td>2016.000000</td>\n",
       "      <td>2016.0</td>\n",
       "      <td>23.000000</td>\n",
       "      <td>31.000000</td>\n",
       "      <td>4.000000</td>\n",
       "      <td>2016.0</td>\n",
       "    </tr>\n",
       "  </tbody>\n",
       "</table>\n",
       "</div>"
      ],
      "text/plain": [
       "               Price  RegistrationYear          Power      Kilometer  \\\n",
       "count  204348.000000     204348.000000  204348.000000  204348.000000   \n",
       "mean     3774.089617       2003.643623     109.831398  131451.592382   \n",
       "std      2343.682079          6.408342      39.719314   34001.189720   \n",
       "min       968.000000       1986.000000      41.000000    5000.000000   \n",
       "25%      1800.000000       1999.000000      75.000000  125000.000000   \n",
       "50%      3099.000000       2003.000000     105.000000  150000.000000   \n",
       "75%      5400.000000       2008.000000     140.000000  150000.000000   \n",
       "max      9599.000000       2019.000000     214.000000  150000.000000   \n",
       "\n",
       "       RegistrationMonth  NumberOfPictures     PostalCode    day_created  \\\n",
       "count      204348.000000          204348.0  204348.000000  204348.000000   \n",
       "mean            5.955639               0.0   50659.429326      15.837468   \n",
       "std             3.639299               0.0   25584.075027       9.131160   \n",
       "min             0.000000               0.0    1067.000000       1.000000   \n",
       "25%             3.000000               0.0   30459.000000       8.000000   \n",
       "50%             6.000000               0.0   49509.000000      16.000000   \n",
       "75%             9.000000               0.0   71063.000000      24.000000   \n",
       "max            12.000000               0.0   99998.000000      31.000000   \n",
       "\n",
       "       month_created   year_created  month_crewled  last_seen_hour  \\\n",
       "count  204348.000000  204348.000000       204348.0   204348.000000   \n",
       "mean        3.161015    2015.999936         2016.0       11.829467   \n",
       "std         0.375879       0.008567            0.0        6.518435   \n",
       "min         1.000000    2014.000000         2016.0        0.000000   \n",
       "25%         3.000000    2016.000000         2016.0        7.000000   \n",
       "50%         3.000000    2016.000000         2016.0       12.000000   \n",
       "75%         3.000000    2016.000000         2016.0       17.000000   \n",
       "max        12.000000    2016.000000         2016.0       23.000000   \n",
       "\n",
       "       last_seen_day  last_seen_month  last_seen_year  \n",
       "count  204348.000000    204348.000000        204348.0  \n",
       "mean       11.961707         3.565075          2016.0  \n",
       "std         8.892403         0.495748             0.0  \n",
       "min         1.000000         3.000000          2016.0  \n",
       "25%         6.000000         3.000000          2016.0  \n",
       "50%         7.000000         4.000000          2016.0  \n",
       "75%        19.000000         4.000000          2016.0  \n",
       "max        31.000000         4.000000          2016.0  "
      ]
     },
     "execution_count": 42,
     "metadata": {},
     "output_type": "execute_result"
    }
   ],
   "source": [
    "df.describe()"
   ]
  },
  {
   "cell_type": "markdown",
   "metadata": {},
   "source": [
    "## Обучение моделей"
   ]
  },
  {
   "cell_type": "code",
   "execution_count": 44,
   "metadata": {},
   "outputs": [],
   "source": [
    "numeric_features = X.select_dtypes(include=['int64', 'float64']).columns\n",
    "categorical_features = X.select_dtypes(include='object').columns\n",
    "\n",
    "numeric_transformer = StandardScaler()\n",
    "categorical_transformer = OrdinalEncoder(handle_unknown='use_encoded_value', unknown_value = -1)  \n",
    "\n",
    "preprocessor = ColumnTransformer(\n",
    "    transformers=[\n",
    "        ('numeric', numeric_transformer, numeric_features),\n",
    "        ('categorical', categorical_transformer, categorical_features)\n",
    "    ])\n",
    "\n",
    "steps = [\n",
    "    ('preprocessor', preprocessor),\n",
    "]\n",
    "\n",
    "# Создание Pipeline\n",
    "pipeline = Pipeline(steps)\n",
    "\n",
    "\n",
    "\n",
    "\n",
    "y = df.Price                         # таргет\n",
    "X = df.drop(columns='Price', axis=1) # признаки\n",
    "\n",
    "X_train, X_test, y_train, y_test = train_test_split(X, y, train_size=0.8, random_state=42)\n",
    "\n",
    "X_train = pipeline.fit_transform(X_train)\n",
    "X_test = pipeline.transform(X_test)"
   ]
  },
  {
   "cell_type": "code",
   "execution_count": 46,
   "metadata": {},
   "outputs": [
    {
     "name": "stdout",
     "output_type": "stream",
     "text": [
      "RMSE для выбранного пайплайна и линейной регрессии составляет: 2305.0\n"
     ]
    }
   ],
   "source": [
    "model = LinearRegression()\n",
    "scores = cross_val_score(model, X_train, y_train, cv=5, scoring='neg_mean_squared_error')\n",
    "\n",
    "abs_scores = np.abs(scores)\n",
    "mean_scores = np.mean(abs_scores)\n",
    "rmse = np.sqrt(mean_scores)\n",
    "print(f'RMSE для выбранного пайплайна и линейной регрессии составляет: {round(rmse, 0)}')"
   ]
  },
  {
   "cell_type": "markdown",
   "metadata": {},
   "source": [
    "**Несмотря на то, что результат модели уже соотвествует требованию метрики, засчёт качественной предобработки, исследуем возможность применения градиентного бустинга**"
   ]
  },
  {
   "cell_type": "code",
   "execution_count": 47,
   "metadata": {},
   "outputs": [],
   "source": [
    "def rmse(actual, predict):\n",
    "    '''\n",
    "    Инциализируем метрику rmse для оценки качества LGBM\n",
    "    '''\n",
    "    predict = np.array(predict)\n",
    "    actual = np.array(actual)\n",
    "    distance = predict - actual\n",
    "    square_distance = distance ** 2\n",
    "    mean_square_distance = square_distance.mean()\n",
    "    score = np.sqrt(mean_square_distance)\n",
    "    return score\n",
    "\n",
    "rmse_score = make_scorer(rmse, greater_is_better=False)"
   ]
  },
  {
   "cell_type": "code",
   "execution_count": null,
   "metadata": {},
   "outputs": [],
   "source": [
    "X_train, X_test, y_train, y_test = train_test_split(X, y, train_size=0.4, random_state=42)\n",
    "\n",
    "# Обучаем предпроцессор на тренировочных данных\n",
    "pipeline.fit(X_train)\n",
    "\n",
    "# Преобразуем тренировочные и тестовые данные с помощью предпроцессора\n",
    "X_train = pipeline.transform(X_train)\n",
    "X_test = pipeline.transform(X_test)\n",
    "\n",
    "# Инициализируем модель LGBMRegressor\n",
    "model = LGBMRegressor(random_state=42, force_row_wise=True)\n",
    "\n",
    "# Задаем параметры для поиска по сетке\n",
    "LGBMR_param = {\n",
    "    'num_leaves': [20, 30, 40, 50],\n",
    "    'max_depth': [6, 8, 10],\n",
    "    'learning_rate': [0.01, 0.1, 0.5],\n",
    "    'n_estimators': [100, 200, 300]\n",
    "}\n",
    "\n",
    "# Инициализируем GridSearchCV с моделью, параметрами и оценочной метрикой\n",
    "clf = RandomizedSearchCV(model, LGBMR_param, scoring='neg_mean_squared_error', n_jobs=-1, n_iter=10, cv=3, random_state=42)\n",
    "\n",
    "# Обучаем модель на тренировочных данных с поиском по сетке\n",
    "clf.fit(X_train, y_train)\n",
    "\n",
    "# Выводим лучшую оценку RMSE\n",
    "print('Лучшее RMSE:', np.sqrt(-clf.best_score_))"
   ]
  },
  {
   "cell_type": "markdown",
   "metadata": {},
   "source": [
    "**Лучшая модель:**\n",
    "\n",
    "    LGBMRegressor(force_row_wise=True, learning_rate=0.01, max_depth=10,\n",
    "              n_estimators=300, num_leaves=50, random_state=42)"
   ]
  },
  {
   "cell_type": "markdown",
   "metadata": {},
   "source": [
    "## Анализ модели"
   ]
  },
  {
   "cell_type": "code",
   "execution_count": 46,
   "metadata": {},
   "outputs": [
    {
     "name": "stdout",
     "output_type": "stream",
     "text": [
      "RMSE: 2399.076722401144\n",
      "CPU times: user 22.6 s, sys: 388 ms, total: 23 s\n",
      "Wall time: 23.3 s\n"
     ]
    }
   ],
   "source": [
    "%%time\n",
    "# Сначала оценим качество модели бустинга и скорость обучения, выполнения:\n",
    "\n",
    "# проверим лучший эстимейтор, на полном объёме данных\n",
    "X_train, X_test, y_train, y_test = train_test_split(X, y, test_size=0.2, random_state=42)\n",
    "\n",
    "# Обучаем предпроцессор на тренировочных данных\n",
    "pipeline.fit(X_train)\n",
    "\n",
    "# Преобразуем тренировочные и тестовые данные с помощью предпроцессора\n",
    "X_train = pipeline.transform(X_train)\n",
    "X_test = pipeline.transform(X_test)\n",
    "\n",
    "# инциализируем лучший эстимейтор\n",
    "best_model = clf.best_estimator_\n",
    "best_model.fit(X_train, y_train)\n",
    "\n",
    "# рассчитаем RMSE на лучшей моделе\n",
    "y_pred = best_model.predict(X_test)\n",
    "print('RMSE:', rmse(y_test, y_pred))"
   ]
  },
  {
   "cell_type": "code",
   "execution_count": 47,
   "metadata": {},
   "outputs": [
    {
     "name": "stdout",
     "output_type": "stream",
     "text": [
      "CPU times: user 1.18 s, sys: 239 µs, total: 1.18 s\n",
      "Wall time: 1.12 s\n"
     ]
    }
   ],
   "source": [
    "%%time\n",
    "# теперь изучим время выполнения предсказания\n",
    "\n",
    "y_pred = best_model.predict(X_test)"
   ]
  },
  {
   "cell_type": "code",
   "execution_count": 48,
   "metadata": {},
   "outputs": [
    {
     "name": "stdout",
     "output_type": "stream",
     "text": [
      "RMSE: 2403.915949331413\n",
      "CPU times: user 1.82 s, sys: 25.1 ms, total: 1.85 s\n",
      "Wall time: 1.81 s\n"
     ]
    }
   ],
   "source": [
    "%%time\n",
    "# Теперь изучим модель для Линейной регрессии:\n",
    "\n",
    "# проверим лучший эстимейтор, на полном объёме данных\n",
    "X_train, X_test, y_train, y_test = train_test_split(X, y, test_size=0.2, random_state=42)\n",
    "\n",
    "# Обучаем предпроцессор на тренировочных данных\n",
    "pipeline.fit(X_train)\n",
    "\n",
    "# Преобразуем тренировочные и тестовые данные с помощью предпроцессора\n",
    "X_train = pipeline.transform(X_train)\n",
    "X_test = pipeline.transform(X_test)\n",
    "\n",
    "# инциализируем лучший эстимейтор\n",
    "lin_reg = LinearRegression()\n",
    "lin_reg.fit(X_train, y_train)\n",
    "\n",
    "# рассчитаем RMSE на лучшей моделе\n",
    "y_pred = lin_reg.predict(X_test)\n",
    "print('RMSE:', rmse(y_test, y_pred))"
   ]
  },
  {
   "cell_type": "code",
   "execution_count": 49,
   "metadata": {},
   "outputs": [
    {
     "name": "stdout",
     "output_type": "stream",
     "text": [
      "CPU times: user 1.19 s, sys: 50.1 ms, total: 1.24 s\n",
      "Wall time: 1.3 s\n"
     ]
    }
   ],
   "source": [
    "%%time\n",
    "# теперь изучим время выполнения предсказания\n",
    "\n",
    "y_pred = best_model.predict(X_test)"
   ]
  },
  {
   "cell_type": "markdown",
   "metadata": {},
   "source": [
    "## Вывод"
   ]
  },
  {
   "cell_type": "markdown",
   "metadata": {},
   "source": [
    "Было проверено 2 модели, модель градиентного бустинга и линейная регрессия.\n",
    "В результате проверки выяснилось, что модель градиентного бустинга показывает результаты немного лучше. При этом, обучение модели занимает гораздо больше времени, а вот скорость предсказания быстрее, чем у линейной модели.\n",
    "Таким образом, под задачи заказчика лучше подходит модель градиентного бустинга."
   ]
  }
 ],
 "metadata": {
  "ExecuteTimeLog": [
   {
    "duration": 417,
    "start_time": "2023-06-23T08:43:43.043Z"
   },
   {
    "duration": 3026,
    "start_time": "2023-06-23T08:43:43.462Z"
   },
   {
    "duration": 24,
    "start_time": "2023-06-23T08:43:54.629Z"
   },
   {
    "duration": 155,
    "start_time": "2023-06-23T08:44:02.907Z"
   },
   {
    "duration": 289,
    "start_time": "2023-06-23T08:44:19.516Z"
   },
   {
    "duration": 23,
    "start_time": "2023-06-23T08:47:02.820Z"
   },
   {
    "duration": 530,
    "start_time": "2023-06-23T08:47:12.618Z"
   },
   {
    "duration": 588,
    "start_time": "2023-06-23T08:47:33.212Z"
   },
   {
    "duration": 68,
    "start_time": "2023-06-23T08:48:28.163Z"
   },
   {
    "duration": 68,
    "start_time": "2023-06-23T08:49:01.035Z"
   },
   {
    "duration": 9,
    "start_time": "2023-06-23T08:49:12.704Z"
   },
   {
    "duration": 103,
    "start_time": "2023-06-23T08:49:46.708Z"
   },
   {
    "duration": 3,
    "start_time": "2023-06-23T08:50:11.536Z"
   },
   {
    "duration": 78,
    "start_time": "2023-06-23T08:50:15.540Z"
   },
   {
    "duration": 21,
    "start_time": "2023-06-23T08:50:18.820Z"
   },
   {
    "duration": 2,
    "start_time": "2023-06-23T08:50:44.217Z"
   },
   {
    "duration": 3,
    "start_time": "2023-06-23T08:50:44.334Z"
   },
   {
    "duration": 892,
    "start_time": "2023-06-23T08:50:44.721Z"
   },
   {
    "duration": 14,
    "start_time": "2023-06-23T08:50:45.615Z"
   },
   {
    "duration": 85,
    "start_time": "2023-06-23T08:51:14.939Z"
   },
   {
    "duration": 26,
    "start_time": "2023-06-23T08:51:16.216Z"
   },
   {
    "duration": 30,
    "start_time": "2023-06-23T08:53:36.629Z"
   },
   {
    "duration": 391,
    "start_time": "2023-06-23T08:53:49.217Z"
   },
   {
    "duration": 3,
    "start_time": "2023-06-23T08:53:49.610Z"
   },
   {
    "duration": 825,
    "start_time": "2023-06-23T08:53:49.615Z"
   },
   {
    "duration": 24,
    "start_time": "2023-06-23T08:53:50.442Z"
   },
   {
    "duration": 265,
    "start_time": "2023-06-23T08:53:50.469Z"
   },
   {
    "duration": 166,
    "start_time": "2023-06-23T08:53:50.736Z"
   },
   {
    "duration": 0,
    "start_time": "2023-06-23T08:53:50.904Z"
   },
   {
    "duration": 0,
    "start_time": "2023-06-23T08:53:50.905Z"
   },
   {
    "duration": 116,
    "start_time": "2023-06-23T08:54:05.328Z"
   },
   {
    "duration": 5,
    "start_time": "2023-06-23T08:56:08.029Z"
   },
   {
    "duration": 115,
    "start_time": "2023-06-23T08:56:34.855Z"
   },
   {
    "duration": 86,
    "start_time": "2023-06-23T08:58:24.539Z"
   },
   {
    "duration": 83,
    "start_time": "2023-06-23T08:59:14.918Z"
   },
   {
    "duration": 90,
    "start_time": "2023-06-23T08:59:30.465Z"
   },
   {
    "duration": 177,
    "start_time": "2023-06-23T08:59:40.864Z"
   },
   {
    "duration": 26,
    "start_time": "2023-06-23T08:59:44.937Z"
   },
   {
    "duration": 191,
    "start_time": "2023-06-23T09:01:24.350Z"
   },
   {
    "duration": 1526,
    "start_time": "2023-06-23T09:02:50.045Z"
   },
   {
    "duration": 59,
    "start_time": "2023-06-23T09:02:55.361Z"
   },
   {
    "duration": 2,
    "start_time": "2023-06-23T09:03:02.417Z"
   },
   {
    "duration": 367,
    "start_time": "2023-06-23T09:03:35.539Z"
   },
   {
    "duration": 190,
    "start_time": "2023-06-23T09:05:14.929Z"
   },
   {
    "duration": 403,
    "start_time": "2023-06-23T09:05:39.664Z"
   },
   {
    "duration": 212,
    "start_time": "2023-06-23T09:06:48.852Z"
   },
   {
    "duration": 47,
    "start_time": "2023-06-23T09:06:49.276Z"
   },
   {
    "duration": 196,
    "start_time": "2023-06-23T09:06:49.829Z"
   },
   {
    "duration": 183,
    "start_time": "2023-06-23T09:07:21.562Z"
   },
   {
    "duration": 315,
    "start_time": "2023-06-23T09:08:16.156Z"
   },
   {
    "duration": 383,
    "start_time": "2023-06-23T09:08:22.460Z"
   },
   {
    "duration": 434,
    "start_time": "2023-06-23T09:09:12.238Z"
   },
   {
    "duration": 3,
    "start_time": "2023-06-23T09:09:12.674Z"
   },
   {
    "duration": 881,
    "start_time": "2023-06-23T09:09:12.679Z"
   },
   {
    "duration": 19,
    "start_time": "2023-06-23T09:09:13.562Z"
   },
   {
    "duration": 272,
    "start_time": "2023-06-23T09:09:13.584Z"
   },
   {
    "duration": 309,
    "start_time": "2023-06-23T09:09:13.858Z"
   },
   {
    "duration": 60,
    "start_time": "2023-06-23T09:09:14.169Z"
   },
   {
    "duration": 1064,
    "start_time": "2023-06-23T09:09:14.231Z"
   },
   {
    "duration": 0,
    "start_time": "2023-06-23T09:09:15.297Z"
   },
   {
    "duration": 0,
    "start_time": "2023-06-23T09:09:15.298Z"
   },
   {
    "duration": 0,
    "start_time": "2023-06-23T09:09:15.299Z"
   },
   {
    "duration": 980,
    "start_time": "2023-06-23T09:09:28.668Z"
   },
   {
    "duration": 5,
    "start_time": "2023-06-23T09:09:41.554Z"
   },
   {
    "duration": 1000,
    "start_time": "2023-06-23T09:09:52.917Z"
   },
   {
    "duration": 102,
    "start_time": "2023-06-23T09:10:23.837Z"
   },
   {
    "duration": 297,
    "start_time": "2023-06-23T09:10:30.600Z"
   },
   {
    "duration": 217,
    "start_time": "2023-06-23T09:10:31.505Z"
   },
   {
    "duration": 273,
    "start_time": "2023-06-23T09:10:31.864Z"
   },
   {
    "duration": 25,
    "start_time": "2023-06-23T09:12:19.417Z"
   },
   {
    "duration": 23,
    "start_time": "2023-06-23T09:12:30.529Z"
   },
   {
    "duration": 27,
    "start_time": "2023-06-23T09:13:02.264Z"
   },
   {
    "duration": 183,
    "start_time": "2023-06-23T09:13:17.430Z"
   },
   {
    "duration": 15,
    "start_time": "2023-06-23T09:13:27.637Z"
   },
   {
    "duration": 530,
    "start_time": "2023-06-23T09:14:54.515Z"
   },
   {
    "duration": 5,
    "start_time": "2023-06-23T09:15:15.105Z"
   },
   {
    "duration": 556,
    "start_time": "2023-06-23T09:15:19.325Z"
   },
   {
    "duration": 5,
    "start_time": "2023-06-23T09:15:22.536Z"
   },
   {
    "duration": 123,
    "start_time": "2023-06-23T09:16:41.840Z"
   },
   {
    "duration": 1274,
    "start_time": "2023-06-23T09:16:42.550Z"
   },
   {
    "duration": 0,
    "start_time": "2023-06-23T09:16:43.826Z"
   },
   {
    "duration": 391,
    "start_time": "2023-06-23T09:16:54.363Z"
   },
   {
    "duration": 3,
    "start_time": "2023-06-23T09:16:54.756Z"
   },
   {
    "duration": 824,
    "start_time": "2023-06-23T09:16:54.760Z"
   },
   {
    "duration": 18,
    "start_time": "2023-06-23T09:16:55.587Z"
   },
   {
    "duration": 268,
    "start_time": "2023-06-23T09:16:55.607Z"
   },
   {
    "duration": 292,
    "start_time": "2023-06-23T09:16:55.876Z"
   },
   {
    "duration": 167,
    "start_time": "2023-06-23T09:16:56.170Z"
   },
   {
    "duration": 4,
    "start_time": "2023-06-23T09:16:56.339Z"
   },
   {
    "duration": 358,
    "start_time": "2023-06-23T09:16:56.345Z"
   },
   {
    "duration": 176,
    "start_time": "2023-06-23T09:16:56.705Z"
   },
   {
    "duration": 155,
    "start_time": "2023-06-23T09:16:56.883Z"
   },
   {
    "duration": 389,
    "start_time": "2023-06-23T09:16:57.040Z"
   },
   {
    "duration": 66,
    "start_time": "2023-06-23T09:16:57.432Z"
   },
   {
    "duration": 29,
    "start_time": "2023-06-23T09:17:02.946Z"
   },
   {
    "duration": 20,
    "start_time": "2023-06-23T09:17:31.701Z"
   },
   {
    "duration": 165,
    "start_time": "2023-06-23T09:18:16.667Z"
   },
   {
    "duration": 84,
    "start_time": "2023-06-23T09:19:06.690Z"
   },
   {
    "duration": 23,
    "start_time": "2023-06-23T09:19:25.054Z"
   },
   {
    "duration": 23,
    "start_time": "2023-06-23T09:19:53.431Z"
   },
   {
    "duration": 27,
    "start_time": "2023-06-23T09:20:01.754Z"
   },
   {
    "duration": 25,
    "start_time": "2023-06-23T09:20:05.947Z"
   },
   {
    "duration": 21,
    "start_time": "2023-06-23T09:20:10.830Z"
   },
   {
    "duration": 23,
    "start_time": "2023-06-23T09:20:16.827Z"
   },
   {
    "duration": 26,
    "start_time": "2023-06-23T09:20:49.440Z"
   },
   {
    "duration": 24,
    "start_time": "2023-06-23T09:20:59.425Z"
   },
   {
    "duration": 21,
    "start_time": "2023-06-23T09:21:38.025Z"
   },
   {
    "duration": 20,
    "start_time": "2023-06-23T09:21:59.405Z"
   },
   {
    "duration": 21,
    "start_time": "2023-06-23T09:22:05.752Z"
   },
   {
    "duration": 154,
    "start_time": "2023-06-23T09:22:24.722Z"
   },
   {
    "duration": 158,
    "start_time": "2023-06-23T09:22:35.443Z"
   },
   {
    "duration": 3,
    "start_time": "2023-06-23T09:23:14.359Z"
   },
   {
    "duration": 561,
    "start_time": "2023-06-23T09:55:00.948Z"
   },
   {
    "duration": 187,
    "start_time": "2023-06-23T09:55:42.881Z"
   },
   {
    "duration": 394,
    "start_time": "2023-06-23T09:56:07.707Z"
   },
   {
    "duration": 2,
    "start_time": "2023-06-23T09:56:08.103Z"
   },
   {
    "duration": 940,
    "start_time": "2023-06-23T09:56:08.107Z"
   },
   {
    "duration": 34,
    "start_time": "2023-06-23T09:56:09.049Z"
   },
   {
    "duration": 299,
    "start_time": "2023-06-23T09:56:09.085Z"
   },
   {
    "duration": 291,
    "start_time": "2023-06-23T09:56:09.386Z"
   },
   {
    "duration": 163,
    "start_time": "2023-06-23T09:56:09.686Z"
   },
   {
    "duration": 20,
    "start_time": "2023-06-23T09:56:09.850Z"
   },
   {
    "duration": 342,
    "start_time": "2023-06-23T09:56:09.872Z"
   },
   {
    "duration": 174,
    "start_time": "2023-06-23T09:56:10.216Z"
   },
   {
    "duration": 171,
    "start_time": "2023-06-23T09:56:10.392Z"
   },
   {
    "duration": 430,
    "start_time": "2023-06-23T09:56:10.566Z"
   },
   {
    "duration": 185,
    "start_time": "2023-06-23T09:56:10.998Z"
   },
   {
    "duration": 158,
    "start_time": "2023-06-23T09:56:11.185Z"
   },
   {
    "duration": 71,
    "start_time": "2023-06-23T09:56:57.013Z"
   },
   {
    "duration": 60,
    "start_time": "2023-06-23T09:57:26.574Z"
   },
   {
    "duration": 102,
    "start_time": "2023-06-23T09:58:04.754Z"
   },
   {
    "duration": 84,
    "start_time": "2023-06-23T09:58:08.448Z"
   },
   {
    "duration": 67,
    "start_time": "2023-06-23T09:58:11.527Z"
   },
   {
    "duration": 64,
    "start_time": "2023-06-23T09:58:15.439Z"
   },
   {
    "duration": 52,
    "start_time": "2023-06-23T09:58:26.313Z"
   },
   {
    "duration": 71,
    "start_time": "2023-06-23T09:58:43.549Z"
   },
   {
    "duration": 2425,
    "start_time": "2023-06-23T09:58:58.128Z"
   },
   {
    "duration": 44,
    "start_time": "2023-06-23T09:59:09.259Z"
   },
   {
    "duration": 69,
    "start_time": "2023-06-23T09:59:12.925Z"
   },
   {
    "duration": 56,
    "start_time": "2023-06-23T10:03:29.809Z"
   },
   {
    "duration": 33,
    "start_time": "2023-06-23T10:03:42.423Z"
   },
   {
    "duration": 57,
    "start_time": "2023-06-23T10:03:46.113Z"
   },
   {
    "duration": 842,
    "start_time": "2023-06-23T10:09:44.451Z"
   },
   {
    "duration": 211,
    "start_time": "2023-06-23T10:09:54.717Z"
   },
   {
    "duration": 199,
    "start_time": "2023-06-23T10:13:38.127Z"
   },
   {
    "duration": 31,
    "start_time": "2023-06-23T10:13:42.676Z"
   },
   {
    "duration": 209,
    "start_time": "2023-06-23T10:13:48.546Z"
   },
   {
    "duration": 53,
    "start_time": "2023-06-23T10:14:01.776Z"
   },
   {
    "duration": 209,
    "start_time": "2023-06-23T10:14:20.058Z"
   },
   {
    "duration": 68,
    "start_time": "2023-06-23T10:14:37.232Z"
   },
   {
    "duration": 48,
    "start_time": "2023-06-23T10:14:48.541Z"
   },
   {
    "duration": 445,
    "start_time": "2023-06-23T10:14:53.871Z"
   },
   {
    "duration": 399,
    "start_time": "2023-06-23T10:15:01.405Z"
   },
   {
    "duration": 466,
    "start_time": "2023-06-23T10:15:11.823Z"
   },
   {
    "duration": 446,
    "start_time": "2023-06-23T10:15:19.127Z"
   },
   {
    "duration": 162,
    "start_time": "2023-06-23T10:16:04.817Z"
   },
   {
    "duration": 5,
    "start_time": "2023-06-23T10:16:14.741Z"
   },
   {
    "duration": 4,
    "start_time": "2023-06-23T10:16:30.733Z"
   },
   {
    "duration": 5,
    "start_time": "2023-06-23T10:16:34.718Z"
   },
   {
    "duration": 4,
    "start_time": "2023-06-23T10:16:43.413Z"
   },
   {
    "duration": 4,
    "start_time": "2023-06-23T10:16:46.044Z"
   },
   {
    "duration": 143,
    "start_time": "2023-06-23T10:16:49.105Z"
   },
   {
    "duration": 5,
    "start_time": "2023-06-23T10:17:03.870Z"
   },
   {
    "duration": 4,
    "start_time": "2023-06-23T10:17:19.901Z"
   },
   {
    "duration": 30,
    "start_time": "2023-06-23T10:17:27.041Z"
   },
   {
    "duration": 21,
    "start_time": "2023-06-23T10:17:50.830Z"
   },
   {
    "duration": 2,
    "start_time": "2023-06-23T10:18:30.836Z"
   },
   {
    "duration": 33,
    "start_time": "2023-06-23T10:18:47.033Z"
   },
   {
    "duration": 22,
    "start_time": "2023-06-23T10:19:54.513Z"
   },
   {
    "duration": 28,
    "start_time": "2023-06-23T10:20:07.313Z"
   },
   {
    "duration": 23,
    "start_time": "2023-06-23T10:20:13.874Z"
   },
   {
    "duration": 23,
    "start_time": "2023-06-23T10:20:23.421Z"
   },
   {
    "duration": 128,
    "start_time": "2023-06-23T10:21:18.943Z"
   },
   {
    "duration": 283,
    "start_time": "2023-06-23T10:21:32.861Z"
   },
   {
    "duration": 926,
    "start_time": "2023-06-23T10:22:08.014Z"
   },
   {
    "duration": 10,
    "start_time": "2023-06-23T10:22:11.513Z"
   },
   {
    "duration": 8,
    "start_time": "2023-06-23T10:22:31.863Z"
   },
   {
    "duration": 916,
    "start_time": "2023-06-23T10:22:50.232Z"
   },
   {
    "duration": 945,
    "start_time": "2023-06-23T10:23:07.514Z"
   },
   {
    "duration": 117,
    "start_time": "2023-06-23T10:23:41.413Z"
   },
   {
    "duration": 4,
    "start_time": "2023-06-23T10:23:52.205Z"
   },
   {
    "duration": 5,
    "start_time": "2023-06-23T10:24:04.970Z"
   },
   {
    "duration": 132,
    "start_time": "2023-06-23T10:33:14.816Z"
   },
   {
    "duration": 149,
    "start_time": "2023-06-23T10:33:24.379Z"
   },
   {
    "duration": 137,
    "start_time": "2023-06-23T10:33:39.534Z"
   },
   {
    "duration": 189,
    "start_time": "2023-06-23T10:33:47.348Z"
   },
   {
    "duration": 144,
    "start_time": "2023-06-23T10:33:50.932Z"
   },
   {
    "duration": 192,
    "start_time": "2023-06-23T10:34:09.228Z"
   },
   {
    "duration": 193,
    "start_time": "2023-06-23T10:34:17.533Z"
   },
   {
    "duration": 182,
    "start_time": "2023-06-23T10:34:22.743Z"
   },
   {
    "duration": 189,
    "start_time": "2023-06-23T10:34:27.305Z"
   },
   {
    "duration": 1382,
    "start_time": "2023-06-23T10:34:56.834Z"
   },
   {
    "duration": 1321,
    "start_time": "2023-06-23T10:35:05.928Z"
   },
   {
    "duration": 394,
    "start_time": "2023-06-23T10:35:12.049Z"
   },
   {
    "duration": 342,
    "start_time": "2023-06-23T10:35:16.768Z"
   },
   {
    "duration": 24,
    "start_time": "2023-06-23T10:35:25.212Z"
   },
   {
    "duration": 105,
    "start_time": "2023-06-23T10:35:47.669Z"
   },
   {
    "duration": 1398,
    "start_time": "2023-06-23T10:37:43.635Z"
   },
   {
    "duration": 71,
    "start_time": "2023-06-23T10:37:49.839Z"
   },
   {
    "duration": 181,
    "start_time": "2023-06-23T10:37:56.652Z"
   },
   {
    "duration": 57,
    "start_time": "2023-06-23T10:38:07.772Z"
   },
   {
    "duration": 54,
    "start_time": "2023-06-23T10:40:21.437Z"
   },
   {
    "duration": 69,
    "start_time": "2023-06-23T10:40:45.812Z"
   },
   {
    "duration": 3,
    "start_time": "2023-06-23T10:42:35.821Z"
   },
   {
    "duration": 1457,
    "start_time": "2023-06-23T10:43:08.001Z"
   },
   {
    "duration": 2664,
    "start_time": "2023-06-23T10:44:25.007Z"
   },
   {
    "duration": 3,
    "start_time": "2023-06-23T10:44:27.673Z"
   },
   {
    "duration": 3005,
    "start_time": "2023-06-23T10:44:27.677Z"
   },
   {
    "duration": 23,
    "start_time": "2023-06-23T10:44:30.684Z"
   },
   {
    "duration": 282,
    "start_time": "2023-06-23T10:44:30.710Z"
   },
   {
    "duration": 304,
    "start_time": "2023-06-23T10:44:30.994Z"
   },
   {
    "duration": 178,
    "start_time": "2023-06-23T10:44:31.300Z"
   },
   {
    "duration": 5,
    "start_time": "2023-06-23T10:44:31.480Z"
   },
   {
    "duration": 382,
    "start_time": "2023-06-23T10:44:31.487Z"
   },
   {
    "duration": 184,
    "start_time": "2023-06-23T10:44:31.870Z"
   },
   {
    "duration": 163,
    "start_time": "2023-06-23T10:44:32.056Z"
   },
   {
    "duration": 457,
    "start_time": "2023-06-23T10:44:32.222Z"
   },
   {
    "duration": 182,
    "start_time": "2023-06-23T10:44:32.681Z"
   },
   {
    "duration": 36,
    "start_time": "2023-06-23T10:44:32.865Z"
   },
   {
    "duration": 20,
    "start_time": "2023-06-23T10:44:32.903Z"
   },
   {
    "duration": 1251,
    "start_time": "2023-06-23T11:04:40.328Z"
   },
   {
    "duration": 3,
    "start_time": "2023-06-23T11:04:41.582Z"
   },
   {
    "duration": 3505,
    "start_time": "2023-06-23T11:04:41.587Z"
   },
   {
    "duration": 21,
    "start_time": "2023-06-23T11:04:45.094Z"
   },
   {
    "duration": 463,
    "start_time": "2023-06-23T11:04:45.118Z"
   },
   {
    "duration": 321,
    "start_time": "2023-06-23T11:04:45.583Z"
   },
   {
    "duration": 212,
    "start_time": "2023-06-23T11:04:45.906Z"
   },
   {
    "duration": 5,
    "start_time": "2023-06-23T11:04:46.120Z"
   },
   {
    "duration": 428,
    "start_time": "2023-06-23T11:04:46.127Z"
   },
   {
    "duration": 197,
    "start_time": "2023-06-23T11:04:46.559Z"
   },
   {
    "duration": 167,
    "start_time": "2023-06-23T11:04:46.758Z"
   },
   {
    "duration": 534,
    "start_time": "2023-06-23T11:04:46.927Z"
   },
   {
    "duration": 249,
    "start_time": "2023-06-23T11:04:47.464Z"
   },
   {
    "duration": 53,
    "start_time": "2023-06-23T11:04:47.716Z"
   },
   {
    "duration": 22,
    "start_time": "2023-06-23T11:04:47.775Z"
   },
   {
    "duration": 1142,
    "start_time": "2023-06-23T11:08:19.115Z"
   },
   {
    "duration": 3,
    "start_time": "2023-06-23T11:08:20.260Z"
   },
   {
    "duration": 986,
    "start_time": "2023-06-23T11:08:20.265Z"
   },
   {
    "duration": 34,
    "start_time": "2023-06-23T11:08:21.253Z"
   },
   {
    "duration": 295,
    "start_time": "2023-06-23T11:08:21.290Z"
   },
   {
    "duration": 328,
    "start_time": "2023-06-23T11:08:21.587Z"
   },
   {
    "duration": 193,
    "start_time": "2023-06-23T11:08:21.917Z"
   },
   {
    "duration": 5,
    "start_time": "2023-06-23T11:08:22.112Z"
   },
   {
    "duration": 388,
    "start_time": "2023-06-23T11:08:22.118Z"
   },
   {
    "duration": 192,
    "start_time": "2023-06-23T11:08:22.508Z"
   },
   {
    "duration": 178,
    "start_time": "2023-06-23T11:08:22.701Z"
   },
   {
    "duration": 456,
    "start_time": "2023-06-23T11:08:22.881Z"
   },
   {
    "duration": 184,
    "start_time": "2023-06-23T11:08:23.339Z"
   },
   {
    "duration": 51,
    "start_time": "2023-06-23T11:08:23.526Z"
   },
   {
    "duration": 21,
    "start_time": "2023-06-23T11:08:23.578Z"
   },
   {
    "duration": 1469,
    "start_time": "2023-06-23T11:08:23.601Z"
   },
   {
    "duration": 119,
    "start_time": "2023-06-23T11:08:25.072Z"
   },
   {
    "duration": 87,
    "start_time": "2023-06-23T11:08:29.622Z"
   },
   {
    "duration": 14,
    "start_time": "2023-06-23T11:08:48.468Z"
   },
   {
    "duration": 1270,
    "start_time": "2023-06-23T11:08:55.660Z"
   },
   {
    "duration": 9,
    "start_time": "2023-06-23T11:09:06.493Z"
   },
   {
    "duration": 5,
    "start_time": "2023-06-23T11:10:13.717Z"
   },
   {
    "duration": 3,
    "start_time": "2023-06-23T11:11:47.342Z"
   },
   {
    "duration": 1439,
    "start_time": "2023-06-23T11:11:51.859Z"
   },
   {
    "duration": 2,
    "start_time": "2023-06-23T11:11:53.300Z"
   },
   {
    "duration": 1005,
    "start_time": "2023-06-23T11:11:53.304Z"
   },
   {
    "duration": 21,
    "start_time": "2023-06-23T11:11:54.310Z"
   },
   {
    "duration": 310,
    "start_time": "2023-06-23T11:11:54.333Z"
   },
   {
    "duration": 342,
    "start_time": "2023-06-23T11:11:54.644Z"
   },
   {
    "duration": 189,
    "start_time": "2023-06-23T11:11:54.988Z"
   },
   {
    "duration": 7,
    "start_time": "2023-06-23T11:11:55.179Z"
   },
   {
    "duration": 405,
    "start_time": "2023-06-23T11:11:55.188Z"
   },
   {
    "duration": 204,
    "start_time": "2023-06-23T11:11:55.595Z"
   },
   {
    "duration": 191,
    "start_time": "2023-06-23T11:11:55.802Z"
   },
   {
    "duration": 478,
    "start_time": "2023-06-23T11:11:55.995Z"
   },
   {
    "duration": 184,
    "start_time": "2023-06-23T11:11:56.476Z"
   },
   {
    "duration": 42,
    "start_time": "2023-06-23T11:11:56.665Z"
   },
   {
    "duration": 15,
    "start_time": "2023-06-23T11:11:56.709Z"
   },
   {
    "duration": 28,
    "start_time": "2023-06-23T11:11:56.726Z"
   },
   {
    "duration": 33,
    "start_time": "2023-06-23T11:11:56.757Z"
   },
   {
    "duration": 35,
    "start_time": "2023-06-23T11:12:27.538Z"
   },
   {
    "duration": 6,
    "start_time": "2023-06-23T11:13:30.990Z"
   },
   {
    "duration": 1339,
    "start_time": "2023-06-23T11:13:35.938Z"
   },
   {
    "duration": 29,
    "start_time": "2023-06-23T11:13:40.962Z"
   },
   {
    "duration": 355,
    "start_time": "2023-06-23T11:14:59.102Z"
   },
   {
    "duration": 49,
    "start_time": "2023-06-23T11:16:31.950Z"
   },
   {
    "duration": 296,
    "start_time": "2023-06-23T11:16:47.363Z"
   },
   {
    "duration": 206,
    "start_time": "2023-06-23T11:17:00.049Z"
   },
   {
    "duration": 190,
    "start_time": "2023-06-23T11:17:20.645Z"
   },
   {
    "duration": 1392,
    "start_time": "2023-06-23T11:18:18.946Z"
   },
   {
    "duration": 200,
    "start_time": "2023-06-23T11:18:27.601Z"
   },
   {
    "duration": 282,
    "start_time": "2023-06-23T11:19:03.703Z"
   },
   {
    "duration": 28,
    "start_time": "2023-06-23T11:20:26.543Z"
   },
   {
    "duration": 254,
    "start_time": "2023-06-23T11:20:49.647Z"
   },
   {
    "duration": 252,
    "start_time": "2023-06-23T11:21:02.118Z"
   },
   {
    "duration": 26,
    "start_time": "2023-06-23T11:21:21.014Z"
   },
   {
    "duration": 241,
    "start_time": "2023-06-23T11:21:32.876Z"
   },
   {
    "duration": 210,
    "start_time": "2023-06-23T11:21:41.702Z"
   },
   {
    "duration": 13,
    "start_time": "2023-06-23T11:21:42.002Z"
   },
   {
    "duration": 261,
    "start_time": "2023-06-23T11:22:03.513Z"
   },
   {
    "duration": 130,
    "start_time": "2023-06-23T11:23:42.805Z"
   },
   {
    "duration": 132,
    "start_time": "2023-06-23T11:24:37.876Z"
   },
   {
    "duration": 133,
    "start_time": "2023-06-23T11:24:44.941Z"
   },
   {
    "duration": 84,
    "start_time": "2023-06-23T11:24:51.966Z"
   },
   {
    "duration": 112,
    "start_time": "2023-06-23T11:25:47.445Z"
   },
   {
    "duration": 92,
    "start_time": "2023-06-23T11:26:15.010Z"
   },
   {
    "duration": 10,
    "start_time": "2023-06-23T11:26:27.967Z"
   },
   {
    "duration": 6,
    "start_time": "2023-06-23T11:26:37.769Z"
   },
   {
    "duration": 9,
    "start_time": "2023-06-23T11:26:50.122Z"
   },
   {
    "duration": 5,
    "start_time": "2023-06-23T11:26:54.282Z"
   },
   {
    "duration": 85,
    "start_time": "2023-06-23T11:27:15.557Z"
   },
   {
    "duration": 90,
    "start_time": "2023-06-23T11:27:36.445Z"
   },
   {
    "duration": 80,
    "start_time": "2023-06-23T11:27:42.673Z"
   },
   {
    "duration": 77,
    "start_time": "2023-06-23T11:28:25.900Z"
   },
   {
    "duration": 75,
    "start_time": "2023-06-23T11:28:54.978Z"
   },
   {
    "duration": 81,
    "start_time": "2023-06-23T11:29:02.730Z"
   },
   {
    "duration": 70,
    "start_time": "2023-06-23T11:29:08.014Z"
   },
   {
    "duration": 72,
    "start_time": "2023-06-23T11:29:29.410Z"
   },
   {
    "duration": 74,
    "start_time": "2023-06-23T11:29:35.568Z"
   },
   {
    "duration": 77,
    "start_time": "2023-06-23T11:29:45.314Z"
   },
   {
    "duration": 72,
    "start_time": "2023-06-23T11:29:50.142Z"
   },
   {
    "duration": 78,
    "start_time": "2023-06-23T11:29:53.026Z"
   },
   {
    "duration": 75,
    "start_time": "2023-06-23T11:30:07.310Z"
   },
   {
    "duration": 76,
    "start_time": "2023-06-23T11:30:11.638Z"
   },
   {
    "duration": 75,
    "start_time": "2023-06-23T11:30:17.014Z"
   },
   {
    "duration": 70,
    "start_time": "2023-06-23T11:30:23.927Z"
   },
   {
    "duration": 82,
    "start_time": "2023-06-23T11:30:30.702Z"
   },
   {
    "duration": 79,
    "start_time": "2023-06-23T11:30:51.698Z"
   },
   {
    "duration": 73,
    "start_time": "2023-06-23T11:31:34.890Z"
   },
   {
    "duration": 70,
    "start_time": "2023-06-23T11:31:50.562Z"
   },
   {
    "duration": 5,
    "start_time": "2023-06-23T11:31:57.214Z"
   },
   {
    "duration": 6,
    "start_time": "2023-06-23T11:32:00.742Z"
   },
   {
    "duration": 66,
    "start_time": "2023-06-23T11:32:40.106Z"
   },
   {
    "duration": 67,
    "start_time": "2023-06-23T11:32:46.218Z"
   },
   {
    "duration": 68,
    "start_time": "2023-06-23T11:32:51.334Z"
   },
   {
    "duration": 33,
    "start_time": "2023-06-23T11:32:54.446Z"
   },
   {
    "duration": 101,
    "start_time": "2023-06-23T11:33:00.556Z"
   },
   {
    "duration": 91,
    "start_time": "2023-06-23T11:33:07.010Z"
   },
   {
    "duration": 80,
    "start_time": "2023-06-23T11:33:18.377Z"
   },
   {
    "duration": 69,
    "start_time": "2023-06-23T11:35:24.118Z"
   },
   {
    "duration": 74,
    "start_time": "2023-06-23T11:35:30.614Z"
   },
   {
    "duration": 66,
    "start_time": "2023-06-23T11:35:32.450Z"
   },
   {
    "duration": 70,
    "start_time": "2023-06-23T11:35:40.270Z"
   },
   {
    "duration": 65,
    "start_time": "2023-06-23T11:35:42.510Z"
   },
   {
    "duration": 71,
    "start_time": "2023-06-23T11:35:49.574Z"
   },
   {
    "duration": 4,
    "start_time": "2023-06-23T11:36:54.942Z"
   },
   {
    "duration": 5,
    "start_time": "2023-06-23T11:37:28.572Z"
   },
   {
    "duration": 25,
    "start_time": "2023-06-23T11:38:18.662Z"
   },
   {
    "duration": 90,
    "start_time": "2023-06-23T11:38:36.562Z"
   },
   {
    "duration": 6,
    "start_time": "2023-06-23T11:39:20.554Z"
   },
   {
    "duration": 99,
    "start_time": "2023-06-23T11:40:48.469Z"
   },
   {
    "duration": 4,
    "start_time": "2023-06-23T11:40:52.375Z"
   },
   {
    "duration": 93,
    "start_time": "2023-06-23T11:40:52.556Z"
   },
   {
    "duration": 4,
    "start_time": "2023-06-23T11:41:20.254Z"
   },
   {
    "duration": 80,
    "start_time": "2023-06-23T11:41:21.038Z"
   },
   {
    "duration": 83,
    "start_time": "2023-06-23T11:41:35.641Z"
   },
   {
    "duration": 109,
    "start_time": "2023-06-23T11:41:42.546Z"
   },
   {
    "duration": 94,
    "start_time": "2023-06-23T11:42:24.034Z"
   },
   {
    "duration": 110,
    "start_time": "2023-06-23T11:42:31.826Z"
   },
   {
    "duration": 73,
    "start_time": "2023-06-23T11:42:49.222Z"
   },
   {
    "duration": 70,
    "start_time": "2023-06-23T11:43:16.842Z"
   },
   {
    "duration": 143,
    "start_time": "2023-06-23T11:43:48.871Z"
   },
   {
    "duration": 80,
    "start_time": "2023-06-23T11:43:57.213Z"
   },
   {
    "duration": 74,
    "start_time": "2023-06-23T11:44:52.637Z"
   },
   {
    "duration": 72,
    "start_time": "2023-06-23T11:45:05.177Z"
   },
   {
    "duration": 69,
    "start_time": "2023-06-23T11:47:18.545Z"
   },
   {
    "duration": 76,
    "start_time": "2023-06-23T11:47:23.506Z"
   },
   {
    "duration": 159,
    "start_time": "2023-06-23T11:49:24.726Z"
   },
   {
    "duration": 69,
    "start_time": "2023-06-23T11:49:34.934Z"
   },
   {
    "duration": 87,
    "start_time": "2023-06-23T11:50:09.166Z"
   },
   {
    "duration": 76,
    "start_time": "2023-06-23T11:50:59.309Z"
   },
   {
    "duration": 76,
    "start_time": "2023-06-23T11:52:36.872Z"
   },
   {
    "duration": 1235,
    "start_time": "2023-06-23T11:56:20.449Z"
   },
   {
    "duration": 3,
    "start_time": "2023-06-23T11:56:21.685Z"
   },
   {
    "duration": 889,
    "start_time": "2023-06-23T11:56:21.690Z"
   },
   {
    "duration": 26,
    "start_time": "2023-06-23T11:56:22.580Z"
   },
   {
    "duration": 325,
    "start_time": "2023-06-23T11:56:22.609Z"
   },
   {
    "duration": 351,
    "start_time": "2023-06-23T11:56:22.937Z"
   },
   {
    "duration": 200,
    "start_time": "2023-06-23T11:56:23.291Z"
   },
   {
    "duration": 5,
    "start_time": "2023-06-23T11:56:23.493Z"
   },
   {
    "duration": 366,
    "start_time": "2023-06-23T11:56:23.501Z"
   },
   {
    "duration": 186,
    "start_time": "2023-06-23T11:56:23.868Z"
   },
   {
    "duration": 211,
    "start_time": "2023-06-23T11:56:24.056Z"
   },
   {
    "duration": 435,
    "start_time": "2023-06-23T11:56:24.268Z"
   },
   {
    "duration": 187,
    "start_time": "2023-06-23T11:56:24.704Z"
   },
   {
    "duration": 31,
    "start_time": "2023-06-23T11:56:24.893Z"
   },
   {
    "duration": 31,
    "start_time": "2023-06-23T11:56:24.926Z"
   },
   {
    "duration": 216,
    "start_time": "2023-06-23T11:56:24.960Z"
   },
   {
    "duration": 76,
    "start_time": "2023-06-23T11:56:25.178Z"
   },
   {
    "duration": 164,
    "start_time": "2023-06-23T11:56:25.256Z"
   },
   {
    "duration": 5,
    "start_time": "2023-06-23T11:56:54.461Z"
   },
   {
    "duration": 5,
    "start_time": "2023-06-23T11:57:00.129Z"
   },
   {
    "duration": 100,
    "start_time": "2023-06-23T11:57:18.314Z"
   },
   {
    "duration": 85,
    "start_time": "2023-06-23T11:57:40.139Z"
   },
   {
    "duration": 110,
    "start_time": "2023-06-23T11:58:00.414Z"
   },
   {
    "duration": 78,
    "start_time": "2023-06-23T11:59:04.717Z"
   },
   {
    "duration": 9,
    "start_time": "2023-06-23T11:59:15.638Z"
   },
   {
    "duration": 4,
    "start_time": "2023-06-23T11:59:21.729Z"
   },
   {
    "duration": 4,
    "start_time": "2023-06-23T11:59:28.213Z"
   },
   {
    "duration": 4,
    "start_time": "2023-06-23T11:59:39.964Z"
   },
   {
    "duration": 4,
    "start_time": "2023-06-23T11:59:48.442Z"
   },
   {
    "duration": 5,
    "start_time": "2023-06-23T11:59:57.421Z"
   },
   {
    "duration": 515,
    "start_time": "2023-06-23T12:00:01.649Z"
   },
   {
    "duration": 510,
    "start_time": "2023-06-23T12:00:44.409Z"
   },
   {
    "duration": 1163,
    "start_time": "2023-06-23T12:05:10.722Z"
   },
   {
    "duration": 2,
    "start_time": "2023-06-23T12:05:11.887Z"
   },
   {
    "duration": 882,
    "start_time": "2023-06-23T12:05:11.891Z"
   },
   {
    "duration": 23,
    "start_time": "2023-06-23T12:05:12.775Z"
   },
   {
    "duration": 281,
    "start_time": "2023-06-23T12:05:12.800Z"
   },
   {
    "duration": 303,
    "start_time": "2023-06-23T12:05:13.083Z"
   },
   {
    "duration": 170,
    "start_time": "2023-06-23T12:05:13.388Z"
   },
   {
    "duration": 5,
    "start_time": "2023-06-23T12:05:13.560Z"
   },
   {
    "duration": 346,
    "start_time": "2023-06-23T12:05:13.567Z"
   },
   {
    "duration": 180,
    "start_time": "2023-06-23T12:05:13.915Z"
   },
   {
    "duration": 168,
    "start_time": "2023-06-23T12:05:14.097Z"
   },
   {
    "duration": 421,
    "start_time": "2023-06-23T12:05:14.267Z"
   },
   {
    "duration": 175,
    "start_time": "2023-06-23T12:05:14.690Z"
   },
   {
    "duration": 26,
    "start_time": "2023-06-23T12:05:14.868Z"
   },
   {
    "duration": 15,
    "start_time": "2023-06-23T12:05:14.896Z"
   },
   {
    "duration": 246,
    "start_time": "2023-06-23T12:05:14.912Z"
   },
   {
    "duration": 74,
    "start_time": "2023-06-23T12:05:15.161Z"
   },
   {
    "duration": 1205,
    "start_time": "2023-06-23T12:05:30.323Z"
   },
   {
    "duration": 3,
    "start_time": "2023-06-23T12:05:31.530Z"
   },
   {
    "duration": 924,
    "start_time": "2023-06-23T12:05:31.535Z"
   },
   {
    "duration": 21,
    "start_time": "2023-06-23T12:05:32.461Z"
   },
   {
    "duration": 279,
    "start_time": "2023-06-23T12:05:32.485Z"
   },
   {
    "duration": 313,
    "start_time": "2023-06-23T12:05:32.767Z"
   },
   {
    "duration": 183,
    "start_time": "2023-06-23T12:05:33.082Z"
   },
   {
    "duration": 5,
    "start_time": "2023-06-23T12:05:33.267Z"
   },
   {
    "duration": 340,
    "start_time": "2023-06-23T12:05:33.274Z"
   },
   {
    "duration": 190,
    "start_time": "2023-06-23T12:05:33.616Z"
   },
   {
    "duration": 169,
    "start_time": "2023-06-23T12:05:33.807Z"
   },
   {
    "duration": 425,
    "start_time": "2023-06-23T12:05:33.978Z"
   },
   {
    "duration": 181,
    "start_time": "2023-06-23T12:05:34.405Z"
   },
   {
    "duration": 36,
    "start_time": "2023-06-23T12:05:34.589Z"
   },
   {
    "duration": 34,
    "start_time": "2023-06-23T12:05:34.627Z"
   },
   {
    "duration": 221,
    "start_time": "2023-06-23T12:05:34.663Z"
   },
   {
    "duration": 81,
    "start_time": "2023-06-23T12:05:34.886Z"
   },
   {
    "duration": 172384,
    "start_time": "2023-06-23T12:05:34.969Z"
   },
   {
    "duration": 180,
    "start_time": "2023-06-23T12:08:27.362Z"
   },
   {
    "duration": 92,
    "start_time": "2023-06-23T12:08:27.546Z"
   },
   {
    "duration": 173,
    "start_time": "2023-06-23T12:09:35.620Z"
   },
   {
    "duration": 189,
    "start_time": "2023-06-23T12:10:13.420Z"
   },
   {
    "duration": 12,
    "start_time": "2023-06-23T12:10:41.354Z"
   },
   {
    "duration": 7,
    "start_time": "2023-06-23T12:10:46.021Z"
   },
   {
    "duration": 87987,
    "start_time": "2023-06-23T12:10:50.021Z"
   },
   {
    "duration": 7,
    "start_time": "2023-06-23T12:12:20.567Z"
   },
   {
    "duration": 15,
    "start_time": "2023-06-23T12:12:24.643Z"
   },
   {
    "duration": 36,
    "start_time": "2023-06-23T12:12:44.367Z"
   },
   {
    "duration": 23,
    "start_time": "2023-06-23T12:13:00.223Z"
   },
   {
    "duration": 208,
    "start_time": "2023-06-23T12:13:21.617Z"
   },
   {
    "duration": 172,
    "start_time": "2023-06-23T12:13:32.817Z"
   },
   {
    "duration": 272,
    "start_time": "2023-06-23T12:13:53.649Z"
   },
   {
    "duration": 23,
    "start_time": "2023-06-23T12:14:23.766Z"
   },
   {
    "duration": 46,
    "start_time": "2023-06-23T12:14:30.917Z"
   },
   {
    "duration": 176,
    "start_time": "2023-06-23T12:14:54.421Z"
   },
   {
    "duration": 162,
    "start_time": "2023-06-23T12:14:59.928Z"
   },
   {
    "duration": 40,
    "start_time": "2023-06-23T12:15:05.736Z"
   },
   {
    "duration": 38,
    "start_time": "2023-06-23T12:15:13.074Z"
   },
   {
    "duration": 54,
    "start_time": "2023-06-23T12:15:40.877Z"
   },
   {
    "duration": 58,
    "start_time": "2023-06-23T12:16:14.225Z"
   },
   {
    "duration": 44,
    "start_time": "2023-06-23T12:16:19.724Z"
   },
   {
    "duration": 26,
    "start_time": "2023-06-23T12:19:59.213Z"
   },
   {
    "duration": 58,
    "start_time": "2023-06-23T12:20:01.213Z"
   },
   {
    "duration": 1203,
    "start_time": "2023-06-23T12:20:37.546Z"
   },
   {
    "duration": 5,
    "start_time": "2023-06-23T12:20:38.752Z"
   },
   {
    "duration": 929,
    "start_time": "2023-06-23T12:20:38.761Z"
   },
   {
    "duration": 21,
    "start_time": "2023-06-23T12:20:39.692Z"
   },
   {
    "duration": 347,
    "start_time": "2023-06-23T12:20:39.717Z"
   },
   {
    "duration": 310,
    "start_time": "2023-06-23T12:20:40.066Z"
   },
   {
    "duration": 192,
    "start_time": "2023-06-23T12:20:40.377Z"
   },
   {
    "duration": 6,
    "start_time": "2023-06-23T12:20:40.572Z"
   },
   {
    "duration": 369,
    "start_time": "2023-06-23T12:20:40.580Z"
   },
   {
    "duration": 190,
    "start_time": "2023-06-23T12:20:40.950Z"
   },
   {
    "duration": 171,
    "start_time": "2023-06-23T12:20:41.142Z"
   },
   {
    "duration": 482,
    "start_time": "2023-06-23T12:20:41.315Z"
   },
   {
    "duration": 184,
    "start_time": "2023-06-23T12:20:41.799Z"
   },
   {
    "duration": 32,
    "start_time": "2023-06-23T12:20:41.987Z"
   },
   {
    "duration": 14,
    "start_time": "2023-06-23T12:20:42.021Z"
   },
   {
    "duration": 224,
    "start_time": "2023-06-23T12:20:42.057Z"
   },
   {
    "duration": 83,
    "start_time": "2023-06-23T12:20:42.283Z"
   },
   {
    "duration": 4,
    "start_time": "2023-06-23T12:20:42.368Z"
   },
   {
    "duration": 30,
    "start_time": "2023-06-23T12:20:42.374Z"
   },
   {
    "duration": 13,
    "start_time": "2023-06-23T12:21:39.521Z"
   },
   {
    "duration": 16,
    "start_time": "2023-06-23T12:21:53.422Z"
   },
   {
    "duration": 111,
    "start_time": "2023-06-23T12:22:20.913Z"
   },
   {
    "duration": 15,
    "start_time": "2023-06-23T12:22:34.221Z"
   },
   {
    "duration": 27,
    "start_time": "2023-06-23T12:22:42.943Z"
   },
   {
    "duration": 13,
    "start_time": "2023-06-23T12:22:43.764Z"
   },
   {
    "duration": 28,
    "start_time": "2023-06-23T12:22:48.217Z"
   },
   {
    "duration": 13,
    "start_time": "2023-06-23T12:22:48.424Z"
   },
   {
    "duration": 1089,
    "start_time": "2023-06-23T12:22:51.630Z"
   },
   {
    "duration": 3,
    "start_time": "2023-06-23T12:22:52.720Z"
   },
   {
    "duration": 913,
    "start_time": "2023-06-23T12:22:52.725Z"
   },
   {
    "duration": 29,
    "start_time": "2023-06-23T12:22:53.640Z"
   },
   {
    "duration": 271,
    "start_time": "2023-06-23T12:22:53.672Z"
   },
   {
    "duration": 328,
    "start_time": "2023-06-23T12:22:53.945Z"
   },
   {
    "duration": 171,
    "start_time": "2023-06-23T12:22:54.275Z"
   },
   {
    "duration": 9,
    "start_time": "2023-06-23T12:22:54.448Z"
   },
   {
    "duration": 340,
    "start_time": "2023-06-23T12:22:54.468Z"
   },
   {
    "duration": 182,
    "start_time": "2023-06-23T12:22:54.810Z"
   },
   {
    "duration": 172,
    "start_time": "2023-06-23T12:22:54.994Z"
   },
   {
    "duration": 424,
    "start_time": "2023-06-23T12:22:55.168Z"
   },
   {
    "duration": 185,
    "start_time": "2023-06-23T12:22:55.594Z"
   },
   {
    "duration": 35,
    "start_time": "2023-06-23T12:22:55.782Z"
   },
   {
    "duration": 17,
    "start_time": "2023-06-23T12:22:55.819Z"
   },
   {
    "duration": 238,
    "start_time": "2023-06-23T12:22:55.837Z"
   },
   {
    "duration": 94,
    "start_time": "2023-06-23T12:22:56.076Z"
   },
   {
    "duration": 5,
    "start_time": "2023-06-23T12:22:56.173Z"
   },
   {
    "duration": 30,
    "start_time": "2023-06-23T12:22:56.180Z"
   },
   {
    "duration": 249,
    "start_time": "2023-06-23T12:22:56.212Z"
   },
   {
    "duration": 375,
    "start_time": "2023-06-23T12:23:34.368Z"
   },
   {
    "duration": 410,
    "start_time": "2023-06-23T12:24:07.884Z"
   },
   {
    "duration": 403,
    "start_time": "2023-06-23T12:25:01.232Z"
   },
   {
    "duration": 438,
    "start_time": "2023-06-23T12:25:10.137Z"
   },
   {
    "duration": 425,
    "start_time": "2023-06-23T12:25:21.105Z"
   },
   {
    "duration": 410,
    "start_time": "2023-06-23T12:25:55.980Z"
   },
   {
    "duration": 1149,
    "start_time": "2023-06-23T12:31:05.266Z"
   },
   {
    "duration": 6,
    "start_time": "2023-06-23T12:31:06.417Z"
   },
   {
    "duration": 961,
    "start_time": "2023-06-23T12:31:06.425Z"
   },
   {
    "duration": 25,
    "start_time": "2023-06-23T12:31:07.388Z"
   },
   {
    "duration": 355,
    "start_time": "2023-06-23T12:31:07.416Z"
   },
   {
    "duration": 306,
    "start_time": "2023-06-23T12:31:07.772Z"
   },
   {
    "duration": 185,
    "start_time": "2023-06-23T12:31:08.080Z"
   },
   {
    "duration": 6,
    "start_time": "2023-06-23T12:31:08.267Z"
   },
   {
    "duration": 356,
    "start_time": "2023-06-23T12:31:08.274Z"
   },
   {
    "duration": 189,
    "start_time": "2023-06-23T12:31:08.632Z"
   },
   {
    "duration": 170,
    "start_time": "2023-06-23T12:31:08.823Z"
   },
   {
    "duration": 444,
    "start_time": "2023-06-23T12:31:08.995Z"
   },
   {
    "duration": 182,
    "start_time": "2023-06-23T12:31:09.441Z"
   },
   {
    "duration": 40,
    "start_time": "2023-06-23T12:31:09.626Z"
   },
   {
    "duration": 21,
    "start_time": "2023-06-23T12:31:09.668Z"
   },
   {
    "duration": 218,
    "start_time": "2023-06-23T12:31:09.691Z"
   },
   {
    "duration": 77,
    "start_time": "2023-06-23T12:31:09.911Z"
   },
   {
    "duration": 2565100,
    "start_time": "2023-06-23T12:31:09.999Z"
   },
   {
    "duration": 8,
    "start_time": "2023-06-23T13:14:13.078Z"
   },
   {
    "duration": 4,
    "start_time": "2023-06-23T13:14:18.519Z"
   },
   {
    "duration": 4,
    "start_time": "2023-06-23T13:14:23.806Z"
   },
   {
    "duration": 5422,
    "start_time": "2023-06-23T13:14:45.805Z"
   },
   {
    "duration": 148,
    "start_time": "2023-06-23T13:19:32.938Z"
   },
   {
    "duration": 182,
    "start_time": "2023-06-23T13:19:46.269Z"
   },
   {
    "duration": 1239,
    "start_time": "2023-06-23T13:22:14.874Z"
   },
   {
    "duration": 3,
    "start_time": "2023-06-23T13:22:16.116Z"
   },
   {
    "duration": 1092,
    "start_time": "2023-06-23T13:22:16.120Z"
   },
   {
    "duration": 41,
    "start_time": "2023-06-23T13:22:17.214Z"
   },
   {
    "duration": 339,
    "start_time": "2023-06-23T13:22:17.257Z"
   },
   {
    "duration": 371,
    "start_time": "2023-06-23T13:22:17.599Z"
   },
   {
    "duration": 207,
    "start_time": "2023-06-23T13:22:17.973Z"
   },
   {
    "duration": 5,
    "start_time": "2023-06-23T13:22:18.184Z"
   },
   {
    "duration": 385,
    "start_time": "2023-06-23T13:22:18.191Z"
   },
   {
    "duration": 188,
    "start_time": "2023-06-23T13:22:18.584Z"
   },
   {
    "duration": 163,
    "start_time": "2023-06-23T13:22:18.774Z"
   },
   {
    "duration": 486,
    "start_time": "2023-06-23T13:22:18.938Z"
   },
   {
    "duration": 208,
    "start_time": "2023-06-23T13:22:19.426Z"
   },
   {
    "duration": 57,
    "start_time": "2023-06-23T13:22:19.637Z"
   },
   {
    "duration": 15,
    "start_time": "2023-06-23T13:22:19.696Z"
   },
   {
    "duration": 279,
    "start_time": "2023-06-23T13:22:19.713Z"
   },
   {
    "duration": 115,
    "start_time": "2023-06-23T13:22:19.994Z"
   },
   {
    "duration": 3662949,
    "start_time": "2023-06-23T13:22:20.111Z"
   },
   {
    "duration": 15,
    "start_time": "2023-06-23T14:23:36.723Z"
   },
   {
    "duration": 84,
    "start_time": "2023-06-23T14:23:53.368Z"
   },
   {
    "duration": 656,
    "start_time": "2023-06-23T14:24:51.445Z"
   },
   {
    "duration": 37395,
    "start_time": "2023-06-23T14:25:52.874Z"
   },
   {
    "duration": 4,
    "start_time": "2023-06-23T14:27:46.648Z"
   },
   {
    "duration": 4,
    "start_time": "2023-06-23T14:27:50.623Z"
   },
   {
    "duration": 184,
    "start_time": "2023-06-23T14:27:58.423Z"
   },
   {
    "duration": 1207,
    "start_time": "2023-06-23T14:28:24.523Z"
   },
   {
    "duration": 3,
    "start_time": "2023-06-23T14:28:25.732Z"
   },
   {
    "duration": 955,
    "start_time": "2023-06-23T14:28:25.737Z"
   },
   {
    "duration": 20,
    "start_time": "2023-06-23T14:28:26.694Z"
   },
   {
    "duration": 313,
    "start_time": "2023-06-23T14:28:26.717Z"
   },
   {
    "duration": 354,
    "start_time": "2023-06-23T14:28:27.032Z"
   },
   {
    "duration": 211,
    "start_time": "2023-06-23T14:28:27.388Z"
   },
   {
    "duration": 6,
    "start_time": "2023-06-23T14:28:27.605Z"
   },
   {
    "duration": 396,
    "start_time": "2023-06-23T14:28:27.613Z"
   },
   {
    "duration": 184,
    "start_time": "2023-06-23T14:28:28.011Z"
   },
   {
    "duration": 173,
    "start_time": "2023-06-23T14:28:28.197Z"
   },
   {
    "duration": 442,
    "start_time": "2023-06-23T14:28:28.372Z"
   },
   {
    "duration": 189,
    "start_time": "2023-06-23T14:28:28.816Z"
   },
   {
    "duration": 36,
    "start_time": "2023-06-23T14:28:29.008Z"
   },
   {
    "duration": 27,
    "start_time": "2023-06-23T14:28:29.046Z"
   },
   {
    "duration": 236,
    "start_time": "2023-06-23T14:28:29.075Z"
   },
   {
    "duration": 86,
    "start_time": "2023-06-23T14:28:29.313Z"
   },
   {
    "duration": 1244,
    "start_time": "2023-06-23T14:29:00.253Z"
   },
   {
    "duration": 3,
    "start_time": "2023-06-23T14:29:01.499Z"
   },
   {
    "duration": 1178,
    "start_time": "2023-06-23T14:29:01.504Z"
   },
   {
    "duration": 22,
    "start_time": "2023-06-23T14:29:02.683Z"
   },
   {
    "duration": 287,
    "start_time": "2023-06-23T14:29:02.707Z"
   },
   {
    "duration": 327,
    "start_time": "2023-06-23T14:29:02.996Z"
   },
   {
    "duration": 188,
    "start_time": "2023-06-23T14:29:03.324Z"
   },
   {
    "duration": 6,
    "start_time": "2023-06-23T14:29:03.514Z"
   },
   {
    "duration": 376,
    "start_time": "2023-06-23T14:29:03.521Z"
   },
   {
    "duration": 184,
    "start_time": "2023-06-23T14:29:03.899Z"
   },
   {
    "duration": 181,
    "start_time": "2023-06-23T14:29:04.085Z"
   },
   {
    "duration": 440,
    "start_time": "2023-06-23T14:29:04.268Z"
   },
   {
    "duration": 199,
    "start_time": "2023-06-23T14:29:04.711Z"
   },
   {
    "duration": 34,
    "start_time": "2023-06-23T14:29:04.913Z"
   },
   {
    "duration": 20,
    "start_time": "2023-06-23T14:29:04.955Z"
   },
   {
    "duration": 248,
    "start_time": "2023-06-23T14:29:04.977Z"
   },
   {
    "duration": 134,
    "start_time": "2023-06-23T14:29:05.227Z"
   },
   {
    "duration": 97802,
    "start_time": "2023-06-23T14:29:05.366Z"
   },
   {
    "duration": 4,
    "start_time": "2023-06-23T14:30:43.170Z"
   },
   {
    "duration": 1927,
    "start_time": "2023-06-23T14:30:46.828Z"
   },
   {
    "duration": 4,
    "start_time": "2023-06-23T14:31:28.868Z"
   },
   {
    "duration": 4,
    "start_time": "2023-06-23T14:31:30.636Z"
   },
   {
    "duration": 69,
    "start_time": "2023-06-23T14:31:34.008Z"
   },
   {
    "duration": 3,
    "start_time": "2023-06-23T14:31:35.844Z"
   },
   {
    "duration": 4,
    "start_time": "2023-06-23T14:31:40.105Z"
   },
   {
    "duration": 1238,
    "start_time": "2023-06-23T14:32:43.757Z"
   },
   {
    "duration": 3,
    "start_time": "2023-06-23T14:32:44.997Z"
   },
   {
    "duration": 932,
    "start_time": "2023-06-23T14:32:45.002Z"
   },
   {
    "duration": 27,
    "start_time": "2023-06-23T14:32:45.936Z"
   },
   {
    "duration": 260,
    "start_time": "2023-06-23T14:32:45.965Z"
   },
   {
    "duration": 308,
    "start_time": "2023-06-23T14:32:46.227Z"
   },
   {
    "duration": 176,
    "start_time": "2023-06-23T14:32:46.537Z"
   },
   {
    "duration": 6,
    "start_time": "2023-06-23T14:32:46.716Z"
   },
   {
    "duration": 345,
    "start_time": "2023-06-23T14:32:46.724Z"
   },
   {
    "duration": 189,
    "start_time": "2023-06-23T14:32:47.071Z"
   },
   {
    "duration": 171,
    "start_time": "2023-06-23T14:32:47.262Z"
   },
   {
    "duration": 459,
    "start_time": "2023-06-23T14:32:47.436Z"
   },
   {
    "duration": 1076,
    "start_time": "2023-06-23T14:32:52.008Z"
   },
   {
    "duration": 3,
    "start_time": "2023-06-23T14:32:53.086Z"
   },
   {
    "duration": 877,
    "start_time": "2023-06-23T14:32:53.091Z"
   },
   {
    "duration": 19,
    "start_time": "2023-06-23T14:32:53.969Z"
   },
   {
    "duration": 254,
    "start_time": "2023-06-23T14:32:53.990Z"
   },
   {
    "duration": 299,
    "start_time": "2023-06-23T14:32:54.245Z"
   },
   {
    "duration": 169,
    "start_time": "2023-06-23T14:32:54.546Z"
   },
   {
    "duration": 6,
    "start_time": "2023-06-23T14:32:54.717Z"
   },
   {
    "duration": 344,
    "start_time": "2023-06-23T14:32:54.724Z"
   },
   {
    "duration": 186,
    "start_time": "2023-06-23T14:32:55.070Z"
   },
   {
    "duration": 167,
    "start_time": "2023-06-23T14:32:55.257Z"
   },
   {
    "duration": 421,
    "start_time": "2023-06-23T14:32:55.426Z"
   },
   {
    "duration": 158,
    "start_time": "2023-06-23T14:32:55.849Z"
   },
   {
    "duration": 28,
    "start_time": "2023-06-23T14:32:56.009Z"
   },
   {
    "duration": 22,
    "start_time": "2023-06-23T14:32:56.039Z"
   },
   {
    "duration": 231,
    "start_time": "2023-06-23T14:32:56.063Z"
   },
   {
    "duration": 81,
    "start_time": "2023-06-23T14:32:56.296Z"
   },
   {
    "duration": 27350,
    "start_time": "2023-06-23T14:32:56.379Z"
   },
   {
    "duration": 4,
    "start_time": "2023-06-23T14:33:32.506Z"
   },
   {
    "duration": 1793,
    "start_time": "2023-06-23T14:33:56.858Z"
   },
   {
    "duration": 6,
    "start_time": "2023-06-23T14:34:02.962Z"
   },
   {
    "duration": 3,
    "start_time": "2023-06-23T14:34:09.193Z"
   },
   {
    "duration": 12,
    "start_time": "2023-06-23T14:34:21.783Z"
   },
   {
    "duration": 25,
    "start_time": "2023-06-23T14:34:37.344Z"
   },
   {
    "duration": 29,
    "start_time": "2023-06-23T14:35:01.367Z"
   },
   {
    "duration": 30,
    "start_time": "2023-06-23T14:35:08.602Z"
   },
   {
    "duration": 449141,
    "start_time": "2023-06-23T14:35:43.299Z"
   },
   {
    "duration": 12,
    "start_time": "2023-06-23T14:43:20.216Z"
   },
   {
    "duration": 4,
    "start_time": "2023-06-23T14:43:35.892Z"
   },
   {
    "duration": 166,
    "start_time": "2023-06-23T14:43:54.305Z"
   },
   {
    "duration": 205,
    "start_time": "2023-06-23T14:44:42.666Z"
   },
   {
    "duration": 266,
    "start_time": "2023-06-23T14:45:08.007Z"
   },
   {
    "duration": 54547,
    "start_time": "2023-06-23T14:46:10.600Z"
   },
   {
    "duration": 15,
    "start_time": "2023-06-23T14:47:14.431Z"
   },
   {
    "duration": 30,
    "start_time": "2023-06-23T14:47:30.928Z"
   },
   {
    "duration": 17,
    "start_time": "2023-06-23T14:47:36.300Z"
   },
   {
    "duration": 4,
    "start_time": "2023-06-23T14:47:51.767Z"
   },
   {
    "duration": 4,
    "start_time": "2023-06-23T14:47:56.588Z"
   },
   {
    "duration": 2586,
    "start_time": "2023-06-23T14:48:13.697Z"
   },
   {
    "duration": 2482,
    "start_time": "2023-06-23T14:48:18.217Z"
   },
   {
    "duration": 4,
    "start_time": "2023-06-23T14:49:06.108Z"
   },
   {
    "duration": 5,
    "start_time": "2023-06-23T14:49:10.268Z"
   },
   {
    "duration": 4,
    "start_time": "2023-06-23T14:49:15.132Z"
   },
   {
    "duration": 87295,
    "start_time": "2023-06-23T14:49:34.959Z"
   },
   {
    "duration": 14,
    "start_time": "2023-06-23T14:51:11.960Z"
   },
   {
    "duration": 50,
    "start_time": "2023-06-23T14:51:36.909Z"
   },
   {
    "duration": 2326,
    "start_time": "2023-06-23T14:51:39.864Z"
   },
   {
    "duration": 19,
    "start_time": "2023-06-23T14:52:09.062Z"
   },
   {
    "duration": 87,
    "start_time": "2023-06-23T14:52:13.935Z"
   },
   {
    "duration": 4,
    "start_time": "2023-06-23T14:52:24.809Z"
   },
   {
    "duration": 9,
    "start_time": "2023-06-23T14:52:32.445Z"
   },
   {
    "duration": 4,
    "start_time": "2023-06-23T14:52:35.513Z"
   },
   {
    "duration": 4,
    "start_time": "2023-06-23T14:52:50.873Z"
   },
   {
    "duration": 77,
    "start_time": "2023-06-23T14:53:23.603Z"
   },
   {
    "duration": 70,
    "start_time": "2023-06-23T14:53:37.556Z"
   },
   {
    "duration": 66,
    "start_time": "2023-06-23T14:53:53.722Z"
   },
   {
    "duration": 65,
    "start_time": "2023-06-23T14:54:11.459Z"
   },
   {
    "duration": 72,
    "start_time": "2023-06-23T14:54:19.142Z"
   },
   {
    "duration": 71,
    "start_time": "2023-06-23T14:54:28.252Z"
   },
   {
    "duration": 71,
    "start_time": "2023-06-23T14:55:14.499Z"
   },
   {
    "duration": 69,
    "start_time": "2023-06-23T14:55:21.212Z"
   },
   {
    "duration": 14011,
    "start_time": "2023-06-23T14:55:51.808Z"
   },
   {
    "duration": 48212,
    "start_time": "2023-06-23T14:56:07.961Z"
   },
   {
    "duration": 14,
    "start_time": "2023-06-23T14:58:03.208Z"
   },
   {
    "duration": 26,
    "start_time": "2023-06-23T15:00:29.535Z"
   },
   {
    "duration": 22,
    "start_time": "2023-06-23T15:00:44.854Z"
   },
   {
    "duration": 93,
    "start_time": "2023-06-23T15:00:54.524Z"
   },
   {
    "duration": 109,
    "start_time": "2023-06-23T15:01:27.538Z"
   },
   {
    "duration": 109,
    "start_time": "2023-06-23T15:01:44.565Z"
   },
   {
    "duration": 18,
    "start_time": "2023-06-23T15:03:10.624Z"
   },
   {
    "duration": 5,
    "start_time": "2023-06-23T15:03:13.258Z"
   },
   {
    "duration": 15,
    "start_time": "2023-06-23T15:03:16.930Z"
   },
   {
    "duration": 3,
    "start_time": "2023-06-23T15:04:14.105Z"
   },
   {
    "duration": 176,
    "start_time": "2023-06-23T15:04:21.214Z"
   },
   {
    "duration": 192,
    "start_time": "2023-06-23T15:04:34.096Z"
   },
   {
    "duration": 28,
    "start_time": "2023-06-23T15:05:20.959Z"
   },
   {
    "duration": 3,
    "start_time": "2023-06-23T15:06:12.606Z"
   },
   {
    "duration": 178,
    "start_time": "2023-06-23T15:06:17.801Z"
   },
   {
    "duration": 92,
    "start_time": "2023-06-23T15:07:11.502Z"
   },
   {
    "duration": 90,
    "start_time": "2023-06-23T15:07:24.906Z"
   },
   {
    "duration": 75,
    "start_time": "2023-06-23T15:09:44.553Z"
   },
   {
    "duration": 83,
    "start_time": "2023-06-23T15:10:05.445Z"
   },
   {
    "duration": 356,
    "start_time": "2023-06-23T15:10:16.808Z"
   },
   {
    "duration": 425,
    "start_time": "2023-06-23T15:10:23.517Z"
   },
   {
    "duration": 132,
    "start_time": "2023-06-23T15:15:59.567Z"
   },
   {
    "duration": 75,
    "start_time": "2023-06-23T15:16:05.932Z"
   },
   {
    "duration": 72,
    "start_time": "2023-06-23T15:16:21.647Z"
   },
   {
    "duration": 75,
    "start_time": "2023-06-23T15:16:23.453Z"
   },
   {
    "duration": 147,
    "start_time": "2023-06-23T15:16:38.431Z"
   },
   {
    "duration": 4,
    "start_time": "2023-06-23T15:16:44.904Z"
   },
   {
    "duration": 3,
    "start_time": "2023-06-23T15:16:56.804Z"
   },
   {
    "duration": 3,
    "start_time": "2023-06-23T15:18:08.250Z"
   },
   {
    "duration": 3,
    "start_time": "2023-06-23T15:18:19.311Z"
   },
   {
    "duration": 9,
    "start_time": "2023-06-23T15:18:26.538Z"
   },
   {
    "duration": 271,
    "start_time": "2023-06-23T15:18:43.452Z"
   },
   {
    "duration": 178,
    "start_time": "2023-06-23T15:18:49.101Z"
   },
   {
    "duration": 10,
    "start_time": "2023-06-23T15:18:58.475Z"
   },
   {
    "duration": 9,
    "start_time": "2023-06-23T15:19:33.312Z"
   },
   {
    "duration": 10,
    "start_time": "2023-06-23T15:19:38.269Z"
   },
   {
    "duration": 164,
    "start_time": "2023-06-23T15:20:06.337Z"
   },
   {
    "duration": 4,
    "start_time": "2023-06-23T15:20:15.009Z"
   },
   {
    "duration": 132,
    "start_time": "2023-06-23T15:20:15.166Z"
   },
   {
    "duration": 5,
    "start_time": "2023-06-23T15:20:25.706Z"
   },
   {
    "duration": 6,
    "start_time": "2023-06-23T15:20:40.111Z"
   },
   {
    "duration": 5,
    "start_time": "2023-06-23T15:20:43.224Z"
   },
   {
    "duration": 4,
    "start_time": "2023-06-23T15:21:05.912Z"
   },
   {
    "duration": 141,
    "start_time": "2023-06-23T15:21:06.071Z"
   },
   {
    "duration": 1146,
    "start_time": "2023-06-23T15:21:12.440Z"
   },
   {
    "duration": 4,
    "start_time": "2023-06-23T15:21:13.588Z"
   },
   {
    "duration": 841,
    "start_time": "2023-06-23T15:21:13.594Z"
   },
   {
    "duration": 26,
    "start_time": "2023-06-23T15:21:14.437Z"
   },
   {
    "duration": 277,
    "start_time": "2023-06-23T15:21:14.465Z"
   },
   {
    "duration": 320,
    "start_time": "2023-06-23T15:21:14.744Z"
   },
   {
    "duration": 174,
    "start_time": "2023-06-23T15:21:15.066Z"
   },
   {
    "duration": 14,
    "start_time": "2023-06-23T15:21:15.241Z"
   },
   {
    "duration": 348,
    "start_time": "2023-06-23T15:21:15.257Z"
   },
   {
    "duration": 199,
    "start_time": "2023-06-23T15:21:15.608Z"
   },
   {
    "duration": 173,
    "start_time": "2023-06-23T15:21:15.809Z"
   },
   {
    "duration": 442,
    "start_time": "2023-06-23T15:21:15.984Z"
   },
   {
    "duration": 254,
    "start_time": "2023-06-23T15:21:16.428Z"
   },
   {
    "duration": 37,
    "start_time": "2023-06-23T15:21:16.687Z"
   },
   {
    "duration": 18,
    "start_time": "2023-06-23T15:21:16.726Z"
   },
   {
    "duration": 230,
    "start_time": "2023-06-23T15:21:16.755Z"
   },
   {
    "duration": 80,
    "start_time": "2023-06-23T15:21:16.987Z"
   },
   {
    "duration": 45,
    "start_time": "2023-06-23T15:21:17.069Z"
   },
   {
    "duration": 51438,
    "start_time": "2023-06-23T15:21:17.116Z"
   },
   {
    "duration": 199,
    "start_time": "2023-06-23T15:22:08.556Z"
   },
   {
    "duration": 3,
    "start_time": "2023-06-23T15:22:08.757Z"
   },
   {
    "duration": 307,
    "start_time": "2023-06-23T15:22:08.762Z"
   },
   {
    "duration": 0,
    "start_time": "2023-06-23T15:22:09.071Z"
   },
   {
    "duration": 0,
    "start_time": "2023-06-23T15:22:09.072Z"
   },
   {
    "duration": 2294,
    "start_time": "2023-06-30T14:35:21.601Z"
   },
   {
    "duration": 4,
    "start_time": "2023-06-30T14:35:23.898Z"
   },
   {
    "duration": 3010,
    "start_time": "2023-06-30T14:35:23.904Z"
   },
   {
    "duration": 27,
    "start_time": "2023-06-30T14:35:26.916Z"
   },
   {
    "duration": 271,
    "start_time": "2023-06-30T14:35:26.945Z"
   },
   {
    "duration": 382,
    "start_time": "2023-06-30T14:35:27.218Z"
   },
   {
    "duration": 193,
    "start_time": "2023-06-30T14:35:27.602Z"
   },
   {
    "duration": 6,
    "start_time": "2023-06-30T14:35:27.798Z"
   },
   {
    "duration": 321,
    "start_time": "2023-06-30T14:35:27.805Z"
   },
   {
    "duration": 348,
    "start_time": "2023-06-30T14:35:28.128Z"
   },
   {
    "duration": 362,
    "start_time": "2023-06-30T14:35:28.480Z"
   },
   {
    "duration": 420,
    "start_time": "2023-06-30T14:35:28.844Z"
   },
   {
    "duration": 170,
    "start_time": "2023-06-30T14:35:29.266Z"
   },
   {
    "duration": 45,
    "start_time": "2023-06-30T14:35:29.438Z"
   },
   {
    "duration": 13,
    "start_time": "2023-06-30T14:35:29.485Z"
   },
   {
    "duration": 212,
    "start_time": "2023-06-30T14:35:29.500Z"
   },
   {
    "duration": 72,
    "start_time": "2023-06-30T14:35:29.713Z"
   },
   {
    "duration": 41,
    "start_time": "2023-06-30T14:35:29.787Z"
   },
   {
    "duration": 51792,
    "start_time": "2023-06-30T14:35:29.830Z"
   },
   {
    "duration": 199,
    "start_time": "2023-06-30T14:36:21.624Z"
   },
   {
    "duration": 4,
    "start_time": "2023-06-30T14:36:21.824Z"
   },
   {
    "duration": 324,
    "start_time": "2023-06-30T14:36:21.829Z"
   },
   {
    "duration": 0,
    "start_time": "2023-06-30T14:36:22.155Z"
   },
   {
    "duration": 0,
    "start_time": "2023-06-30T14:36:22.156Z"
   },
   {
    "duration": 296,
    "start_time": "2023-06-30T14:37:42.154Z"
   },
   {
    "duration": 4,
    "start_time": "2023-06-30T14:39:09.349Z"
   },
   {
    "duration": 259,
    "start_time": "2023-06-30T14:39:09.807Z"
   },
   {
    "duration": 4,
    "start_time": "2023-06-30T14:39:22.433Z"
   },
   {
    "duration": 1760,
    "start_time": "2023-06-30T14:39:22.596Z"
   },
   {
    "duration": 5,
    "start_time": "2023-06-30T14:40:13.832Z"
   },
   {
    "duration": 4,
    "start_time": "2023-06-30T14:40:14.403Z"
   },
   {
    "duration": 2765,
    "start_time": "2023-06-30T14:40:15.334Z"
   },
   {
    "duration": 19,
    "start_time": "2023-06-30T14:40:18.101Z"
   },
   {
    "duration": 261,
    "start_time": "2023-06-30T14:40:18.862Z"
   },
   {
    "duration": 309,
    "start_time": "2023-06-30T14:40:24.820Z"
   },
   {
    "duration": 438,
    "start_time": "2023-06-30T14:40:25.593Z"
   },
   {
    "duration": 155,
    "start_time": "2023-06-30T14:40:26.033Z"
   },
   {
    "duration": 6,
    "start_time": "2023-06-30T14:40:26.190Z"
   },
   {
    "duration": 391,
    "start_time": "2023-06-30T14:40:26.214Z"
   },
   {
    "duration": 826,
    "start_time": "2023-06-30T14:40:26.607Z"
   },
   {
    "duration": 376,
    "start_time": "2023-06-30T14:40:27.435Z"
   },
   {
    "duration": 390,
    "start_time": "2023-06-30T14:40:27.813Z"
   },
   {
    "duration": 202,
    "start_time": "2023-06-30T14:40:28.206Z"
   },
   {
    "duration": 30,
    "start_time": "2023-06-30T14:40:28.410Z"
   },
   {
    "duration": 15,
    "start_time": "2023-06-30T14:40:28.798Z"
   },
   {
    "duration": 209,
    "start_time": "2023-06-30T14:40:29.334Z"
   },
   {
    "duration": 74,
    "start_time": "2023-06-30T14:40:29.866Z"
   },
   {
    "duration": 54,
    "start_time": "2023-06-30T14:40:30.435Z"
   },
   {
    "duration": 51254,
    "start_time": "2023-06-30T14:40:31.008Z"
   },
   {
    "duration": 191,
    "start_time": "2023-06-30T14:41:22.264Z"
   },
   {
    "duration": 12,
    "start_time": "2023-06-30T14:41:22.456Z"
   },
   {
    "duration": 323,
    "start_time": "2023-06-30T14:41:22.470Z"
   },
   {
    "duration": 32,
    "start_time": "2023-06-30T14:42:07.512Z"
   },
   {
    "duration": 1204,
    "start_time": "2023-06-30T14:43:51.347Z"
   },
   {
    "duration": 16,
    "start_time": "2023-06-30T14:43:59.737Z"
   },
   {
    "duration": 6,
    "start_time": "2023-06-30T14:44:04.314Z"
   },
   {
    "duration": 1367,
    "start_time": "2023-06-30T14:44:20.097Z"
   },
   {
    "duration": 302,
    "start_time": "2023-06-30T14:44:42.279Z"
   },
   {
    "duration": 72,
    "start_time": "2023-06-30T14:45:09.904Z"
   },
   {
    "duration": 271,
    "start_time": "2023-06-30T14:45:17.147Z"
   },
   {
    "duration": 232,
    "start_time": "2023-06-30T14:45:21.330Z"
   },
   {
    "duration": 225,
    "start_time": "2023-06-30T14:45:29.168Z"
   },
   {
    "duration": 67,
    "start_time": "2023-06-30T14:46:29.007Z"
   },
   {
    "duration": 232,
    "start_time": "2023-06-30T14:46:38.028Z"
   },
   {
    "duration": 19,
    "start_time": "2023-06-30T14:46:43.635Z"
   },
   {
    "duration": 331,
    "start_time": "2023-06-30T14:46:57.230Z"
   },
   {
    "duration": 17,
    "start_time": "2023-06-30T14:46:58.327Z"
   },
   {
    "duration": 293,
    "start_time": "2023-06-30T14:47:24.163Z"
   },
   {
    "duration": 14,
    "start_time": "2023-06-30T14:47:24.796Z"
   },
   {
    "duration": 9,
    "start_time": "2023-06-30T14:48:33.504Z"
   },
   {
    "duration": 38,
    "start_time": "2023-06-30T14:48:35.602Z"
   },
   {
    "duration": 1375,
    "start_time": "2023-06-30T14:48:45.803Z"
   },
   {
    "duration": 2923,
    "start_time": "2023-06-30T14:50:01.520Z"
   },
   {
    "duration": 264,
    "start_time": "2023-06-30T14:50:14.636Z"
   },
   {
    "duration": 314,
    "start_time": "2023-06-30T14:50:31.037Z"
   },
   {
    "duration": 548,
    "start_time": "2023-06-30T14:50:39.170Z"
   },
   {
    "duration": 46,
    "start_time": "2023-06-30T14:50:44.264Z"
   },
   {
    "duration": 40,
    "start_time": "2023-06-30T14:50:58.071Z"
   },
   {
    "duration": 388,
    "start_time": "2023-06-30T14:51:14.352Z"
   },
   {
    "duration": 7,
    "start_time": "2023-06-30T14:51:43.452Z"
   },
   {
    "duration": 2739,
    "start_time": "2023-06-30T14:52:08.044Z"
   },
   {
    "duration": 64,
    "start_time": "2023-06-30T14:53:11.898Z"
   },
   {
    "duration": 4,
    "start_time": "2023-06-30T15:00:36.150Z"
   },
   {
    "duration": 26,
    "start_time": "2023-06-30T15:02:39.959Z"
   },
   {
    "duration": 10,
    "start_time": "2023-06-30T15:02:49.742Z"
   },
   {
    "duration": 9,
    "start_time": "2023-06-30T15:02:56.568Z"
   },
   {
    "duration": 9,
    "start_time": "2023-06-30T15:03:00.219Z"
   },
   {
    "duration": 45,
    "start_time": "2023-06-30T15:03:21.703Z"
   },
   {
    "duration": 53,
    "start_time": "2023-06-30T15:03:26.004Z"
   },
   {
    "duration": 209,
    "start_time": "2023-06-30T15:03:40.085Z"
   },
   {
    "duration": 1120,
    "start_time": "2023-06-30T15:03:50.131Z"
   },
   {
    "duration": 1149,
    "start_time": "2023-06-30T15:04:39.720Z"
   },
   {
    "duration": 3,
    "start_time": "2023-06-30T15:05:16.136Z"
   },
   {
    "duration": 176,
    "start_time": "2023-06-30T15:05:21.316Z"
   },
   {
    "duration": 49,
    "start_time": "2023-06-30T15:06:38.808Z"
   },
   {
    "duration": 5339,
    "start_time": "2023-06-30T15:10:31.054Z"
   },
   {
    "duration": 8,
    "start_time": "2023-06-30T15:10:43.394Z"
   },
   {
    "duration": 1144,
    "start_time": "2023-06-30T15:10:47.252Z"
   },
   {
    "duration": 3,
    "start_time": "2023-06-30T15:10:48.398Z"
   },
   {
    "duration": 3014,
    "start_time": "2023-06-30T15:10:48.402Z"
   },
   {
    "duration": 21,
    "start_time": "2023-06-30T15:10:51.418Z"
   },
   {
    "duration": 261,
    "start_time": "2023-06-30T15:10:51.440Z"
   },
   {
    "duration": 328,
    "start_time": "2023-06-30T15:10:51.702Z"
   },
   {
    "duration": 187,
    "start_time": "2023-06-30T15:10:52.032Z"
   },
   {
    "duration": 4,
    "start_time": "2023-06-30T15:10:52.221Z"
   },
   {
    "duration": 353,
    "start_time": "2023-06-30T15:10:52.227Z"
   },
   {
    "duration": 174,
    "start_time": "2023-06-30T15:10:52.583Z"
   },
   {
    "duration": 168,
    "start_time": "2023-06-30T15:10:52.759Z"
   },
   {
    "duration": 466,
    "start_time": "2023-06-30T15:10:52.929Z"
   },
   {
    "duration": 186,
    "start_time": "2023-06-30T15:10:53.397Z"
   },
   {
    "duration": 31,
    "start_time": "2023-06-30T15:10:53.584Z"
   },
   {
    "duration": 13,
    "start_time": "2023-06-30T15:10:53.617Z"
   },
   {
    "duration": 225,
    "start_time": "2023-06-30T15:10:53.632Z"
   },
   {
    "duration": 78,
    "start_time": "2023-06-30T15:10:53.858Z"
   },
   {
    "duration": 67,
    "start_time": "2023-06-30T15:10:53.938Z"
   },
   {
    "duration": 51394,
    "start_time": "2023-06-30T15:10:54.007Z"
   },
   {
    "duration": 185,
    "start_time": "2023-06-30T15:11:45.403Z"
   },
   {
    "duration": 3,
    "start_time": "2023-06-30T15:11:45.593Z"
   },
   {
    "duration": 349,
    "start_time": "2023-06-30T15:11:45.598Z"
   },
   {
    "duration": 1588,
    "start_time": "2023-06-30T15:11:45.949Z"
   },
   {
    "duration": 1227,
    "start_time": "2023-06-30T15:16:02.993Z"
   },
   {
    "duration": 1168,
    "start_time": "2023-06-30T15:16:10.233Z"
   },
   {
    "duration": 3,
    "start_time": "2023-06-30T15:16:11.403Z"
   },
   {
    "duration": 1033,
    "start_time": "2023-06-30T15:16:11.407Z"
   },
   {
    "duration": 18,
    "start_time": "2023-06-30T15:16:12.441Z"
   },
   {
    "duration": 233,
    "start_time": "2023-06-30T15:16:12.461Z"
   },
   {
    "duration": 283,
    "start_time": "2023-06-30T15:16:12.695Z"
   },
   {
    "duration": 155,
    "start_time": "2023-06-30T15:16:12.979Z"
   },
   {
    "duration": 4,
    "start_time": "2023-06-30T15:16:13.136Z"
   },
   {
    "duration": 340,
    "start_time": "2023-06-30T15:16:13.142Z"
   },
   {
    "duration": 169,
    "start_time": "2023-06-30T15:16:13.484Z"
   },
   {
    "duration": 173,
    "start_time": "2023-06-30T15:16:13.655Z"
   },
   {
    "duration": 374,
    "start_time": "2023-06-30T15:16:13.832Z"
   },
   {
    "duration": 186,
    "start_time": "2023-06-30T15:16:14.208Z"
   },
   {
    "duration": 36,
    "start_time": "2023-06-30T15:16:14.396Z"
   },
   {
    "duration": 14,
    "start_time": "2023-06-30T15:16:14.433Z"
   },
   {
    "duration": 205,
    "start_time": "2023-06-30T15:16:14.449Z"
   },
   {
    "duration": 83,
    "start_time": "2023-06-30T15:16:14.656Z"
   },
   {
    "duration": 46,
    "start_time": "2023-06-30T15:16:14.741Z"
   },
   {
    "duration": 48419,
    "start_time": "2023-06-30T15:16:14.789Z"
   },
   {
    "duration": 179,
    "start_time": "2023-06-30T15:17:03.209Z"
   },
   {
    "duration": 3,
    "start_time": "2023-06-30T15:17:03.390Z"
   },
   {
    "duration": 415,
    "start_time": "2023-06-30T15:17:03.395Z"
   },
   {
    "duration": 1431,
    "start_time": "2023-06-30T15:17:03.812Z"
   },
   {
    "duration": 1332,
    "start_time": "2023-06-30T15:17:05.245Z"
   },
   {
    "duration": 25,
    "start_time": "2023-06-30T15:35:37.905Z"
   },
   {
    "duration": 240,
    "start_time": "2023-06-30T15:39:13.601Z"
   },
   {
    "duration": 461,
    "start_time": "2023-07-02T13:49:52.552Z"
   },
   {
    "duration": 3,
    "start_time": "2023-07-02T13:49:53.015Z"
   },
   {
    "duration": 3720,
    "start_time": "2023-07-02T13:49:53.020Z"
   },
   {
    "duration": 37,
    "start_time": "2023-07-02T13:49:56.743Z"
   },
   {
    "duration": 360,
    "start_time": "2023-07-02T13:49:56.792Z"
   },
   {
    "duration": 384,
    "start_time": "2023-07-02T13:49:57.160Z"
   },
   {
    "duration": 255,
    "start_time": "2023-07-02T13:49:57.546Z"
   },
   {
    "duration": 9,
    "start_time": "2023-07-02T13:49:57.803Z"
   },
   {
    "duration": 407,
    "start_time": "2023-07-02T13:49:57.815Z"
   },
   {
    "duration": 188,
    "start_time": "2023-07-02T13:49:58.224Z"
   },
   {
    "duration": 167,
    "start_time": "2023-07-02T13:49:58.414Z"
   },
   {
    "duration": 513,
    "start_time": "2023-07-02T13:49:58.583Z"
   },
   {
    "duration": 220,
    "start_time": "2023-07-02T13:49:59.097Z"
   },
   {
    "duration": 54,
    "start_time": "2023-07-02T13:49:59.320Z"
   },
   {
    "duration": 16,
    "start_time": "2023-07-02T13:49:59.380Z"
   },
   {
    "duration": 243,
    "start_time": "2023-07-02T13:49:59.398Z"
   },
   {
    "duration": 96,
    "start_time": "2023-07-02T13:49:59.642Z"
   },
   {
    "duration": 69,
    "start_time": "2023-07-02T13:49:59.740Z"
   },
   {
    "duration": 61478,
    "start_time": "2023-07-02T13:49:59.811Z"
   },
   {
    "duration": 261,
    "start_time": "2023-07-02T13:51:01.298Z"
   },
   {
    "duration": 10,
    "start_time": "2023-07-02T13:51:01.569Z"
   },
   {
    "duration": 459,
    "start_time": "2023-07-02T13:51:01.585Z"
   },
   {
    "duration": 1596,
    "start_time": "2023-07-02T13:51:02.047Z"
   },
   {
    "duration": 290,
    "start_time": "2023-07-02T13:51:03.645Z"
   },
   {
    "duration": 114,
    "start_time": "2023-07-02T14:38:57.303Z"
   },
   {
    "duration": 13,
    "start_time": "2023-07-02T14:39:00.995Z"
   },
   {
    "duration": 23,
    "start_time": "2023-07-02T14:39:32.254Z"
   },
   {
    "duration": 11,
    "start_time": "2023-07-02T14:39:38.512Z"
   },
   {
    "duration": 16,
    "start_time": "2023-07-02T14:42:01.881Z"
   },
   {
    "duration": 66,
    "start_time": "2023-07-02T14:46:11.373Z"
   },
   {
    "duration": 158,
    "start_time": "2023-07-02T14:46:13.706Z"
   },
   {
    "duration": 29,
    "start_time": "2023-07-02T14:46:20.672Z"
   },
   {
    "duration": 275,
    "start_time": "2023-07-02T14:46:50.503Z"
   },
   {
    "duration": 228,
    "start_time": "2023-07-02T14:46:54.274Z"
   },
   {
    "duration": 34,
    "start_time": "2023-07-02T14:47:35.610Z"
   },
   {
    "duration": 287,
    "start_time": "2023-07-02T14:47:57.412Z"
   },
   {
    "duration": 46,
    "start_time": "2023-07-02T14:49:15.152Z"
   },
   {
    "duration": 49,
    "start_time": "2023-07-02T14:49:27.238Z"
   },
   {
    "duration": 6,
    "start_time": "2023-07-02T14:49:33.535Z"
   },
   {
    "duration": 35,
    "start_time": "2023-07-02T14:49:36.126Z"
   },
   {
    "duration": 126,
    "start_time": "2023-07-02T14:50:34.774Z"
   },
   {
    "duration": 30,
    "start_time": "2023-07-02T14:50:51.810Z"
   },
   {
    "duration": 22,
    "start_time": "2023-07-02T14:53:04.474Z"
   },
   {
    "duration": 22,
    "start_time": "2023-07-02T14:53:11.462Z"
   },
   {
    "duration": 6,
    "start_time": "2023-07-02T14:53:15.673Z"
   },
   {
    "duration": 22,
    "start_time": "2023-07-02T14:53:18.834Z"
   },
   {
    "duration": 23,
    "start_time": "2023-07-02T14:53:52.015Z"
   },
   {
    "duration": 23,
    "start_time": "2023-07-02T14:53:57.614Z"
   },
   {
    "duration": 50,
    "start_time": "2023-07-02T14:54:08.423Z"
   },
   {
    "duration": 51,
    "start_time": "2023-07-02T14:54:14.436Z"
   },
   {
    "duration": 81,
    "start_time": "2023-07-02T14:54:21.727Z"
   },
   {
    "duration": 53,
    "start_time": "2023-07-02T14:54:26.437Z"
   },
   {
    "duration": 234,
    "start_time": "2023-07-02T14:55:08.751Z"
   },
   {
    "duration": 111,
    "start_time": "2023-07-02T14:56:21.207Z"
   },
   {
    "duration": 238,
    "start_time": "2023-07-02T14:56:21.552Z"
   },
   {
    "duration": 39,
    "start_time": "2023-07-02T14:56:32.540Z"
   },
   {
    "duration": 232,
    "start_time": "2023-07-02T14:58:19.007Z"
   },
   {
    "duration": 192,
    "start_time": "2023-07-02T14:58:36.109Z"
   },
   {
    "duration": 223,
    "start_time": "2023-07-02T14:58:57.620Z"
   },
   {
    "duration": 97,
    "start_time": "2023-07-02T14:59:30.729Z"
   },
   {
    "duration": 302,
    "start_time": "2023-07-02T14:59:51.224Z"
   },
   {
    "duration": 266,
    "start_time": "2023-07-02T15:00:19.906Z"
   },
   {
    "duration": 33,
    "start_time": "2023-07-02T15:00:29.554Z"
   },
   {
    "duration": 728,
    "start_time": "2023-07-02T15:00:57.871Z"
   },
   {
    "duration": 9,
    "start_time": "2023-07-02T15:02:05.577Z"
   },
   {
    "duration": 9,
    "start_time": "2023-07-02T15:02:12.910Z"
   },
   {
    "duration": 1189,
    "start_time": "2023-07-02T15:03:38.341Z"
   },
   {
    "duration": 38,
    "start_time": "2023-07-02T15:03:42.005Z"
   },
   {
    "duration": 223,
    "start_time": "2023-07-02T15:03:55.410Z"
   },
   {
    "duration": 370,
    "start_time": "2023-07-02T15:04:11.474Z"
   },
   {
    "duration": 0,
    "start_time": "2023-07-02T15:04:11.856Z"
   },
   {
    "duration": 1166,
    "start_time": "2023-07-02T15:04:16.810Z"
   },
   {
    "duration": 442,
    "start_time": "2023-07-02T15:04:24.608Z"
   },
   {
    "duration": 7,
    "start_time": "2023-07-02T15:04:25.056Z"
   },
   {
    "duration": 1021,
    "start_time": "2023-07-02T15:04:25.069Z"
   },
   {
    "duration": 20,
    "start_time": "2023-07-02T15:04:26.092Z"
   },
   {
    "duration": 372,
    "start_time": "2023-07-02T15:04:26.115Z"
   },
   {
    "duration": 396,
    "start_time": "2023-07-02T15:04:26.489Z"
   },
   {
    "duration": 193,
    "start_time": "2023-07-02T15:04:26.887Z"
   },
   {
    "duration": 7,
    "start_time": "2023-07-02T15:04:27.083Z"
   },
   {
    "duration": 477,
    "start_time": "2023-07-02T15:04:27.092Z"
   },
   {
    "duration": 228,
    "start_time": "2023-07-02T15:04:27.571Z"
   },
   {
    "duration": 175,
    "start_time": "2023-07-02T15:04:27.802Z"
   },
   {
    "duration": 515,
    "start_time": "2023-07-02T15:04:27.979Z"
   },
   {
    "duration": 193,
    "start_time": "2023-07-02T15:04:28.496Z"
   },
   {
    "duration": 32,
    "start_time": "2023-07-02T15:04:28.692Z"
   },
   {
    "duration": 39,
    "start_time": "2023-07-02T15:04:28.726Z"
   },
   {
    "duration": 244,
    "start_time": "2023-07-02T15:04:28.766Z"
   },
   {
    "duration": 99,
    "start_time": "2023-07-02T15:04:29.011Z"
   },
   {
    "duration": 60,
    "start_time": "2023-07-02T15:04:29.112Z"
   },
   {
    "duration": 58137,
    "start_time": "2023-07-02T15:04:29.174Z"
   },
   {
    "duration": 299,
    "start_time": "2023-07-02T15:05:27.313Z"
   },
   {
    "duration": 7,
    "start_time": "2023-07-02T15:05:27.617Z"
   },
   {
    "duration": 390,
    "start_time": "2023-07-02T15:05:27.627Z"
   },
   {
    "duration": 1749,
    "start_time": "2023-07-02T15:05:28.019Z"
   },
   {
    "duration": 196,
    "start_time": "2023-07-02T15:05:29.770Z"
   },
   {
    "duration": 130,
    "start_time": "2023-07-02T15:05:29.969Z"
   },
   {
    "duration": 1289,
    "start_time": "2023-07-02T15:05:30.113Z"
   },
   {
    "duration": 292,
    "start_time": "2023-07-02T15:05:31.405Z"
   },
   {
    "duration": 33,
    "start_time": "2023-07-02T15:09:22.191Z"
   },
   {
    "duration": 43,
    "start_time": "2023-07-02T15:09:24.529Z"
   },
   {
    "duration": 22,
    "start_time": "2023-07-02T15:09:29.879Z"
   },
   {
    "duration": 38,
    "start_time": "2023-07-02T15:10:01.252Z"
   },
   {
    "duration": 64,
    "start_time": "2023-07-02T15:10:15.545Z"
   },
   {
    "duration": 1202,
    "start_time": "2023-07-02T15:10:21.516Z"
   },
   {
    "duration": 62,
    "start_time": "2023-07-02T15:10:22.721Z"
   },
   {
    "duration": 21,
    "start_time": "2023-07-02T15:10:48.828Z"
   },
   {
    "duration": 22,
    "start_time": "2023-07-02T15:10:56.318Z"
   },
   {
    "duration": 21,
    "start_time": "2023-07-02T15:11:04.971Z"
   },
   {
    "duration": 23,
    "start_time": "2023-07-02T15:11:13.002Z"
   },
   {
    "duration": 10,
    "start_time": "2023-07-02T15:11:35.071Z"
   },
   {
    "duration": 1259,
    "start_time": "2023-07-02T15:13:07.916Z"
   },
   {
    "duration": 276,
    "start_time": "2023-07-02T15:13:18.669Z"
   },
   {
    "duration": 37,
    "start_time": "2023-07-02T15:14:47.682Z"
   },
   {
    "duration": 26,
    "start_time": "2023-07-02T15:15:03.225Z"
   },
   {
    "duration": 966,
    "start_time": "2023-07-02T15:15:35.430Z"
   },
   {
    "duration": 138,
    "start_time": "2023-07-02T15:15:42.571Z"
   },
   {
    "duration": 5440,
    "start_time": "2023-07-02T15:15:45.589Z"
   },
   {
    "duration": 138,
    "start_time": "2023-07-02T15:16:02.529Z"
   },
   {
    "duration": 5391,
    "start_time": "2023-07-02T15:16:18.553Z"
   },
   {
    "duration": 3,
    "start_time": "2023-07-02T15:16:35.237Z"
   },
   {
    "duration": 5461,
    "start_time": "2023-07-02T15:17:09.608Z"
   },
   {
    "duration": 6044,
    "start_time": "2023-07-02T15:17:30.095Z"
   },
   {
    "duration": 503,
    "start_time": "2023-07-02T15:18:49.930Z"
   },
   {
    "duration": 8724,
    "start_time": "2023-07-02T15:19:03.528Z"
   },
   {
    "duration": 6441,
    "start_time": "2023-07-02T15:19:49.181Z"
   },
   {
    "duration": 6347,
    "start_time": "2023-07-02T15:19:57.973Z"
   },
   {
    "duration": 38,
    "start_time": "2023-07-02T15:21:20.044Z"
   },
   {
    "duration": 204,
    "start_time": "2023-07-02T15:26:06.394Z"
   },
   {
    "duration": 10,
    "start_time": "2023-07-02T15:26:10.092Z"
   },
   {
    "duration": 783,
    "start_time": "2023-07-02T15:26:32.653Z"
   },
   {
    "duration": 3,
    "start_time": "2023-07-02T15:26:33.438Z"
   },
   {
    "duration": 1051,
    "start_time": "2023-07-02T15:26:33.443Z"
   },
   {
    "duration": 19,
    "start_time": "2023-07-02T15:26:34.496Z"
   },
   {
    "duration": 351,
    "start_time": "2023-07-02T15:26:34.518Z"
   },
   {
    "duration": 344,
    "start_time": "2023-07-02T15:26:34.871Z"
   },
   {
    "duration": 213,
    "start_time": "2023-07-02T15:26:35.217Z"
   },
   {
    "duration": 7,
    "start_time": "2023-07-02T15:26:35.431Z"
   },
   {
    "duration": 418,
    "start_time": "2023-07-02T15:26:35.463Z"
   },
   {
    "duration": 201,
    "start_time": "2023-07-02T15:26:35.885Z"
   },
   {
    "duration": 175,
    "start_time": "2023-07-02T15:26:36.088Z"
   },
   {
    "duration": 543,
    "start_time": "2023-07-02T15:26:36.269Z"
   },
   {
    "duration": 222,
    "start_time": "2023-07-02T15:26:36.815Z"
   },
   {
    "duration": 54,
    "start_time": "2023-07-02T15:26:37.040Z"
   },
   {
    "duration": 27,
    "start_time": "2023-07-02T15:26:37.096Z"
   },
   {
    "duration": 318,
    "start_time": "2023-07-02T15:26:37.125Z"
   },
   {
    "duration": 124,
    "start_time": "2023-07-02T15:26:37.445Z"
   },
   {
    "duration": 82,
    "start_time": "2023-07-02T15:26:37.574Z"
   },
   {
    "duration": 60773,
    "start_time": "2023-07-02T15:26:37.658Z"
   },
   {
    "duration": 230,
    "start_time": "2023-07-02T15:27:38.433Z"
   },
   {
    "duration": 5,
    "start_time": "2023-07-02T15:27:38.664Z"
   },
   {
    "duration": 419,
    "start_time": "2023-07-02T15:27:38.671Z"
   },
   {
    "duration": 1650,
    "start_time": "2023-07-02T15:27:39.092Z"
   },
   {
    "duration": 185,
    "start_time": "2023-07-02T15:27:40.744Z"
   },
   {
    "duration": 128,
    "start_time": "2023-07-02T15:27:40.931Z"
   },
   {
    "duration": 1338,
    "start_time": "2023-07-02T15:27:41.061Z"
   },
   {
    "duration": 256,
    "start_time": "2023-07-02T15:27:42.401Z"
   },
   {
    "duration": 6181,
    "start_time": "2023-07-02T15:27:42.663Z"
   },
   {
    "duration": 221,
    "start_time": "2023-07-02T15:27:48.854Z"
   },
   {
    "duration": 11,
    "start_time": "2023-07-02T15:27:49.080Z"
   },
   {
    "duration": 752,
    "start_time": "2023-07-02T15:28:58.936Z"
   },
   {
    "duration": 3,
    "start_time": "2023-07-02T15:28:59.690Z"
   },
   {
    "duration": 1046,
    "start_time": "2023-07-02T15:28:59.695Z"
   },
   {
    "duration": 36,
    "start_time": "2023-07-02T15:29:00.743Z"
   },
   {
    "duration": 345,
    "start_time": "2023-07-02T15:29:00.781Z"
   },
   {
    "duration": 368,
    "start_time": "2023-07-02T15:29:01.128Z"
   },
   {
    "duration": 215,
    "start_time": "2023-07-02T15:29:01.498Z"
   },
   {
    "duration": 6,
    "start_time": "2023-07-02T15:29:01.715Z"
   },
   {
    "duration": 416,
    "start_time": "2023-07-02T15:29:01.722Z"
   },
   {
    "duration": 202,
    "start_time": "2023-07-02T15:29:02.140Z"
   },
   {
    "duration": 181,
    "start_time": "2023-07-02T15:29:02.343Z"
   },
   {
    "duration": 516,
    "start_time": "2023-07-02T15:29:02.526Z"
   },
   {
    "duration": 212,
    "start_time": "2023-07-02T15:29:03.043Z"
   },
   {
    "duration": 49,
    "start_time": "2023-07-02T15:29:03.259Z"
   },
   {
    "duration": 17,
    "start_time": "2023-07-02T15:29:03.310Z"
   },
   {
    "duration": 289,
    "start_time": "2023-07-02T15:29:03.330Z"
   },
   {
    "duration": 104,
    "start_time": "2023-07-02T15:29:03.622Z"
   },
   {
    "duration": 70,
    "start_time": "2023-07-02T15:29:03.728Z"
   },
   {
    "duration": 61806,
    "start_time": "2023-07-02T15:29:03.801Z"
   },
   {
    "duration": 233,
    "start_time": "2023-07-02T15:30:05.609Z"
   },
   {
    "duration": 18,
    "start_time": "2023-07-02T15:30:05.844Z"
   },
   {
    "duration": 429,
    "start_time": "2023-07-02T15:30:05.864Z"
   },
   {
    "duration": 1767,
    "start_time": "2023-07-02T15:30:06.295Z"
   },
   {
    "duration": 167,
    "start_time": "2023-07-02T15:30:08.063Z"
   },
   {
    "duration": 126,
    "start_time": "2023-07-02T15:30:08.232Z"
   },
   {
    "duration": 1287,
    "start_time": "2023-07-02T15:30:08.363Z"
   },
   {
    "duration": 278,
    "start_time": "2023-07-02T15:30:09.653Z"
   },
   {
    "duration": 5495,
    "start_time": "2023-07-02T15:30:09.933Z"
   },
   {
    "duration": 170,
    "start_time": "2023-07-02T15:30:15.429Z"
   },
   {
    "duration": 173,
    "start_time": "2023-07-02T15:30:36.809Z"
   },
   {
    "duration": 176,
    "start_time": "2023-07-02T15:31:10.940Z"
   },
   {
    "duration": 5,
    "start_time": "2023-07-02T15:31:25.592Z"
   },
   {
    "duration": 10,
    "start_time": "2023-07-02T15:31:49.731Z"
   },
   {
    "duration": 173,
    "start_time": "2023-07-02T15:32:24.274Z"
   },
   {
    "duration": 125,
    "start_time": "2023-07-02T15:32:53.402Z"
   },
   {
    "duration": 188,
    "start_time": "2023-07-02T15:33:03.396Z"
   },
   {
    "duration": 166,
    "start_time": "2023-07-02T15:34:00.111Z"
   },
   {
    "duration": 15,
    "start_time": "2023-07-02T15:34:41.108Z"
   },
   {
    "duration": 57,
    "start_time": "2023-07-02T15:34:49.431Z"
   },
   {
    "duration": 36,
    "start_time": "2023-07-02T15:36:00.710Z"
   },
   {
    "duration": 343,
    "start_time": "2023-07-02T15:36:07.438Z"
   },
   {
    "duration": 6,
    "start_time": "2023-07-02T15:36:19.220Z"
   },
   {
    "duration": 62,
    "start_time": "2023-07-02T15:36:49.682Z"
   },
   {
    "duration": 406,
    "start_time": "2023-07-02T15:36:49.863Z"
   },
   {
    "duration": 35,
    "start_time": "2023-07-02T15:36:52.286Z"
   },
   {
    "duration": 6,
    "start_time": "2023-07-02T15:36:55.690Z"
   },
   {
    "duration": 34,
    "start_time": "2023-07-02T15:37:12.295Z"
   },
   {
    "duration": 14,
    "start_time": "2023-07-02T15:38:03.509Z"
   },
   {
    "duration": 14,
    "start_time": "2023-07-02T15:38:10.435Z"
   },
   {
    "duration": 52,
    "start_time": "2023-07-02T15:38:34.699Z"
   },
   {
    "duration": 90,
    "start_time": "2023-07-02T15:38:42.295Z"
   },
   {
    "duration": 79,
    "start_time": "2023-07-02T15:39:53.232Z"
   },
   {
    "duration": 33,
    "start_time": "2023-07-02T15:39:55.610Z"
   },
   {
    "duration": 4982,
    "start_time": "2023-07-02T15:40:00.297Z"
   },
   {
    "duration": 8,
    "start_time": "2023-07-02T15:40:29.831Z"
   },
   {
    "duration": 10,
    "start_time": "2023-07-02T15:40:34.270Z"
   },
   {
    "duration": 391,
    "start_time": "2023-07-02T15:40:39.987Z"
   },
   {
    "duration": 58,
    "start_time": "2023-07-02T15:41:41.810Z"
   },
   {
    "duration": 45,
    "start_time": "2023-07-02T15:41:52.919Z"
   },
   {
    "duration": 7,
    "start_time": "2023-07-02T15:42:00.706Z"
   },
   {
    "duration": 12,
    "start_time": "2023-07-02T15:42:04.027Z"
   },
   {
    "duration": 16,
    "start_time": "2023-07-02T15:42:08.909Z"
   },
   {
    "duration": 31,
    "start_time": "2023-07-02T15:42:18.321Z"
   },
   {
    "duration": 11,
    "start_time": "2023-07-02T15:42:45.744Z"
   },
   {
    "duration": 8,
    "start_time": "2023-07-02T15:42:49.418Z"
   },
   {
    "duration": 109,
    "start_time": "2023-07-02T15:43:27.993Z"
   },
   {
    "duration": 787,
    "start_time": "2023-07-02T15:43:56.044Z"
   },
   {
    "duration": 4,
    "start_time": "2023-07-02T15:43:56.833Z"
   },
   {
    "duration": 1180,
    "start_time": "2023-07-02T15:43:56.839Z"
   },
   {
    "duration": 21,
    "start_time": "2023-07-02T15:43:58.023Z"
   },
   {
    "duration": 461,
    "start_time": "2023-07-02T15:43:58.047Z"
   },
   {
    "duration": 429,
    "start_time": "2023-07-02T15:43:58.511Z"
   },
   {
    "duration": 251,
    "start_time": "2023-07-02T15:43:58.943Z"
   },
   {
    "duration": 12,
    "start_time": "2023-07-02T15:43:59.199Z"
   },
   {
    "duration": 428,
    "start_time": "2023-07-02T15:43:59.214Z"
   },
   {
    "duration": 192,
    "start_time": "2023-07-02T15:43:59.659Z"
   },
   {
    "duration": 171,
    "start_time": "2023-07-02T15:43:59.859Z"
   },
   {
    "duration": 631,
    "start_time": "2023-07-02T15:44:00.032Z"
   },
   {
    "duration": 231,
    "start_time": "2023-07-02T15:44:00.668Z"
   },
   {
    "duration": 36,
    "start_time": "2023-07-02T15:44:00.903Z"
   },
   {
    "duration": 62,
    "start_time": "2023-07-02T15:44:00.959Z"
   },
   {
    "duration": 410,
    "start_time": "2023-07-02T15:44:01.024Z"
   },
   {
    "duration": 122,
    "start_time": "2023-07-02T15:44:01.435Z"
   },
   {
    "duration": 78,
    "start_time": "2023-07-02T15:44:01.559Z"
   },
   {
    "duration": 61186,
    "start_time": "2023-07-02T15:44:01.639Z"
   },
   {
    "duration": 237,
    "start_time": "2023-07-02T15:45:02.827Z"
   },
   {
    "duration": 7,
    "start_time": "2023-07-02T15:45:03.066Z"
   },
   {
    "duration": 435,
    "start_time": "2023-07-02T15:45:03.075Z"
   },
   {
    "duration": 1732,
    "start_time": "2023-07-02T15:45:03.512Z"
   },
   {
    "duration": 302,
    "start_time": "2023-07-02T15:45:05.246Z"
   },
   {
    "duration": 210,
    "start_time": "2023-07-02T15:45:05.550Z"
   },
   {
    "duration": 149,
    "start_time": "2023-07-02T15:45:05.770Z"
   },
   {
    "duration": 1268,
    "start_time": "2023-07-02T15:45:05.921Z"
   },
   {
    "duration": 283,
    "start_time": "2023-07-02T15:45:07.191Z"
   },
   {
    "duration": 6085,
    "start_time": "2023-07-02T15:45:07.478Z"
   },
   {
    "duration": 231,
    "start_time": "2023-07-02T15:45:13.573Z"
   },
   {
    "duration": 31,
    "start_time": "2023-07-02T15:45:13.806Z"
   },
   {
    "duration": 4707,
    "start_time": "2023-07-02T15:56:09.525Z"
   },
   {
    "duration": 6701,
    "start_time": "2023-07-02T15:56:57.993Z"
   },
   {
    "duration": 810,
    "start_time": "2023-07-02T15:57:47.436Z"
   },
   {
    "duration": 3,
    "start_time": "2023-07-02T15:57:48.248Z"
   },
   {
    "duration": 1036,
    "start_time": "2023-07-02T15:57:48.254Z"
   },
   {
    "duration": 19,
    "start_time": "2023-07-02T15:57:49.292Z"
   },
   {
    "duration": 354,
    "start_time": "2023-07-02T15:57:49.313Z"
   },
   {
    "duration": 345,
    "start_time": "2023-07-02T15:57:49.680Z"
   },
   {
    "duration": 212,
    "start_time": "2023-07-02T15:57:50.027Z"
   },
   {
    "duration": 6,
    "start_time": "2023-07-02T15:57:50.241Z"
   },
   {
    "duration": 411,
    "start_time": "2023-07-02T15:57:50.248Z"
   },
   {
    "duration": 202,
    "start_time": "2023-07-02T15:57:50.667Z"
   },
   {
    "duration": 154,
    "start_time": "2023-07-02T15:57:50.880Z"
   },
   {
    "duration": 478,
    "start_time": "2023-07-02T15:57:51.036Z"
   },
   {
    "duration": 208,
    "start_time": "2023-07-02T15:57:51.516Z"
   },
   {
    "duration": 58,
    "start_time": "2023-07-02T15:57:51.728Z"
   },
   {
    "duration": 17,
    "start_time": "2023-07-02T15:57:51.787Z"
   },
   {
    "duration": 300,
    "start_time": "2023-07-02T15:57:51.805Z"
   },
   {
    "duration": 105,
    "start_time": "2023-07-02T15:57:52.107Z"
   },
   {
    "duration": 68,
    "start_time": "2023-07-02T15:57:52.214Z"
   },
   {
    "duration": 61639,
    "start_time": "2023-07-02T15:57:52.286Z"
   },
   {
    "duration": 223,
    "start_time": "2023-07-02T15:58:53.927Z"
   },
   {
    "duration": 12,
    "start_time": "2023-07-02T15:58:54.153Z"
   },
   {
    "duration": 405,
    "start_time": "2023-07-02T15:58:54.169Z"
   },
   {
    "duration": 1621,
    "start_time": "2023-07-02T15:58:54.576Z"
   },
   {
    "duration": 298,
    "start_time": "2023-07-02T15:58:56.199Z"
   },
   {
    "duration": 199,
    "start_time": "2023-07-02T15:58:56.499Z"
   },
   {
    "duration": 136,
    "start_time": "2023-07-02T15:58:56.700Z"
   },
   {
    "duration": 1346,
    "start_time": "2023-07-02T15:58:56.838Z"
   },
   {
    "duration": 238,
    "start_time": "2023-07-02T15:58:58.186Z"
   },
   {
    "duration": 5674,
    "start_time": "2023-07-02T15:58:58.426Z"
   },
   {
    "duration": 224,
    "start_time": "2023-07-02T15:59:04.102Z"
   },
   {
    "duration": 6655,
    "start_time": "2023-07-02T15:59:04.328Z"
   },
   {
    "duration": 89,
    "start_time": "2023-07-02T16:02:52.277Z"
   },
   {
    "duration": 8,
    "start_time": "2023-07-02T16:03:08.652Z"
   },
   {
    "duration": 1961,
    "start_time": "2023-07-02T16:03:14.907Z"
   },
   {
    "duration": 16,
    "start_time": "2023-07-02T16:03:19.120Z"
   },
   {
    "duration": 2710,
    "start_time": "2023-07-02T16:03:25.817Z"
   },
   {
    "duration": 13,
    "start_time": "2023-07-02T16:03:28.530Z"
   },
   {
    "duration": 2566,
    "start_time": "2023-07-02T16:03:47.791Z"
   },
   {
    "duration": 924,
    "start_time": "2023-07-02T16:03:50.365Z"
   },
   {
    "duration": 149,
    "start_time": "2023-07-02T16:09:57.191Z"
   },
   {
    "duration": 4,
    "start_time": "2023-07-02T16:11:14.530Z"
   },
   {
    "duration": 60,
    "start_time": "2023-07-02T16:15:16.336Z"
   },
   {
    "duration": 76,
    "start_time": "2023-07-02T16:15:47.429Z"
   },
   {
    "duration": 46,
    "start_time": "2023-07-02T16:15:52.207Z"
   },
   {
    "duration": 11,
    "start_time": "2023-07-02T16:18:53.931Z"
   },
   {
    "duration": 2770,
    "start_time": "2023-07-02T16:22:37.350Z"
   },
   {
    "duration": 1689,
    "start_time": "2023-07-02T16:22:40.123Z"
   },
   {
    "duration": 3,
    "start_time": "2023-07-02T16:22:41.814Z"
   },
   {
    "duration": 1130,
    "start_time": "2023-07-02T16:22:41.818Z"
   },
   {
    "duration": 21,
    "start_time": "2023-07-02T16:22:42.950Z"
   },
   {
    "duration": 444,
    "start_time": "2023-07-02T16:22:42.972Z"
   },
   {
    "duration": 416,
    "start_time": "2023-07-02T16:22:43.418Z"
   },
   {
    "duration": 227,
    "start_time": "2023-07-02T16:22:43.836Z"
   },
   {
    "duration": 8,
    "start_time": "2023-07-02T16:22:44.074Z"
   },
   {
    "duration": 478,
    "start_time": "2023-07-02T16:22:44.083Z"
   },
   {
    "duration": 177,
    "start_time": "2023-07-02T16:22:44.570Z"
   },
   {
    "duration": 154,
    "start_time": "2023-07-02T16:22:44.749Z"
   },
   {
    "duration": 510,
    "start_time": "2023-07-02T16:22:44.907Z"
   },
   {
    "duration": 227,
    "start_time": "2023-07-02T16:22:45.420Z"
   },
   {
    "duration": 60,
    "start_time": "2023-07-02T16:22:45.648Z"
   },
   {
    "duration": 16,
    "start_time": "2023-07-02T16:22:45.710Z"
   },
   {
    "duration": 297,
    "start_time": "2023-07-02T16:22:45.728Z"
   },
   {
    "duration": 107,
    "start_time": "2023-07-02T16:22:46.027Z"
   },
   {
    "duration": 75,
    "start_time": "2023-07-02T16:22:46.136Z"
   },
   {
    "duration": 65723,
    "start_time": "2023-07-02T16:22:46.213Z"
   },
   {
    "duration": 255,
    "start_time": "2023-07-02T16:23:51.938Z"
   },
   {
    "duration": 4,
    "start_time": "2023-07-02T16:23:52.197Z"
   },
   {
    "duration": 423,
    "start_time": "2023-07-02T16:23:52.203Z"
   },
   {
    "duration": 1610,
    "start_time": "2023-07-02T16:23:52.628Z"
   },
   {
    "duration": 319,
    "start_time": "2023-07-02T16:23:54.240Z"
   },
   {
    "duration": 185,
    "start_time": "2023-07-02T16:23:54.568Z"
   },
   {
    "duration": 136,
    "start_time": "2023-07-02T16:23:54.763Z"
   },
   {
    "duration": 1228,
    "start_time": "2023-07-02T16:23:54.901Z"
   },
   {
    "duration": 256,
    "start_time": "2023-07-02T16:23:56.131Z"
   },
   {
    "duration": 5956,
    "start_time": "2023-07-02T16:23:56.392Z"
   },
   {
    "duration": 268,
    "start_time": "2023-07-02T16:24:02.360Z"
   },
   {
    "duration": 6751,
    "start_time": "2023-07-02T16:24:02.630Z"
   },
   {
    "duration": 37,
    "start_time": "2023-07-02T16:24:09.383Z"
   },
   {
    "duration": 176,
    "start_time": "2023-07-02T16:24:09.422Z"
   },
   {
    "duration": 14,
    "start_time": "2023-07-02T16:24:14.907Z"
   },
   {
    "duration": 43,
    "start_time": "2023-07-02T16:24:18.353Z"
   },
   {
    "duration": 41,
    "start_time": "2023-07-02T16:24:24.039Z"
   },
   {
    "duration": 17,
    "start_time": "2023-07-02T16:24:30.887Z"
   },
   {
    "duration": 2338,
    "start_time": "2023-07-02T16:25:09.893Z"
   },
   {
    "duration": 68,
    "start_time": "2023-07-02T16:27:55.544Z"
   },
   {
    "duration": 5,
    "start_time": "2023-07-02T16:28:00.908Z"
   },
   {
    "duration": 4,
    "start_time": "2023-07-02T16:28:02.275Z"
   },
   {
    "duration": 1228,
    "start_time": "2023-07-02T16:28:05.088Z"
   },
   {
    "duration": 1195,
    "start_time": "2023-07-02T16:28:15.296Z"
   },
   {
    "duration": 72,
    "start_time": "2023-07-02T16:28:34.113Z"
   },
   {
    "duration": 6,
    "start_time": "2023-07-02T16:28:55.981Z"
   },
   {
    "duration": 6642,
    "start_time": "2023-07-02T16:29:01.481Z"
   },
   {
    "duration": 4,
    "start_time": "2023-07-02T16:29:14.001Z"
   },
   {
    "duration": 10,
    "start_time": "2023-07-02T16:29:58.193Z"
   },
   {
    "duration": 30,
    "start_time": "2023-07-02T16:29:59.888Z"
   },
   {
    "duration": 6,
    "start_time": "2023-07-02T16:31:25.489Z"
   },
   {
    "duration": 4,
    "start_time": "2023-07-02T16:31:47.228Z"
   },
   {
    "duration": 7355,
    "start_time": "2023-07-02T16:31:51.505Z"
   },
   {
    "duration": 22,
    "start_time": "2023-07-02T16:31:58.865Z"
   },
   {
    "duration": 5,
    "start_time": "2023-07-02T16:32:27.528Z"
   },
   {
    "duration": 2941,
    "start_time": "2023-07-02T16:33:26.952Z"
   },
   {
    "duration": 1700,
    "start_time": "2023-07-02T16:33:29.897Z"
   },
   {
    "duration": 6,
    "start_time": "2023-07-02T16:33:31.606Z"
   },
   {
    "duration": 1126,
    "start_time": "2023-07-02T16:33:31.614Z"
   },
   {
    "duration": 28,
    "start_time": "2023-07-02T16:33:32.743Z"
   },
   {
    "duration": 395,
    "start_time": "2023-07-02T16:33:32.778Z"
   },
   {
    "duration": 372,
    "start_time": "2023-07-02T16:33:33.183Z"
   },
   {
    "duration": 235,
    "start_time": "2023-07-02T16:33:33.562Z"
   },
   {
    "duration": 7,
    "start_time": "2023-07-02T16:33:33.803Z"
   },
   {
    "duration": 433,
    "start_time": "2023-07-02T16:33:33.812Z"
   },
   {
    "duration": 191,
    "start_time": "2023-07-02T16:33:34.247Z"
   },
   {
    "duration": 166,
    "start_time": "2023-07-02T16:33:34.439Z"
   },
   {
    "duration": 494,
    "start_time": "2023-07-02T16:33:34.607Z"
   },
   {
    "duration": 234,
    "start_time": "2023-07-02T16:33:35.106Z"
   },
   {
    "duration": 42,
    "start_time": "2023-07-02T16:33:35.341Z"
   },
   {
    "duration": 23,
    "start_time": "2023-07-02T16:33:35.386Z"
   },
   {
    "duration": 287,
    "start_time": "2023-07-02T16:33:35.412Z"
   },
   {
    "duration": 115,
    "start_time": "2023-07-02T16:33:35.706Z"
   },
   {
    "duration": 63,
    "start_time": "2023-07-02T16:33:35.823Z"
   },
   {
    "duration": 64193,
    "start_time": "2023-07-02T16:33:35.891Z"
   },
   {
    "duration": 229,
    "start_time": "2023-07-02T16:34:40.090Z"
   },
   {
    "duration": 4,
    "start_time": "2023-07-02T16:34:40.321Z"
   },
   {
    "duration": 416,
    "start_time": "2023-07-02T16:34:40.327Z"
   },
   {
    "duration": 1523,
    "start_time": "2023-07-02T16:34:40.745Z"
   },
   {
    "duration": 293,
    "start_time": "2023-07-02T16:34:42.270Z"
   },
   {
    "duration": 169,
    "start_time": "2023-07-02T16:34:42.572Z"
   },
   {
    "duration": 145,
    "start_time": "2023-07-02T16:34:42.743Z"
   },
   {
    "duration": 1240,
    "start_time": "2023-07-02T16:34:42.889Z"
   },
   {
    "duration": 271,
    "start_time": "2023-07-02T16:34:44.131Z"
   },
   {
    "duration": 5834,
    "start_time": "2023-07-02T16:34:44.404Z"
   },
   {
    "duration": 253,
    "start_time": "2023-07-02T16:34:50.240Z"
   },
   {
    "duration": 6403,
    "start_time": "2023-07-02T16:34:50.494Z"
   },
   {
    "duration": 36,
    "start_time": "2023-07-02T16:34:56.899Z"
   },
   {
    "duration": 277,
    "start_time": "2023-07-02T16:35:49.920Z"
   },
   {
    "duration": 31,
    "start_time": "2023-07-02T16:35:52.088Z"
   },
   {
    "duration": 5,
    "start_time": "2023-07-02T16:35:57.191Z"
   },
   {
    "duration": 5,
    "start_time": "2023-07-02T16:36:03.122Z"
   },
   {
    "duration": 5,
    "start_time": "2023-07-02T16:36:08.294Z"
   },
   {
    "duration": 4,
    "start_time": "2023-07-02T16:36:10.993Z"
   },
   {
    "duration": 4,
    "start_time": "2023-07-02T16:36:19.524Z"
   },
   {
    "duration": 273,
    "start_time": "2023-07-02T16:36:32.595Z"
   },
   {
    "duration": 7,
    "start_time": "2023-07-02T16:36:35.086Z"
   },
   {
    "duration": 5,
    "start_time": "2023-07-02T16:36:37.931Z"
   },
   {
    "duration": 4,
    "start_time": "2023-07-02T16:36:40.895Z"
   },
   {
    "duration": 1353,
    "start_time": "2023-07-02T16:37:56.191Z"
   },
   {
    "duration": 54,
    "start_time": "2023-07-02T16:38:19.618Z"
   },
   {
    "duration": 1251,
    "start_time": "2023-07-02T16:38:20.817Z"
   },
   {
    "duration": 150,
    "start_time": "2023-07-02T16:38:38.152Z"
   },
   {
    "duration": 4,
    "start_time": "2023-07-02T16:38:48.890Z"
   },
   {
    "duration": 16,
    "start_time": "2023-07-02T16:39:12.850Z"
   },
   {
    "duration": 24,
    "start_time": "2023-07-02T16:39:26.146Z"
   },
   {
    "duration": 717,
    "start_time": "2023-07-02T16:39:33.851Z"
   },
   {
    "duration": 1506,
    "start_time": "2023-07-02T16:39:38.952Z"
   },
   {
    "duration": 14,
    "start_time": "2023-07-02T16:39:51.899Z"
   },
   {
    "duration": 16,
    "start_time": "2023-07-02T16:40:00.818Z"
   },
   {
    "duration": 22,
    "start_time": "2023-07-02T16:40:12.385Z"
   },
   {
    "duration": 9,
    "start_time": "2023-07-02T16:40:34.080Z"
   },
   {
    "duration": 1261,
    "start_time": "2023-07-02T16:40:50.409Z"
   },
   {
    "duration": 1339,
    "start_time": "2023-07-02T16:41:04.128Z"
   },
   {
    "duration": 1272,
    "start_time": "2023-07-02T16:42:34.316Z"
   },
   {
    "duration": 34,
    "start_time": "2023-07-02T16:42:47.001Z"
   },
   {
    "duration": 1299,
    "start_time": "2023-07-02T16:42:49.297Z"
   },
   {
    "duration": 1563,
    "start_time": "2023-07-02T16:43:13.411Z"
   },
   {
    "duration": 1477,
    "start_time": "2023-07-02T16:43:25.278Z"
   },
   {
    "duration": 1504,
    "start_time": "2023-07-02T16:43:33.806Z"
   },
   {
    "duration": 1562,
    "start_time": "2023-07-02T16:43:40.099Z"
   },
   {
    "duration": 28,
    "start_time": "2023-07-02T16:44:16.440Z"
   },
   {
    "duration": 1422,
    "start_time": "2023-07-02T16:44:30.646Z"
   },
   {
    "duration": 1467,
    "start_time": "2023-07-02T16:44:37.199Z"
   },
   {
    "duration": 1365,
    "start_time": "2023-07-02T16:45:20.620Z"
   },
   {
    "duration": 1222,
    "start_time": "2023-07-02T16:46:04.078Z"
   },
   {
    "duration": 2,
    "start_time": "2023-07-02T16:48:29.747Z"
   },
   {
    "duration": 4,
    "start_time": "2023-07-02T16:51:06.940Z"
   },
   {
    "duration": 5,
    "start_time": "2023-07-02T16:54:46.688Z"
   },
   {
    "duration": 2294,
    "start_time": "2023-07-02T16:56:01.145Z"
   },
   {
    "duration": 132,
    "start_time": "2023-07-02T16:57:39.511Z"
   },
   {
    "duration": 42,
    "start_time": "2023-07-02T16:57:42.552Z"
   },
   {
    "duration": 41,
    "start_time": "2023-07-02T16:57:47.508Z"
   },
   {
    "duration": 1902,
    "start_time": "2023-07-02T16:58:38.640Z"
   },
   {
    "duration": 1928,
    "start_time": "2023-07-02T16:59:07.005Z"
   },
   {
    "duration": 1951,
    "start_time": "2023-07-02T17:00:33.992Z"
   },
   {
    "duration": 1927,
    "start_time": "2023-07-02T17:01:32.054Z"
   },
   {
    "duration": 4,
    "start_time": "2023-07-02T17:03:14.030Z"
   },
   {
    "duration": 1951,
    "start_time": "2023-07-02T17:03:14.318Z"
   },
   {
    "duration": 33,
    "start_time": "2023-07-02T17:03:23.322Z"
   },
   {
    "duration": 1198,
    "start_time": "2023-07-02T17:03:30.781Z"
   },
   {
    "duration": 20,
    "start_time": "2023-07-02T17:03:34.950Z"
   },
   {
    "duration": 2014,
    "start_time": "2023-07-02T17:03:40.804Z"
   },
   {
    "duration": 29,
    "start_time": "2023-07-02T17:03:49.915Z"
   },
   {
    "duration": 297179,
    "start_time": "2023-07-02T17:04:52.811Z"
   },
   {
    "duration": 5,
    "start_time": "2023-07-02T17:14:26.241Z"
   },
   {
    "duration": 44,
    "start_time": "2023-07-02T17:14:56.935Z"
   },
   {
    "duration": 4,
    "start_time": "2023-07-02T17:18:25.606Z"
   },
   {
    "duration": 28,
    "start_time": "2023-07-02T17:20:18.633Z"
   },
   {
    "duration": 581,
    "start_time": "2023-07-02T17:21:09.268Z"
   },
   {
    "duration": 624,
    "start_time": "2023-07-02T17:21:48.577Z"
   },
   {
    "duration": 556,
    "start_time": "2023-07-02T17:22:53.074Z"
   },
   {
    "duration": 583,
    "start_time": "2023-07-02T17:23:09.625Z"
   },
   {
    "duration": 39,
    "start_time": "2023-07-02T17:24:58.070Z"
   },
   {
    "duration": 54,
    "start_time": "2023-07-02T17:27:02.797Z"
   },
   {
    "duration": 44,
    "start_time": "2023-07-02T17:27:05.179Z"
   },
   {
    "duration": 6,
    "start_time": "2023-07-02T17:27:08.983Z"
   },
   {
    "duration": 38,
    "start_time": "2023-07-02T17:27:54.745Z"
   },
   {
    "duration": 1877,
    "start_time": "2023-07-02T17:28:49.413Z"
   },
   {
    "duration": 2477,
    "start_time": "2023-07-02T17:31:46.966Z"
   },
   {
    "duration": 1555,
    "start_time": "2023-07-02T17:31:49.445Z"
   },
   {
    "duration": 3,
    "start_time": "2023-07-02T17:31:51.004Z"
   },
   {
    "duration": 1001,
    "start_time": "2023-07-02T17:31:51.009Z"
   },
   {
    "duration": 20,
    "start_time": "2023-07-02T17:31:52.012Z"
   },
   {
    "duration": 313,
    "start_time": "2023-07-02T17:31:52.034Z"
   },
   {
    "duration": 327,
    "start_time": "2023-07-02T17:31:52.354Z"
   },
   {
    "duration": 182,
    "start_time": "2023-07-02T17:31:52.682Z"
   },
   {
    "duration": 5,
    "start_time": "2023-07-02T17:31:52.866Z"
   },
   {
    "duration": 382,
    "start_time": "2023-07-02T17:31:52.872Z"
   },
   {
    "duration": 187,
    "start_time": "2023-07-02T17:31:53.256Z"
   },
   {
    "duration": 168,
    "start_time": "2023-07-02T17:31:53.444Z"
   },
   {
    "duration": 404,
    "start_time": "2023-07-02T17:31:53.613Z"
   },
   {
    "duration": 175,
    "start_time": "2023-07-02T17:31:54.020Z"
   },
   {
    "duration": 36,
    "start_time": "2023-07-02T17:31:54.197Z"
   },
   {
    "duration": 29,
    "start_time": "2023-07-02T17:31:54.235Z"
   },
   {
    "duration": 255,
    "start_time": "2023-07-02T17:31:54.266Z"
   },
   {
    "duration": 77,
    "start_time": "2023-07-02T17:31:54.522Z"
   },
   {
    "duration": 61,
    "start_time": "2023-07-02T17:31:54.600Z"
   },
   {
    "duration": 54420,
    "start_time": "2023-07-02T17:31:54.663Z"
   },
   {
    "duration": 190,
    "start_time": "2023-07-02T17:32:49.085Z"
   },
   {
    "duration": 4,
    "start_time": "2023-07-02T17:32:49.277Z"
   },
   {
    "duration": 356,
    "start_time": "2023-07-02T17:32:49.282Z"
   },
   {
    "duration": 1524,
    "start_time": "2023-07-02T17:32:49.640Z"
   },
   {
    "duration": 273,
    "start_time": "2023-07-02T17:32:51.166Z"
   },
   {
    "duration": 160,
    "start_time": "2023-07-02T17:32:51.440Z"
   },
   {
    "duration": 105,
    "start_time": "2023-07-02T17:32:51.602Z"
   },
   {
    "duration": 1206,
    "start_time": "2023-07-02T17:32:51.709Z"
   },
   {
    "duration": 225,
    "start_time": "2023-07-02T17:32:52.916Z"
   },
   {
    "duration": 4896,
    "start_time": "2023-07-02T17:32:53.143Z"
   },
   {
    "duration": 207,
    "start_time": "2023-07-02T17:32:58.041Z"
   },
   {
    "duration": 5455,
    "start_time": "2023-07-02T17:32:58.249Z"
   },
   {
    "duration": 35,
    "start_time": "2023-07-02T17:33:03.706Z"
   },
   {
    "duration": 1123,
    "start_time": "2023-07-02T17:33:03.743Z"
   },
   {
    "duration": 1487,
    "start_time": "2023-07-02T17:33:04.868Z"
   },
   {
    "duration": 9,
    "start_time": "2023-07-02T17:33:06.358Z"
   },
   {
    "duration": 143,
    "start_time": "2023-07-02T17:33:06.455Z"
   },
   {
    "duration": 0,
    "start_time": "2023-07-02T17:33:06.600Z"
   },
   {
    "duration": 5,
    "start_time": "2023-07-02T17:34:05.833Z"
   },
   {
    "duration": 25609,
    "start_time": "2023-07-02T17:34:12.649Z"
   },
   {
    "duration": 2440,
    "start_time": "2023-07-02T17:36:49.630Z"
   },
   {
    "duration": 1473,
    "start_time": "2023-07-02T17:36:52.073Z"
   },
   {
    "duration": 7,
    "start_time": "2023-07-02T17:36:53.548Z"
   },
   {
    "duration": 993,
    "start_time": "2023-07-02T17:36:53.557Z"
   },
   {
    "duration": 24,
    "start_time": "2023-07-02T17:36:54.558Z"
   },
   {
    "duration": 315,
    "start_time": "2023-07-02T17:36:54.584Z"
   },
   {
    "duration": 326,
    "start_time": "2023-07-02T17:36:54.901Z"
   },
   {
    "duration": 220,
    "start_time": "2023-07-02T17:36:55.230Z"
   },
   {
    "duration": 19,
    "start_time": "2023-07-02T17:36:55.451Z"
   },
   {
    "duration": 370,
    "start_time": "2023-07-02T17:36:55.472Z"
   },
   {
    "duration": 192,
    "start_time": "2023-07-02T17:36:55.844Z"
   },
   {
    "duration": 163,
    "start_time": "2023-07-02T17:36:56.037Z"
   },
   {
    "duration": 489,
    "start_time": "2023-07-02T17:36:56.202Z"
   },
   {
    "duration": 194,
    "start_time": "2023-07-02T17:36:56.695Z"
   },
   {
    "duration": 33,
    "start_time": "2023-07-02T17:36:56.891Z"
   },
   {
    "duration": 44,
    "start_time": "2023-07-02T17:36:56.926Z"
   },
   {
    "duration": 262,
    "start_time": "2023-07-02T17:36:56.971Z"
   },
   {
    "duration": 95,
    "start_time": "2023-07-02T17:36:57.235Z"
   },
   {
    "duration": 81,
    "start_time": "2023-07-02T17:36:57.332Z"
   },
   {
    "duration": 2440,
    "start_time": "2023-07-02T17:37:48.789Z"
   },
   {
    "duration": 1647,
    "start_time": "2023-07-02T17:37:51.231Z"
   },
   {
    "duration": 3,
    "start_time": "2023-07-02T17:37:52.880Z"
   },
   {
    "duration": 1084,
    "start_time": "2023-07-02T17:37:52.885Z"
   },
   {
    "duration": 28,
    "start_time": "2023-07-02T17:37:53.974Z"
   },
   {
    "duration": 364,
    "start_time": "2023-07-02T17:37:54.007Z"
   },
   {
    "duration": 342,
    "start_time": "2023-07-02T17:37:54.375Z"
   },
   {
    "duration": 236,
    "start_time": "2023-07-02T17:37:54.720Z"
   },
   {
    "duration": 7,
    "start_time": "2023-07-02T17:37:54.964Z"
   },
   {
    "duration": 391,
    "start_time": "2023-07-02T17:37:54.973Z"
   },
   {
    "duration": 189,
    "start_time": "2023-07-02T17:37:55.367Z"
   },
   {
    "duration": 152,
    "start_time": "2023-07-02T17:37:55.566Z"
   },
   {
    "duration": 451,
    "start_time": "2023-07-02T17:37:55.720Z"
   },
   {
    "duration": 187,
    "start_time": "2023-07-02T17:37:56.175Z"
   },
   {
    "duration": 39,
    "start_time": "2023-07-02T17:37:56.369Z"
   },
   {
    "duration": 23,
    "start_time": "2023-07-02T17:37:56.410Z"
   },
   {
    "duration": 295,
    "start_time": "2023-07-02T17:37:56.435Z"
   },
   {
    "duration": 103,
    "start_time": "2023-07-02T17:37:56.732Z"
   },
   {
    "duration": 65,
    "start_time": "2023-07-02T17:37:56.838Z"
   },
   {
    "duration": 58485,
    "start_time": "2023-07-02T17:37:56.905Z"
   },
   {
    "duration": 209,
    "start_time": "2023-07-02T17:38:55.392Z"
   },
   {
    "duration": 4,
    "start_time": "2023-07-02T17:38:55.603Z"
   },
   {
    "duration": 383,
    "start_time": "2023-07-02T17:38:55.609Z"
   },
   {
    "duration": 1613,
    "start_time": "2023-07-02T17:38:55.994Z"
   },
   {
    "duration": 289,
    "start_time": "2023-07-02T17:38:57.610Z"
   },
   {
    "duration": 182,
    "start_time": "2023-07-02T17:38:57.901Z"
   },
   {
    "duration": 134,
    "start_time": "2023-07-02T17:38:58.085Z"
   },
   {
    "duration": 1105,
    "start_time": "2023-07-02T17:38:58.221Z"
   },
   {
    "duration": 261,
    "start_time": "2023-07-02T17:38:59.328Z"
   },
   {
    "duration": 5132,
    "start_time": "2023-07-02T17:38:59.591Z"
   },
   {
    "duration": 242,
    "start_time": "2023-07-02T17:39:04.725Z"
   },
   {
    "duration": 5847,
    "start_time": "2023-07-02T17:39:04.969Z"
   },
   {
    "duration": 51,
    "start_time": "2023-07-02T17:39:10.819Z"
   },
   {
    "duration": 1152,
    "start_time": "2023-07-02T17:39:10.872Z"
   },
   {
    "duration": 126,
    "start_time": "2023-07-02T17:39:12.025Z"
   },
   {
    "duration": 0,
    "start_time": "2023-07-02T17:39:12.154Z"
   },
   {
    "duration": 0,
    "start_time": "2023-07-02T17:39:12.155Z"
   },
   {
    "duration": 0,
    "start_time": "2023-07-02T17:39:12.157Z"
   },
   {
    "duration": 3396,
    "start_time": "2023-07-02T17:42:12.233Z"
   },
   {
    "duration": 1803,
    "start_time": "2023-07-02T17:42:15.632Z"
   },
   {
    "duration": 4,
    "start_time": "2023-07-02T17:42:17.437Z"
   },
   {
    "duration": 1601,
    "start_time": "2023-07-02T17:42:17.443Z"
   },
   {
    "duration": 19,
    "start_time": "2023-07-02T17:42:19.047Z"
   },
   {
    "duration": 321,
    "start_time": "2023-07-02T17:42:19.067Z"
   },
   {
    "duration": 354,
    "start_time": "2023-07-02T17:42:19.390Z"
   },
   {
    "duration": 198,
    "start_time": "2023-07-02T17:42:19.746Z"
   },
   {
    "duration": 19,
    "start_time": "2023-07-02T17:42:19.946Z"
   },
   {
    "duration": 377,
    "start_time": "2023-07-02T17:42:19.967Z"
   },
   {
    "duration": 190,
    "start_time": "2023-07-02T17:42:20.345Z"
   },
   {
    "duration": 160,
    "start_time": "2023-07-02T17:42:20.537Z"
   },
   {
    "duration": 438,
    "start_time": "2023-07-02T17:42:20.699Z"
   },
   {
    "duration": 189,
    "start_time": "2023-07-02T17:42:21.140Z"
   },
   {
    "duration": 56,
    "start_time": "2023-07-02T17:42:21.331Z"
   },
   {
    "duration": 15,
    "start_time": "2023-07-02T17:42:21.389Z"
   },
   {
    "duration": 227,
    "start_time": "2023-07-02T17:42:21.406Z"
   },
   {
    "duration": 83,
    "start_time": "2023-07-02T17:42:21.635Z"
   },
   {
    "duration": 62,
    "start_time": "2023-07-02T17:42:21.720Z"
   },
   {
    "duration": 56855,
    "start_time": "2023-07-02T17:42:21.784Z"
   },
   {
    "duration": 209,
    "start_time": "2023-07-02T17:43:18.641Z"
   },
   {
    "duration": 13,
    "start_time": "2023-07-02T17:43:18.854Z"
   },
   {
    "duration": 397,
    "start_time": "2023-07-02T17:43:18.869Z"
   },
   {
    "duration": 1598,
    "start_time": "2023-07-02T17:43:19.268Z"
   },
   {
    "duration": 247,
    "start_time": "2023-07-02T17:43:20.868Z"
   },
   {
    "duration": 180,
    "start_time": "2023-07-02T17:43:21.117Z"
   },
   {
    "duration": 110,
    "start_time": "2023-07-02T17:43:21.299Z"
   },
   {
    "duration": 1137,
    "start_time": "2023-07-02T17:43:21.411Z"
   },
   {
    "duration": 242,
    "start_time": "2023-07-02T17:43:22.550Z"
   },
   {
    "duration": 5173,
    "start_time": "2023-07-02T17:43:22.793Z"
   },
   {
    "duration": 226,
    "start_time": "2023-07-02T17:43:27.968Z"
   },
   {
    "duration": 5626,
    "start_time": "2023-07-02T17:43:28.196Z"
   },
   {
    "duration": 48,
    "start_time": "2023-07-02T17:43:33.824Z"
   },
   {
    "duration": 1118,
    "start_time": "2023-07-02T17:43:33.874Z"
   },
   {
    "duration": 1267,
    "start_time": "2023-07-02T17:43:34.994Z"
   },
   {
    "duration": 5,
    "start_time": "2023-07-02T17:43:36.264Z"
   },
   {
    "duration": 1872,
    "start_time": "2023-07-02T17:43:36.272Z"
   },
   {
    "duration": 0,
    "start_time": "2023-07-02T17:43:38.146Z"
   },
   {
    "duration": 96882,
    "start_time": "2023-07-02T17:43:49.032Z"
   },
   {
    "duration": 4814,
    "start_time": "2023-07-02T17:45:27.252Z"
   },
   {
    "duration": 2348,
    "start_time": "2023-07-02T17:57:48.641Z"
   },
   {
    "duration": 1460,
    "start_time": "2023-07-02T17:57:50.991Z"
   },
   {
    "duration": 5,
    "start_time": "2023-07-02T17:57:52.454Z"
   },
   {
    "duration": 913,
    "start_time": "2023-07-02T17:57:52.462Z"
   },
   {
    "duration": 18,
    "start_time": "2023-07-02T17:57:53.377Z"
   },
   {
    "duration": 319,
    "start_time": "2023-07-02T17:57:53.396Z"
   },
   {
    "duration": 357,
    "start_time": "2023-07-02T17:57:53.716Z"
   },
   {
    "duration": 187,
    "start_time": "2023-07-02T17:57:54.074Z"
   },
   {
    "duration": 7,
    "start_time": "2023-07-02T17:57:54.263Z"
   },
   {
    "duration": 371,
    "start_time": "2023-07-02T17:57:54.272Z"
   },
   {
    "duration": 190,
    "start_time": "2023-07-02T17:57:54.644Z"
   },
   {
    "duration": 165,
    "start_time": "2023-07-02T17:57:54.836Z"
   },
   {
    "duration": 460,
    "start_time": "2023-07-02T17:57:55.003Z"
   },
   {
    "duration": 177,
    "start_time": "2023-07-02T17:57:55.466Z"
   },
   {
    "duration": 39,
    "start_time": "2023-07-02T17:57:55.654Z"
   },
   {
    "duration": 15,
    "start_time": "2023-07-02T17:57:55.695Z"
   },
   {
    "duration": 258,
    "start_time": "2023-07-02T17:57:55.712Z"
   },
   {
    "duration": 87,
    "start_time": "2023-07-02T17:57:55.972Z"
   },
   {
    "duration": 48,
    "start_time": "2023-07-02T17:57:56.061Z"
   },
   {
    "duration": 57760,
    "start_time": "2023-07-02T17:57:56.111Z"
   },
   {
    "duration": 214,
    "start_time": "2023-07-02T17:58:53.873Z"
   },
   {
    "duration": 3,
    "start_time": "2023-07-02T17:58:54.089Z"
   },
   {
    "duration": 392,
    "start_time": "2023-07-02T17:58:54.094Z"
   },
   {
    "duration": 1523,
    "start_time": "2023-07-02T17:58:54.488Z"
   },
   {
    "duration": 263,
    "start_time": "2023-07-02T17:58:56.012Z"
   },
   {
    "duration": 152,
    "start_time": "2023-07-02T17:58:56.277Z"
   },
   {
    "duration": 111,
    "start_time": "2023-07-02T17:58:56.431Z"
   },
   {
    "duration": 1198,
    "start_time": "2023-07-02T17:58:56.544Z"
   },
   {
    "duration": 226,
    "start_time": "2023-07-02T17:58:57.744Z"
   },
   {
    "duration": 4744,
    "start_time": "2023-07-02T17:58:57.971Z"
   },
   {
    "duration": 208,
    "start_time": "2023-07-02T17:59:02.717Z"
   },
   {
    "duration": 5653,
    "start_time": "2023-07-02T17:59:02.927Z"
   },
   {
    "duration": 34,
    "start_time": "2023-07-02T17:59:08.582Z"
   },
   {
    "duration": 1143,
    "start_time": "2023-07-02T17:59:08.618Z"
   },
   {
    "duration": 1301,
    "start_time": "2023-07-02T17:59:09.770Z"
   },
   {
    "duration": 94,
    "start_time": "2023-07-02T17:59:11.075Z"
   },
   {
    "duration": 275181,
    "start_time": "2023-07-02T17:59:11.178Z"
   },
   {
    "duration": 13416,
    "start_time": "2023-07-02T18:03:46.361Z"
   },
   {
    "duration": 8,
    "start_time": "2023-07-02T18:04:05.336Z"
   },
   {
    "duration": 277014,
    "start_time": "2023-07-02T18:04:19.142Z"
   },
   {
    "duration": 7,
    "start_time": "2023-07-02T18:08:56.158Z"
   },
   {
    "duration": 0,
    "start_time": "2023-07-02T18:08:56.167Z"
   },
   {
    "duration": 21870,
    "start_time": "2023-07-02T18:09:12.087Z"
   },
   {
    "duration": 131,
    "start_time": "2023-07-02T18:09:33.959Z"
   },
   {
    "duration": 5,
    "start_time": "2023-07-02T18:09:42.705Z"
   },
   {
    "duration": 3,
    "start_time": "2023-07-02T18:10:10.726Z"
   },
   {
    "duration": 23278,
    "start_time": "2023-07-02T18:10:27.516Z"
   },
   {
    "duration": 1202,
    "start_time": "2023-07-02T18:10:50.853Z"
   },
   {
    "duration": 1897,
    "start_time": "2023-07-02T18:10:52.057Z"
   },
   {
    "duration": 1305,
    "start_time": "2023-07-02T18:10:53.959Z"
   },
   {
    "duration": 2395,
    "start_time": "2023-07-03T12:28:09.547Z"
   },
   {
    "duration": 1260,
    "start_time": "2023-07-03T12:28:11.944Z"
   },
   {
    "duration": 7,
    "start_time": "2023-07-03T12:28:13.206Z"
   },
   {
    "duration": 883,
    "start_time": "2023-07-03T12:28:13.216Z"
   },
   {
    "duration": 23,
    "start_time": "2023-07-03T12:28:14.100Z"
   },
   {
    "duration": 249,
    "start_time": "2023-07-03T12:28:14.124Z"
   },
   {
    "duration": 314,
    "start_time": "2023-07-03T12:28:14.374Z"
   },
   {
    "duration": 187,
    "start_time": "2023-07-03T12:28:14.690Z"
   },
   {
    "duration": 6,
    "start_time": "2023-07-03T12:28:14.878Z"
   },
   {
    "duration": 374,
    "start_time": "2023-07-03T12:28:14.886Z"
   },
   {
    "duration": 171,
    "start_time": "2023-07-03T12:28:15.262Z"
   },
   {
    "duration": 149,
    "start_time": "2023-07-03T12:28:15.434Z"
   },
   {
    "duration": 394,
    "start_time": "2023-07-03T12:28:15.585Z"
   },
   {
    "duration": 160,
    "start_time": "2023-07-03T12:28:15.981Z"
   },
   {
    "duration": 28,
    "start_time": "2023-07-03T12:28:16.143Z"
   },
   {
    "duration": 15,
    "start_time": "2023-07-03T12:28:16.173Z"
   },
   {
    "duration": 235,
    "start_time": "2023-07-03T12:28:16.190Z"
   },
   {
    "duration": 66,
    "start_time": "2023-07-03T12:28:16.427Z"
   },
   {
    "duration": 51,
    "start_time": "2023-07-03T12:28:16.495Z"
   },
   {
    "duration": 54511,
    "start_time": "2023-07-03T12:28:16.547Z"
   },
   {
    "duration": 193,
    "start_time": "2023-07-03T12:29:11.060Z"
   },
   {
    "duration": 3,
    "start_time": "2023-07-03T12:29:11.255Z"
   },
   {
    "duration": 346,
    "start_time": "2023-07-03T12:29:11.260Z"
   },
   {
    "duration": 1519,
    "start_time": "2023-07-03T12:29:11.608Z"
   },
   {
    "duration": 237,
    "start_time": "2023-07-03T12:29:13.129Z"
   },
   {
    "duration": 173,
    "start_time": "2023-07-03T12:29:13.368Z"
   },
   {
    "duration": 86,
    "start_time": "2023-07-03T12:29:13.543Z"
   },
   {
    "duration": 1072,
    "start_time": "2023-07-03T12:29:13.636Z"
   },
   {
    "duration": 210,
    "start_time": "2023-07-03T12:29:14.710Z"
   },
   {
    "duration": 4697,
    "start_time": "2023-07-03T12:29:14.922Z"
   },
   {
    "duration": 226,
    "start_time": "2023-07-03T12:29:19.622Z"
   },
   {
    "duration": 5123,
    "start_time": "2023-07-03T12:29:19.850Z"
   },
   {
    "duration": 167,
    "start_time": "2023-07-03T12:29:24.975Z"
   },
   {
    "duration": 43,
    "start_time": "2023-07-03T12:59:11.450Z"
   },
   {
    "duration": 5,
    "start_time": "2023-07-03T13:04:01.578Z"
   },
   {
    "duration": 2328,
    "start_time": "2023-07-03T13:04:08.040Z"
   },
   {
    "duration": 1588,
    "start_time": "2023-07-03T13:04:10.370Z"
   },
   {
    "duration": 2,
    "start_time": "2023-07-03T13:04:11.960Z"
   },
   {
    "duration": 931,
    "start_time": "2023-07-03T13:04:11.964Z"
   },
   {
    "duration": 16,
    "start_time": "2023-07-03T13:04:12.897Z"
   },
   {
    "duration": 220,
    "start_time": "2023-07-03T13:04:12.914Z"
   },
   {
    "duration": 210,
    "start_time": "2023-07-03T13:04:13.136Z"
   },
   {
    "duration": 122,
    "start_time": "2023-07-03T13:04:13.348Z"
   },
   {
    "duration": 4,
    "start_time": "2023-07-03T13:04:13.472Z"
   },
   {
    "duration": 258,
    "start_time": "2023-07-03T13:04:13.478Z"
   },
   {
    "duration": 147,
    "start_time": "2023-07-03T13:04:13.737Z"
   },
   {
    "duration": 103,
    "start_time": "2023-07-03T13:04:13.886Z"
   },
   {
    "duration": 327,
    "start_time": "2023-07-03T13:04:13.991Z"
   },
   {
    "duration": 142,
    "start_time": "2023-07-03T13:04:14.320Z"
   },
   {
    "duration": 35,
    "start_time": "2023-07-03T13:04:14.464Z"
   },
   {
    "duration": 12,
    "start_time": "2023-07-03T13:04:14.501Z"
   },
   {
    "duration": 188,
    "start_time": "2023-07-03T13:04:14.515Z"
   },
   {
    "duration": 61,
    "start_time": "2023-07-03T13:04:14.704Z"
   },
   {
    "duration": 50,
    "start_time": "2023-07-03T13:04:14.766Z"
   },
   {
    "duration": 43296,
    "start_time": "2023-07-03T13:04:14.817Z"
   },
   {
    "duration": 144,
    "start_time": "2023-07-03T13:04:58.115Z"
   },
   {
    "duration": 3,
    "start_time": "2023-07-03T13:04:58.260Z"
   },
   {
    "duration": 291,
    "start_time": "2023-07-03T13:04:58.265Z"
   },
   {
    "duration": 769,
    "start_time": "2023-07-03T13:04:58.557Z"
   },
   {
    "duration": 180,
    "start_time": "2023-07-03T13:04:59.328Z"
   },
   {
    "duration": 112,
    "start_time": "2023-07-03T13:04:59.510Z"
   },
   {
    "duration": 78,
    "start_time": "2023-07-03T13:04:59.623Z"
   },
   {
    "duration": 816,
    "start_time": "2023-07-03T13:04:59.702Z"
   },
   {
    "duration": 133,
    "start_time": "2023-07-03T13:06:52.679Z"
   },
   {
    "duration": 168,
    "start_time": "2023-07-03T13:07:13.993Z"
   },
   {
    "duration": 4588,
    "start_time": "2023-07-03T13:07:14.398Z"
   },
   {
    "duration": 133,
    "start_time": "2023-07-03T13:07:18.988Z"
   },
   {
    "duration": 91,
    "start_time": "2023-07-03T13:09:21.899Z"
   },
   {
    "duration": 29,
    "start_time": "2023-07-03T13:09:32.191Z"
   },
   {
    "duration": 54,
    "start_time": "2023-07-03T13:09:41.508Z"
   },
   {
    "duration": 40,
    "start_time": "2023-07-03T13:10:02.905Z"
   },
   {
    "duration": 117,
    "start_time": "2023-07-03T13:10:25.229Z"
   },
   {
    "duration": 5,
    "start_time": "2023-07-03T13:17:22.652Z"
   },
   {
    "duration": 77,
    "start_time": "2023-07-03T13:20:31.005Z"
   },
   {
    "duration": 95,
    "start_time": "2023-07-03T13:20:32.015Z"
   },
   {
    "duration": 20,
    "start_time": "2023-07-03T13:20:37.803Z"
   },
   {
    "duration": 751,
    "start_time": "2023-07-03T13:24:18.932Z"
   },
   {
    "duration": 29,
    "start_time": "2023-07-03T13:24:54.993Z"
   },
   {
    "duration": 977,
    "start_time": "2023-07-03T13:25:21.255Z"
   },
   {
    "duration": 4,
    "start_time": "2023-07-03T13:31:32.390Z"
   }
  ],
  "kernelspec": {
   "display_name": "Python 3 (ipykernel)",
   "language": "python",
   "name": "python3"
  },
  "language_info": {
   "codemirror_mode": {
    "name": "ipython",
    "version": 3
   },
   "file_extension": ".py",
   "mimetype": "text/x-python",
   "name": "python",
   "nbconvert_exporter": "python",
   "pygments_lexer": "ipython3",
   "version": "3.9.13"
  },
  "toc": {
   "base_numbering": 1,
   "nav_menu": {},
   "number_sections": true,
   "sideBar": true,
   "skip_h1_title": true,
   "title_cell": "Table of Contents",
   "title_sidebar": "Contents",
   "toc_cell": false,
   "toc_position": {},
   "toc_section_display": true,
   "toc_window_display": false
  }
 },
 "nbformat": 4,
 "nbformat_minor": 2
}
